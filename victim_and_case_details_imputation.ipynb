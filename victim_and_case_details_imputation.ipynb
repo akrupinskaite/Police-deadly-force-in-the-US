{
 "cells": [
  {
   "cell_type": "markdown",
   "source": [
    "# Victim and case related features cleaning\n",
    "Features that have missing values and are victim related:\n",
    "- race\n",
    "- race source\n",
    "- age\n",
    "- name\n",
    "- gender\n",
    "\n",
    "Features that have missing values and are case related:\n",
    "- armed_with\n",
    "- threat_type\n",
    "- flee_status\n",
    "\n",
    "To impute some of the features bigger dataset was retrieved;\n",
    "- Dataset is called Fatal Encounters\n",
    "- Fatal Encounters is a database of people killed during interactions with police\n",
    "- Fatal Encounters link: https://fatalencounters.org\n",
    "\n",
    "Imputation strategy:\n",
    "- Fatal encounters database is used to retrieve missing values.\n",
    "- If feature is not found in Fatal encounters database, where possible computational way of imputation is used, such as guessing gender and race.\n",
    "- Imputation quality is evaluated manually and comparing already known values with potentially imputed values or computationally for example using fuzzywuzzy library.\n",
    "- After imputation, retrieved values are normalized according to washington post dataset readme.\n",
    "- Data about the values that were imputed is noted in a separate column, where initially received data is flagged as \"Washington_Post\". Imputed data source is identified, such as \"Fatal_Encounters\".\n",
    "- Missing Age data values are filled using mode of feature, to reduce impact to the statistical features.\n",
    "- Other missing features are filled with \"undetermined\""
   ],
   "metadata": {
    "collapsed": false
   },
   "id": "5283401ac9474e8a"
  },
  {
   "cell_type": "code",
   "outputs": [],
   "source": [
    "# %load_ext pycodestyle_magic"
   ],
   "metadata": {
    "collapsed": false,
    "ExecuteTime": {
     "end_time": "2024-04-02T10:14:18.662420Z",
     "start_time": "2024-04-02T10:14:17.124185Z"
    }
   },
   "id": "ead610472af7befd",
   "execution_count": 1
  },
  {
   "cell_type": "code",
   "outputs": [],
   "source": [
    "# %pycodestyle_on"
   ],
   "metadata": {
    "collapsed": false,
    "ExecuteTime": {
     "end_time": "2024-04-02T10:14:18.741232Z",
     "start_time": "2024-04-02T10:14:18.656008Z"
    }
   },
   "id": "7fd59606129fdafb",
   "execution_count": 2
  },
  {
   "cell_type": "code",
   "execution_count": 3,
   "id": "initial_id",
   "metadata": {
    "collapsed": true,
    "ExecuteTime": {
     "end_time": "2024-04-02T10:14:22.958041Z",
     "start_time": "2024-04-02T10:14:18.736725Z"
    }
   },
   "outputs": [],
   "source": [
    "# Necessary libraries are imported\n",
    "import pandas as pd\n",
    "import numpy as np\n",
    "from fuzzywuzzy import fuzz\n",
    "from ethnicolr import census_ln\n",
    "from scipy.stats import jarque_bera\n",
    "import matplotlib.pyplot as plt\n",
    "from scipy import stats\n",
    "from scipy.stats import zscore, shapiro\n",
    "from sklearn.cluster import DBSCAN\n",
    "from sklearn.ensemble import IsolationForest\n",
    "import folium\n",
    "import seaborn as sns\n",
    "from scipy.stats import kstest"
   ]
  },
  {
   "cell_type": "code",
   "outputs": [
    {
     "data": {
      "text/plain": "          date threat_type flee_status armed_with           city  \\\nid                                                                 \n3   2015-01-02       point         not        gun        Shelton   \n4   2015-01-02       point         not        gun          Aloha   \n5   2015-01-03        move         not    unarmed        Wichita   \n8   2015-01-04       point         not    replica  San Francisco   \n9   2015-01-04       point         not      other          Evans   \n\n           county state   latitude   longitude location_precision  \\\nid                                                                  \n3           Mason    WA  47.246826 -123.121592      not_available   \n4      Washington    OR  45.487421 -122.891696      not_available   \n5        Sedgwick    KS  37.694766  -97.280554      not_available   \n8   San Francisco    CA  37.762910 -122.422001      not_available   \n9            Weld    CO  40.383937 -104.692261      not_available   \n\n                  name   age gender race    race_source  \\\nid                                                        \n3           Tim Elliot  53.0   male    A  not_available   \n4     Lewis Lee Lembke  47.0   male    W  not_available   \n5   John Paul Quintero  23.0   male    H  not_available   \n8      Matthew Hoffman  32.0   male    W  not_available   \n9    Michael Rodriguez  39.0   male    H  not_available   \n\n    was_mental_illness_related  body_camera agency_ids  \nid                                                      \n3                         True        False         73  \n4                        False        False         70  \n5                        False        False        238  \n8                         True        False        196  \n9                        False        False        473  ",
      "text/html": "<div>\n<style scoped>\n    .dataframe tbody tr th:only-of-type {\n        vertical-align: middle;\n    }\n\n    .dataframe tbody tr th {\n        vertical-align: top;\n    }\n\n    .dataframe thead th {\n        text-align: right;\n    }\n</style>\n<table border=\"1\" class=\"dataframe\">\n  <thead>\n    <tr style=\"text-align: right;\">\n      <th></th>\n      <th>date</th>\n      <th>threat_type</th>\n      <th>flee_status</th>\n      <th>armed_with</th>\n      <th>city</th>\n      <th>county</th>\n      <th>state</th>\n      <th>latitude</th>\n      <th>longitude</th>\n      <th>location_precision</th>\n      <th>name</th>\n      <th>age</th>\n      <th>gender</th>\n      <th>race</th>\n      <th>race_source</th>\n      <th>was_mental_illness_related</th>\n      <th>body_camera</th>\n      <th>agency_ids</th>\n    </tr>\n    <tr>\n      <th>id</th>\n      <th></th>\n      <th></th>\n      <th></th>\n      <th></th>\n      <th></th>\n      <th></th>\n      <th></th>\n      <th></th>\n      <th></th>\n      <th></th>\n      <th></th>\n      <th></th>\n      <th></th>\n      <th></th>\n      <th></th>\n      <th></th>\n      <th></th>\n      <th></th>\n    </tr>\n  </thead>\n  <tbody>\n    <tr>\n      <th>3</th>\n      <td>2015-01-02</td>\n      <td>point</td>\n      <td>not</td>\n      <td>gun</td>\n      <td>Shelton</td>\n      <td>Mason</td>\n      <td>WA</td>\n      <td>47.246826</td>\n      <td>-123.121592</td>\n      <td>not_available</td>\n      <td>Tim Elliot</td>\n      <td>53.0</td>\n      <td>male</td>\n      <td>A</td>\n      <td>not_available</td>\n      <td>True</td>\n      <td>False</td>\n      <td>73</td>\n    </tr>\n    <tr>\n      <th>4</th>\n      <td>2015-01-02</td>\n      <td>point</td>\n      <td>not</td>\n      <td>gun</td>\n      <td>Aloha</td>\n      <td>Washington</td>\n      <td>OR</td>\n      <td>45.487421</td>\n      <td>-122.891696</td>\n      <td>not_available</td>\n      <td>Lewis Lee Lembke</td>\n      <td>47.0</td>\n      <td>male</td>\n      <td>W</td>\n      <td>not_available</td>\n      <td>False</td>\n      <td>False</td>\n      <td>70</td>\n    </tr>\n    <tr>\n      <th>5</th>\n      <td>2015-01-03</td>\n      <td>move</td>\n      <td>not</td>\n      <td>unarmed</td>\n      <td>Wichita</td>\n      <td>Sedgwick</td>\n      <td>KS</td>\n      <td>37.694766</td>\n      <td>-97.280554</td>\n      <td>not_available</td>\n      <td>John Paul Quintero</td>\n      <td>23.0</td>\n      <td>male</td>\n      <td>H</td>\n      <td>not_available</td>\n      <td>False</td>\n      <td>False</td>\n      <td>238</td>\n    </tr>\n    <tr>\n      <th>8</th>\n      <td>2015-01-04</td>\n      <td>point</td>\n      <td>not</td>\n      <td>replica</td>\n      <td>San Francisco</td>\n      <td>San Francisco</td>\n      <td>CA</td>\n      <td>37.762910</td>\n      <td>-122.422001</td>\n      <td>not_available</td>\n      <td>Matthew Hoffman</td>\n      <td>32.0</td>\n      <td>male</td>\n      <td>W</td>\n      <td>not_available</td>\n      <td>True</td>\n      <td>False</td>\n      <td>196</td>\n    </tr>\n    <tr>\n      <th>9</th>\n      <td>2015-01-04</td>\n      <td>point</td>\n      <td>not</td>\n      <td>other</td>\n      <td>Evans</td>\n      <td>Weld</td>\n      <td>CO</td>\n      <td>40.383937</td>\n      <td>-104.692261</td>\n      <td>not_available</td>\n      <td>Michael Rodriguez</td>\n      <td>39.0</td>\n      <td>male</td>\n      <td>H</td>\n      <td>not_available</td>\n      <td>False</td>\n      <td>False</td>\n      <td>473</td>\n    </tr>\n  </tbody>\n</table>\n</div>"
     },
     "execution_count": 4,
     "metadata": {},
     "output_type": "execute_result"
    }
   ],
   "source": [
    "# Importing dataset with imputed location data\n",
    "washington_post = pd.read_csv(\n",
    "    \"washington_post_v3_clean.csv\", index_col=0, header=0\n",
    ")\n",
    "washington_post.head()"
   ],
   "metadata": {
    "collapsed": false,
    "ExecuteTime": {
     "end_time": "2024-04-02T10:14:23.031054Z",
     "start_time": "2024-04-02T10:14:22.762468Z"
    }
   },
   "id": "f63050f308bf91ab",
   "execution_count": 4
  },
  {
   "cell_type": "code",
   "outputs": [
    {
     "data": {
      "text/plain": "                              Name  Age  Gender                     Race  \\\nUnique ID                                                                  \n31495.0           Ashley McClendon   28  Female   African-American/Black   \n31496.0    Name withheld by police  NaN  Female         Race unspecified   \n31497.0    Name withheld by police  NaN    Male         Race unspecified   \n31491.0       Johnny C. Martin Jr.   36    Male         Race unspecified   \n31492.0              Dennis McHugh   44    Male  European-American/White   \n\n            Race with imputations Imputation probability  \\\nUnique ID                                                  \n31495.0    African-American/Black            Not imputed   \n31496.0                       NaN                    NaN   \n31497.0                       NaN                    NaN   \n31491.0                       NaN                    NaN   \n31492.0                       NaN                    NaN   \n\n                              URL of image (PLS NO HOTLINKS)  \\\nUnique ID                                                      \n31495.0    https://fatalencounters.org/wp-content/uploads...   \n31496.0                                                  NaN   \n31497.0                                                  NaN   \n31491.0                                                  NaN   \n31492.0                                                  NaN   \n\n           Date of injury resulting in death (month/day/year)  \\\nUnique ID                                                       \n31495.0                                           12/31/2021    \n31496.0                                           12/31/2021    \n31497.0                                           12/31/2021    \n31491.0                                           12/30/2021    \n31492.0                                           12/30/2021    \n\n               Location of injury (address) Location of death (city)  ...  \\\nUnique ID                                                             ...   \n31495.0    South Pearl Street and Tory Road                 Pageland  ...   \n31496.0                    1500 21st Street                 Meridian  ...   \n31497.0                    1500 21st Street                 Meridian  ...   \n31491.0                       Martinez Lane                 Nicholls  ...   \n31492.0                    435 E 4th Street                 Beaumont  ...   \n\n          URL Temp                                  Brief description  \\\nUnique ID                                                               \n31495.0        NaN  Ashley McClendon's boyfriend, 33-year-old Marc...   \n31496.0        NaN  Police responded to a man causing a disturbanc...   \n31497.0        NaN  Police responded to a man causing a disturbanc...   \n31491.0        NaN  Johnny C. Martin, Jr. arrived at a gas station...   \n31492.0        NaN  Deputies responded to a domestic violence call...   \n\n          Dispositions/Exclusions INTERNAL USE, NOT FOR ANALYSIS  \\\nUnique ID                                                          \n31495.0                                             Criminal       \n31496.0                                Pending investigation       \n31497.0                                Pending investigation       \n31491.0                                              Suicide       \n31492.0                                Pending investigation       \n\n          Intended use of force (Developing)  \\\nUnique ID                                      \n31495.0                              Pursuit   \n31496.0                         Deadly force   \n31497.0                         Deadly force   \n31491.0                              Suicide   \n31492.0                         Deadly force   \n\n                                    Supporting document link  \\\nUnique ID                                                      \n31495.0    https://www.wsoctv.com/news/1-person-dead-afte...   \n31496.0    https://www.wtok.com/2022/01/01/officer-involv...   \n31497.0    https://www.wtok.com/2022/01/01/officer-involv...   \n31491.0    https://gbi.georgia.gov/press-releases/2021-12...   \n31492.0    https://kesq.com/news/2021/12/31/officer-invol...   \n\n           Foreknowledge of mental illness? INTERNAL USE, NOT FOR ANALYSIS  \\\nUnique ID                                                                    \n31495.0                                                   No                 \n31496.0                                                   No                 \n31497.0                                                   No                 \n31491.0                                                   No                 \n31492.0                                                   No                 \n\n          Unnamed: 32 Unnamed: 33  Unique ID formula  \\\nUnique ID                                              \n31495.0           NaN         NaN                NaN   \n31496.0           NaN         NaN                NaN   \n31497.0           NaN         NaN                NaN   \n31491.0           NaN         NaN                NaN   \n31492.0           NaN         NaN                NaN   \n\n          Unique identifier (redundant)  \nUnique ID                                \n31495.0                         31495.0  \n31496.0                         31496.0  \n31497.0                         31497.0  \n31491.0                         31491.0  \n31492.0                         31492.0  \n\n[5 rows x 35 columns]",
      "text/html": "<div>\n<style scoped>\n    .dataframe tbody tr th:only-of-type {\n        vertical-align: middle;\n    }\n\n    .dataframe tbody tr th {\n        vertical-align: top;\n    }\n\n    .dataframe thead th {\n        text-align: right;\n    }\n</style>\n<table border=\"1\" class=\"dataframe\">\n  <thead>\n    <tr style=\"text-align: right;\">\n      <th></th>\n      <th>Name</th>\n      <th>Age</th>\n      <th>Gender</th>\n      <th>Race</th>\n      <th>Race with imputations</th>\n      <th>Imputation probability</th>\n      <th>URL of image (PLS NO HOTLINKS)</th>\n      <th>Date of injury resulting in death (month/day/year)</th>\n      <th>Location of injury (address)</th>\n      <th>Location of death (city)</th>\n      <th>...</th>\n      <th>URL Temp</th>\n      <th>Brief description</th>\n      <th>Dispositions/Exclusions INTERNAL USE, NOT FOR ANALYSIS</th>\n      <th>Intended use of force (Developing)</th>\n      <th>Supporting document link</th>\n      <th>Foreknowledge of mental illness? INTERNAL USE, NOT FOR ANALYSIS</th>\n      <th>Unnamed: 32</th>\n      <th>Unnamed: 33</th>\n      <th>Unique ID formula</th>\n      <th>Unique identifier (redundant)</th>\n    </tr>\n    <tr>\n      <th>Unique ID</th>\n      <th></th>\n      <th></th>\n      <th></th>\n      <th></th>\n      <th></th>\n      <th></th>\n      <th></th>\n      <th></th>\n      <th></th>\n      <th></th>\n      <th></th>\n      <th></th>\n      <th></th>\n      <th></th>\n      <th></th>\n      <th></th>\n      <th></th>\n      <th></th>\n      <th></th>\n      <th></th>\n      <th></th>\n    </tr>\n  </thead>\n  <tbody>\n    <tr>\n      <th>31495.0</th>\n      <td>Ashley McClendon</td>\n      <td>28</td>\n      <td>Female</td>\n      <td>African-American/Black</td>\n      <td>African-American/Black</td>\n      <td>Not imputed</td>\n      <td>https://fatalencounters.org/wp-content/uploads...</td>\n      <td>12/31/2021</td>\n      <td>South Pearl Street and Tory Road</td>\n      <td>Pageland</td>\n      <td>...</td>\n      <td>NaN</td>\n      <td>Ashley McClendon's boyfriend, 33-year-old Marc...</td>\n      <td>Criminal</td>\n      <td>Pursuit</td>\n      <td>https://www.wsoctv.com/news/1-person-dead-afte...</td>\n      <td>No</td>\n      <td>NaN</td>\n      <td>NaN</td>\n      <td>NaN</td>\n      <td>31495.0</td>\n    </tr>\n    <tr>\n      <th>31496.0</th>\n      <td>Name withheld by police</td>\n      <td>NaN</td>\n      <td>Female</td>\n      <td>Race unspecified</td>\n      <td>NaN</td>\n      <td>NaN</td>\n      <td>NaN</td>\n      <td>12/31/2021</td>\n      <td>1500 21st Street</td>\n      <td>Meridian</td>\n      <td>...</td>\n      <td>NaN</td>\n      <td>Police responded to a man causing a disturbanc...</td>\n      <td>Pending investigation</td>\n      <td>Deadly force</td>\n      <td>https://www.wtok.com/2022/01/01/officer-involv...</td>\n      <td>No</td>\n      <td>NaN</td>\n      <td>NaN</td>\n      <td>NaN</td>\n      <td>31496.0</td>\n    </tr>\n    <tr>\n      <th>31497.0</th>\n      <td>Name withheld by police</td>\n      <td>NaN</td>\n      <td>Male</td>\n      <td>Race unspecified</td>\n      <td>NaN</td>\n      <td>NaN</td>\n      <td>NaN</td>\n      <td>12/31/2021</td>\n      <td>1500 21st Street</td>\n      <td>Meridian</td>\n      <td>...</td>\n      <td>NaN</td>\n      <td>Police responded to a man causing a disturbanc...</td>\n      <td>Pending investigation</td>\n      <td>Deadly force</td>\n      <td>https://www.wtok.com/2022/01/01/officer-involv...</td>\n      <td>No</td>\n      <td>NaN</td>\n      <td>NaN</td>\n      <td>NaN</td>\n      <td>31497.0</td>\n    </tr>\n    <tr>\n      <th>31491.0</th>\n      <td>Johnny C. Martin Jr.</td>\n      <td>36</td>\n      <td>Male</td>\n      <td>Race unspecified</td>\n      <td>NaN</td>\n      <td>NaN</td>\n      <td>NaN</td>\n      <td>12/30/2021</td>\n      <td>Martinez Lane</td>\n      <td>Nicholls</td>\n      <td>...</td>\n      <td>NaN</td>\n      <td>Johnny C. Martin, Jr. arrived at a gas station...</td>\n      <td>Suicide</td>\n      <td>Suicide</td>\n      <td>https://gbi.georgia.gov/press-releases/2021-12...</td>\n      <td>No</td>\n      <td>NaN</td>\n      <td>NaN</td>\n      <td>NaN</td>\n      <td>31491.0</td>\n    </tr>\n    <tr>\n      <th>31492.0</th>\n      <td>Dennis McHugh</td>\n      <td>44</td>\n      <td>Male</td>\n      <td>European-American/White</td>\n      <td>NaN</td>\n      <td>NaN</td>\n      <td>NaN</td>\n      <td>12/30/2021</td>\n      <td>435 E 4th Street</td>\n      <td>Beaumont</td>\n      <td>...</td>\n      <td>NaN</td>\n      <td>Deputies responded to a domestic violence call...</td>\n      <td>Pending investigation</td>\n      <td>Deadly force</td>\n      <td>https://kesq.com/news/2021/12/31/officer-invol...</td>\n      <td>No</td>\n      <td>NaN</td>\n      <td>NaN</td>\n      <td>NaN</td>\n      <td>31492.0</td>\n    </tr>\n  </tbody>\n</table>\n<p>5 rows × 35 columns</p>\n</div>"
     },
     "execution_count": 5,
     "metadata": {},
     "output_type": "execute_result"
    }
   ],
   "source": [
    "# Importing Fatal Encounters data\n",
    "file_path = (\n",
    "    \"/Users/agnekrupinskaite/PycharmProjects/\"\n",
    "    \"agkrupi-DWWP.4.1/Data_sources/\"\n",
    "    \"FATAL ENCOUNTERS DOT ORG SPREADSHEET \"\n",
    "    \"(See Read me tab) - Form Responses.csv\"\n",
    ")\n",
    "fatal_encounters = pd.read_csv(\n",
    "    file_path, low_memory=False, index_col=0, header=0\n",
    ")\n",
    "fatal_encounters.head()"
   ],
   "metadata": {
    "collapsed": false,
    "ExecuteTime": {
     "end_time": "2024-04-02T10:14:23.427025Z",
     "start_time": "2024-04-02T10:14:22.942139Z"
    }
   },
   "id": "ca30778967147ee0",
   "execution_count": 5
  },
  {
   "cell_type": "code",
   "outputs": [
    {
     "data": {
      "text/plain": "flee_status    1282\nrace           1171\nrace_source    1141\nage             388\nname            352\narmed_with      212\nthreat_type      67\ngender           25\ndtype: int64"
     },
     "execution_count": 6,
     "metadata": {},
     "output_type": "execute_result"
    }
   ],
   "source": [
    "# Counting how many NaN values in each column\n",
    "null_columns = (\n",
    "    washington_post.isnull().sum().sort_values(ascending=False)\n",
    ")\n",
    "victim_case_features = [\n",
    "    \"name\",\n",
    "    \"gender\",\n",
    "    \"race\",\n",
    "    \"race_source\",\n",
    "    \"age\",\n",
    "    \"armed_with\",\n",
    "    \"threat_type\",\n",
    "    \"flee_status\",\n",
    "]\n",
    "null_columns[victim_case_features].sort_values(ascending=False)"
   ],
   "metadata": {
    "collapsed": false,
    "ExecuteTime": {
     "end_time": "2024-04-02T10:14:23.509262Z",
     "start_time": "2024-04-02T10:14:23.292225Z"
    }
   },
   "id": "79d929880fb441f7",
   "execution_count": 6
  },
  {
   "cell_type": "markdown",
   "source": [
    "To use Fatal Encounters dataset for queries it should be modified:\n",
    "- feature names should match working dataset\n",
    "- datatypes should match between compared columns\n",
    "- date format should be changed\n",
    "- fatal encounters dataset data is collected for longer time period. To avoid false positive data retrieval, date intervals should be matched"
   ],
   "metadata": {
    "collapsed": false
   },
   "id": "49345ced6b5a0a8a"
  },
  {
   "cell_type": "code",
   "outputs": [],
   "source": [
    "# Changing the column name in fatal encounters dataset\n",
    "fatal_encounters = fatal_encounters.rename(\n",
    "    columns={\n",
    "        \" Date of injury resulting in \"\n",
    "        \"death (month/day/year)\": \"date\"\n",
    "    }\n",
    ")\n",
    "\n",
    "# Standardizing date column in both datasets\n",
    "fatal_encounters[\"date\"] = pd.to_datetime(fatal_encounters[\"date\"])\n",
    "washington_post[\"date\"] = pd.to_datetime(washington_post[\"date\"])\n",
    "\n",
    "# Changing date format in fatal encounters dataset\n",
    "fatal_encounters[\"date\"] = fatal_encounters[\"date\"].dt.strftime(\n",
    "    \"%Y-%m-%d\"\n",
    ")\n",
    "\n",
    "# Dropping unnecessary rows from fatal encounters dataset\n",
    "start_date = \"1999-12-13\"\n",
    "end_date = \"2015-01-01\"\n",
    "fatal_encounters = fatal_encounters[\n",
    "    (fatal_encounters[\"date\"] < start_date)\n",
    "    | (fatal_encounters[\"date\"] > end_date)\n",
    "]\n",
    "\n",
    "# Turning date column into date\n",
    "fatal_encounters[\"date\"] = pd.to_datetime(fatal_encounters[\"date\"])"
   ],
   "metadata": {
    "collapsed": false,
    "ExecuteTime": {
     "end_time": "2024-04-02T10:14:23.580453Z",
     "start_time": "2024-04-02T10:14:23.299953Z"
    }
   },
   "id": "38976dc078866387",
   "execution_count": 7
  },
  {
   "cell_type": "code",
   "outputs": [
    {
     "data": {
      "text/plain": "Index(['Name', 'Age', 'Gender', 'Race', 'Race with imputations',\n       'Imputation probability', 'URL of image (PLS NO HOTLINKS)', 'date',\n       'Location of injury (address)', 'Location of death (city)', 'State',\n       'Location of death (zip code)', 'Location of death (county)',\n       'Full Address', 'Latitude', 'Longitude', 'Agency or agencies involved',\n       'Highest level of force', 'UID Temporary', 'Name Temporary',\n       'Armed/Unarmed', 'Alleged weapon', 'Aggressive physical movement',\n       'Fleeing/Not fleeing', 'Description Temp', 'URL Temp',\n       'Brief description',\n       'Dispositions/Exclusions INTERNAL USE, NOT FOR ANALYSIS',\n       'Intended use of force (Developing)', 'Supporting document link',\n       'Foreknowledge of mental illness? INTERNAL USE, NOT FOR ANALYSIS',\n       'Unnamed: 32', 'Unnamed: 33', 'Unique ID formula',\n       'Unique identifier (redundant)'],\n      dtype='object')"
     },
     "execution_count": 8,
     "metadata": {},
     "output_type": "execute_result"
    }
   ],
   "source": [
    "# Checking dataset column names\n",
    "fatal_encounters.columns"
   ],
   "metadata": {
    "collapsed": false,
    "ExecuteTime": {
     "end_time": "2024-04-02T10:14:23.604096Z",
     "start_time": "2024-04-02T10:14:23.348546Z"
    }
   },
   "id": "4bb307fa8dd1d5e7",
   "execution_count": 8
  },
  {
   "cell_type": "code",
   "outputs": [],
   "source": [
    "# Changing feature names in the fatal encounters dataset\n",
    "fatal_encounters = fatal_encounters.rename(\n",
    "    columns={\n",
    "        \"State\": \"state\",\n",
    "        \"Name\": \"name\",\n",
    "        \"Location of death (city)\": \"city\",\n",
    "        \"Race\": \"race\",\n",
    "        \"Age\": \"age\",\n",
    "        \"Gender\": \"gender\",\n",
    "        \"Location of death (county)\": \"county\",\n",
    "        \"Fleeing/Not fleeing\": \"flee_status\",\n",
    "        \"Alleged weapon\": \"armed_with\",\n",
    "        \"Aggressive physical movement\": \"threat_type\",\n",
    "    }\n",
    ")\n",
    "\n",
    "# Changing dataset feature format\n",
    "fatal_encounters[\"gender\"] = fatal_encounters[\"gender\"].str.lower()\n",
    "fatal_encounters[\"age\"] = fatal_encounters[\"age\"].astype(float)"
   ],
   "metadata": {
    "collapsed": false,
    "ExecuteTime": {
     "end_time": "2024-04-02T10:14:23.623294Z",
     "start_time": "2024-04-02T10:14:23.353181Z"
    }
   },
   "id": "52bf7a7f567f8398",
   "execution_count": 9
  },
  {
   "cell_type": "code",
   "outputs": [],
   "source": [
    "# Removing unnecessary columns\n",
    "column_list = [\n",
    "    \"URL of image (PLS NO HOTLINKS)\",\n",
    "    \"UID Temporary\",\n",
    "    \"Name Temporary\",\n",
    "    \"Description Temp\",\n",
    "    \"URL Temp\",\n",
    "    \"Dispositions/Exclusions INTERNAL \" \"USE, NOT FOR ANALYSIS\",\n",
    "    \"Supporting document link\",\n",
    "    \"Unnamed: 32\",\n",
    "    \"Unnamed: 33\",\n",
    "    \"Unique ID formula\",\n",
    "    \"Unique identifier (redundant)\",\n",
    "]\n",
    "fatal_encounters = fatal_encounters.drop(columns=column_list)"
   ],
   "metadata": {
    "collapsed": false,
    "ExecuteTime": {
     "end_time": "2024-04-02T10:14:23.628600Z",
     "start_time": "2024-04-02T10:14:23.368152Z"
    }
   },
   "id": "f7ede91f5b153523",
   "execution_count": 10
  },
  {
   "cell_type": "code",
   "outputs": [
    {
     "data": {
      "text/plain": "                              name   age  gender                     race  \\\nUnique ID                                                                   \n31495.0           Ashley McClendon  28.0  female   African-American/Black   \n31496.0    Name withheld by police   NaN  female         Race unspecified   \n31497.0    Name withheld by police   NaN    male         Race unspecified   \n31491.0       Johnny C. Martin Jr.  36.0    male         Race unspecified   \n31492.0              Dennis McHugh  44.0    male  European-American/White   \n\n            Race with imputations Imputation probability       date  \\\nUnique ID                                                             \n31495.0    African-American/Black            Not imputed 2021-12-31   \n31496.0                       NaN                    NaN 2021-12-31   \n31497.0                       NaN                    NaN 2021-12-31   \n31491.0                       NaN                    NaN 2021-12-30   \n31492.0                       NaN                    NaN 2021-12-30   \n\n               Location of injury (address)      city state  ...   Longitude  \\\nUnique ID                                                    ...               \n31495.0    South Pearl Street and Tory Road  Pageland    SC  ...  -80.393057   \n31496.0                    1500 21st Street  Meridian    MS  ...  -88.693972   \n31497.0                    1500 21st Street  Meridian    MS  ...  -88.693972   \n31491.0                       Martinez Lane  Nicholls    GA  ...  -82.637819   \n31492.0                    435 E 4th Street  Beaumont    CA  ... -116.977150   \n\n                                 Agency or agencies involved  \\\nUnique ID                                                      \n31495.0                           Pageland Police Department   \n31496.0                           Meridian Police Department   \n31497.0                           Meridian Police Department   \n31491.0                       Coffee County Sheriff's Office   \n31492.0    Riverside County Sheriff's Department, Beaumon...   \n\n          Highest level of force Armed/Unarmed  armed_with threat_type  \\\nUnique ID                                                                \n31495.0                  Vehicle           NaN         NaN         NaN   \n31496.0                  Gunshot           NaN         NaN         NaN   \n31497.0                  Gunshot           NaN         NaN         NaN   \n31491.0                  Gunshot           NaN         NaN         NaN   \n31492.0                  Gunshot           NaN         NaN         NaN   \n\n          flee_status                                  Brief description  \\\nUnique ID                                                                  \n31495.0           NaN  Ashley McClendon's boyfriend, 33-year-old Marc...   \n31496.0           NaN  Police responded to a man causing a disturbanc...   \n31497.0           NaN  Police responded to a man causing a disturbanc...   \n31491.0           NaN  Johnny C. Martin, Jr. arrived at a gas station...   \n31492.0           NaN  Deputies responded to a domestic violence call...   \n\n          Intended use of force (Developing)  \\\nUnique ID                                      \n31495.0                              Pursuit   \n31496.0                         Deadly force   \n31497.0                         Deadly force   \n31491.0                              Suicide   \n31492.0                         Deadly force   \n\n          Foreknowledge of mental illness? INTERNAL USE, NOT FOR ANALYSIS  \nUnique ID                                                                  \n31495.0                                                   No               \n31496.0                                                   No               \n31497.0                                                   No               \n31491.0                                                   No               \n31492.0                                                   No               \n\n[5 rows x 24 columns]",
      "text/html": "<div>\n<style scoped>\n    .dataframe tbody tr th:only-of-type {\n        vertical-align: middle;\n    }\n\n    .dataframe tbody tr th {\n        vertical-align: top;\n    }\n\n    .dataframe thead th {\n        text-align: right;\n    }\n</style>\n<table border=\"1\" class=\"dataframe\">\n  <thead>\n    <tr style=\"text-align: right;\">\n      <th></th>\n      <th>name</th>\n      <th>age</th>\n      <th>gender</th>\n      <th>race</th>\n      <th>Race with imputations</th>\n      <th>Imputation probability</th>\n      <th>date</th>\n      <th>Location of injury (address)</th>\n      <th>city</th>\n      <th>state</th>\n      <th>...</th>\n      <th>Longitude</th>\n      <th>Agency or agencies involved</th>\n      <th>Highest level of force</th>\n      <th>Armed/Unarmed</th>\n      <th>armed_with</th>\n      <th>threat_type</th>\n      <th>flee_status</th>\n      <th>Brief description</th>\n      <th>Intended use of force (Developing)</th>\n      <th>Foreknowledge of mental illness? INTERNAL USE, NOT FOR ANALYSIS</th>\n    </tr>\n    <tr>\n      <th>Unique ID</th>\n      <th></th>\n      <th></th>\n      <th></th>\n      <th></th>\n      <th></th>\n      <th></th>\n      <th></th>\n      <th></th>\n      <th></th>\n      <th></th>\n      <th></th>\n      <th></th>\n      <th></th>\n      <th></th>\n      <th></th>\n      <th></th>\n      <th></th>\n      <th></th>\n      <th></th>\n      <th></th>\n      <th></th>\n    </tr>\n  </thead>\n  <tbody>\n    <tr>\n      <th>31495.0</th>\n      <td>Ashley McClendon</td>\n      <td>28.0</td>\n      <td>female</td>\n      <td>African-American/Black</td>\n      <td>African-American/Black</td>\n      <td>Not imputed</td>\n      <td>2021-12-31</td>\n      <td>South Pearl Street and Tory Road</td>\n      <td>Pageland</td>\n      <td>SC</td>\n      <td>...</td>\n      <td>-80.393057</td>\n      <td>Pageland Police Department</td>\n      <td>Vehicle</td>\n      <td>NaN</td>\n      <td>NaN</td>\n      <td>NaN</td>\n      <td>NaN</td>\n      <td>Ashley McClendon's boyfriend, 33-year-old Marc...</td>\n      <td>Pursuit</td>\n      <td>No</td>\n    </tr>\n    <tr>\n      <th>31496.0</th>\n      <td>Name withheld by police</td>\n      <td>NaN</td>\n      <td>female</td>\n      <td>Race unspecified</td>\n      <td>NaN</td>\n      <td>NaN</td>\n      <td>2021-12-31</td>\n      <td>1500 21st Street</td>\n      <td>Meridian</td>\n      <td>MS</td>\n      <td>...</td>\n      <td>-88.693972</td>\n      <td>Meridian Police Department</td>\n      <td>Gunshot</td>\n      <td>NaN</td>\n      <td>NaN</td>\n      <td>NaN</td>\n      <td>NaN</td>\n      <td>Police responded to a man causing a disturbanc...</td>\n      <td>Deadly force</td>\n      <td>No</td>\n    </tr>\n    <tr>\n      <th>31497.0</th>\n      <td>Name withheld by police</td>\n      <td>NaN</td>\n      <td>male</td>\n      <td>Race unspecified</td>\n      <td>NaN</td>\n      <td>NaN</td>\n      <td>2021-12-31</td>\n      <td>1500 21st Street</td>\n      <td>Meridian</td>\n      <td>MS</td>\n      <td>...</td>\n      <td>-88.693972</td>\n      <td>Meridian Police Department</td>\n      <td>Gunshot</td>\n      <td>NaN</td>\n      <td>NaN</td>\n      <td>NaN</td>\n      <td>NaN</td>\n      <td>Police responded to a man causing a disturbanc...</td>\n      <td>Deadly force</td>\n      <td>No</td>\n    </tr>\n    <tr>\n      <th>31491.0</th>\n      <td>Johnny C. Martin Jr.</td>\n      <td>36.0</td>\n      <td>male</td>\n      <td>Race unspecified</td>\n      <td>NaN</td>\n      <td>NaN</td>\n      <td>2021-12-30</td>\n      <td>Martinez Lane</td>\n      <td>Nicholls</td>\n      <td>GA</td>\n      <td>...</td>\n      <td>-82.637819</td>\n      <td>Coffee County Sheriff's Office</td>\n      <td>Gunshot</td>\n      <td>NaN</td>\n      <td>NaN</td>\n      <td>NaN</td>\n      <td>NaN</td>\n      <td>Johnny C. Martin, Jr. arrived at a gas station...</td>\n      <td>Suicide</td>\n      <td>No</td>\n    </tr>\n    <tr>\n      <th>31492.0</th>\n      <td>Dennis McHugh</td>\n      <td>44.0</td>\n      <td>male</td>\n      <td>European-American/White</td>\n      <td>NaN</td>\n      <td>NaN</td>\n      <td>2021-12-30</td>\n      <td>435 E 4th Street</td>\n      <td>Beaumont</td>\n      <td>CA</td>\n      <td>...</td>\n      <td>-116.977150</td>\n      <td>Riverside County Sheriff's Department, Beaumon...</td>\n      <td>Gunshot</td>\n      <td>NaN</td>\n      <td>NaN</td>\n      <td>NaN</td>\n      <td>NaN</td>\n      <td>Deputies responded to a domestic violence call...</td>\n      <td>Deadly force</td>\n      <td>No</td>\n    </tr>\n  </tbody>\n</table>\n<p>5 rows × 24 columns</p>\n</div>"
     },
     "execution_count": 11,
     "metadata": {},
     "output_type": "execute_result"
    }
   ],
   "source": [
    "# Checking dataset column names after change\n",
    "fatal_encounters.head()"
   ],
   "metadata": {
    "collapsed": false,
    "ExecuteTime": {
     "end_time": "2024-04-02T10:14:23.640894Z",
     "start_time": "2024-04-02T10:14:23.383478Z"
    }
   },
   "id": "5e493867cc7d2a34",
   "execution_count": 11
  },
  {
   "cell_type": "markdown",
   "source": [
    "## name feature imputations\n",
    "- Fatal encounters database is queried to impute some missing names using matching features (state, date, city, gender, age)\n",
    "- Retrieved strings \"Name withheld by police\" is change to \"undetermined\", because this name feature category will not be required for the further analysis.\n",
    "- Other missing values are filled with \"undetermined\"."
   ],
   "metadata": {
    "collapsed": false
   },
   "id": "f266056cd3db7c8b"
  },
  {
   "cell_type": "code",
   "outputs": [],
   "source": [
    "# Function to retrieve names from fatal encounters dataset\n",
    "def fill_missing_names(state, date, city, gender, age):\n",
    "    \"\"\"Fill missing names using matching state, date, city,\n",
    "    gender and county. Fatal encounters dataset is used.\"\"\"\n",
    "    matching_row = fatal_encounters[\n",
    "        (fatal_encounters[\"state\"] == state)\n",
    "        & (fatal_encounters[\"date\"] == date)\n",
    "        & (fatal_encounters[\"city\"] == city)\n",
    "        & (fatal_encounters[\"gender\"] == gender)\n",
    "        & (fatal_encounters[\"age\"] == age)\n",
    "    ]\n",
    "\n",
    "    # Finding matching rows\n",
    "    if not matching_row.empty:\n",
    "        return matching_row[\"name\"].iloc[0]"
   ],
   "metadata": {
    "collapsed": false,
    "ExecuteTime": {
     "end_time": "2024-04-02T10:14:23.646623Z",
     "start_time": "2024-04-02T10:14:23.391181Z"
    }
   },
   "id": "6f9ca0076d1c75ed",
   "execution_count": 12
  },
  {
   "cell_type": "code",
   "outputs": [
    {
     "name": "stdout",
     "output_type": "stream",
     "text": [
      "Number of missing names: 352.\n"
     ]
    }
   ],
   "source": [
    "# Filter to identify missing names\n",
    "name = [\"name\"]\n",
    "no_name = washington_post[name].isnull().all(axis=1)\n",
    "missing_names = washington_post[no_name].shape[0]\n",
    "print(f\"Number of missing names: {missing_names}.\")"
   ],
   "metadata": {
    "collapsed": false,
    "ExecuteTime": {
     "end_time": "2024-04-02T10:14:23.658623Z",
     "start_time": "2024-04-02T10:14:23.396641Z"
    }
   },
   "id": "58f0e04766e536c3",
   "execution_count": 13
  },
  {
   "cell_type": "code",
   "outputs": [],
   "source": [
    "# Applying fill_missing_names function\n",
    "washington_post[\"Retrieved_name\"] = washington_post.apply(\n",
    "    lambda row: fill_missing_names(\n",
    "        row[\"state\"],\n",
    "        row[\"date\"],\n",
    "        row[\"city\"],\n",
    "        row[\"gender\"],\n",
    "        row[\"age\"],\n",
    "    ),\n",
    "    axis=1,\n",
    ")"
   ],
   "metadata": {
    "collapsed": false,
    "ExecuteTime": {
     "end_time": "2024-04-02T10:14:40.158017Z",
     "start_time": "2024-04-02T10:14:23.403174Z"
    }
   },
   "id": "4c8c8ae909017c32",
   "execution_count": 14
  },
  {
   "cell_type": "code",
   "outputs": [
    {
     "name": "stdout",
     "output_type": "stream",
     "text": [
      "Number of retrieved names for whole dataset: 4965.\n"
     ]
    }
   ],
   "source": [
    "# Checking how many values were retrieved\n",
    "retrieved_names_count = (\n",
    "    washington_post[\"Retrieved_name\"].notnull().sum()\n",
    ")\n",
    "print(\n",
    "    f\"Number of retrieved names for whole dataset: \"\n",
    "    f\"{retrieved_names_count}.\"\n",
    ")"
   ],
   "metadata": {
    "collapsed": false,
    "ExecuteTime": {
     "end_time": "2024-04-02T10:14:40.184162Z",
     "start_time": "2024-04-02T10:14:40.145320Z"
    }
   },
   "id": "8752e4109ce35a59",
   "execution_count": 15
  },
  {
   "cell_type": "code",
   "outputs": [
    {
     "name": "stdout",
     "output_type": "stream",
     "text": [
      "Number of of retrieved names for missing names: 35.\n"
     ]
    },
    {
     "data": {
      "text/plain": "     name                     Retrieved_name\nid                                          \n2494  NaN                 Jarrad Lamark Hill\n2552  NaN                     Joseph Tourino\n2837  NaN                         James Lacy\n3198  NaN                          Kyle Gray\n3651  NaN                 Allen Ray Mitchell\n4142  NaN            Name withheld by police\n4454  NaN                      Randy Sanchez\n4828  NaN  Carmine Giuseppe \"C.J.\" Fazzolari\n4898  NaN                     Jamal Muhammad\n5470  NaN                       Jesus Ocasio\n5066  NaN               Anthony Lonnie White\n5050  NaN                 Fred Louis Babcock\n5057  NaN                Eric DeWayne Curtis\n5076  NaN                     Maurice Holley\n5627  NaN            Name withheld by police\n5715  NaN            Name withheld by police\n5945  NaN                     Derrick Canada\n6045  NaN            Name withheld by police\n6242  NaN            Name withheld by police\n6381  NaN            Name withheld by police\n6300  NaN            Name withheld by police\n6459  NaN               Isaac Jerome Frasier\n6466  NaN            Name withheld by police\n6769  NaN           Guillermo \"Memo\" Amezcua\n6926  NaN            Name withheld by police\n6942  NaN               Manuel Rojas Barajas\n7071  NaN            Name withheld by police\n7109  NaN            Name withheld by police\n7178  NaN                      Dan Ross Boyd\n7329  NaN                      Derek Collins\n7371  NaN                Elliot Maxent Lewis\n7364  NaN                     Quillan Jacobs\n7374  NaN            Name withheld by police\n7383  NaN            Name withheld by police\n7432  NaN            Name withheld by police",
      "text/html": "<div>\n<style scoped>\n    .dataframe tbody tr th:only-of-type {\n        vertical-align: middle;\n    }\n\n    .dataframe tbody tr th {\n        vertical-align: top;\n    }\n\n    .dataframe thead th {\n        text-align: right;\n    }\n</style>\n<table border=\"1\" class=\"dataframe\">\n  <thead>\n    <tr style=\"text-align: right;\">\n      <th></th>\n      <th>name</th>\n      <th>Retrieved_name</th>\n    </tr>\n    <tr>\n      <th>id</th>\n      <th></th>\n      <th></th>\n    </tr>\n  </thead>\n  <tbody>\n    <tr>\n      <th>2494</th>\n      <td>NaN</td>\n      <td>Jarrad Lamark Hill</td>\n    </tr>\n    <tr>\n      <th>2552</th>\n      <td>NaN</td>\n      <td>Joseph Tourino</td>\n    </tr>\n    <tr>\n      <th>2837</th>\n      <td>NaN</td>\n      <td>James Lacy</td>\n    </tr>\n    <tr>\n      <th>3198</th>\n      <td>NaN</td>\n      <td>Kyle Gray</td>\n    </tr>\n    <tr>\n      <th>3651</th>\n      <td>NaN</td>\n      <td>Allen Ray Mitchell</td>\n    </tr>\n    <tr>\n      <th>4142</th>\n      <td>NaN</td>\n      <td>Name withheld by police</td>\n    </tr>\n    <tr>\n      <th>4454</th>\n      <td>NaN</td>\n      <td>Randy Sanchez</td>\n    </tr>\n    <tr>\n      <th>4828</th>\n      <td>NaN</td>\n      <td>Carmine Giuseppe \"C.J.\" Fazzolari</td>\n    </tr>\n    <tr>\n      <th>4898</th>\n      <td>NaN</td>\n      <td>Jamal Muhammad</td>\n    </tr>\n    <tr>\n      <th>5470</th>\n      <td>NaN</td>\n      <td>Jesus Ocasio</td>\n    </tr>\n    <tr>\n      <th>5066</th>\n      <td>NaN</td>\n      <td>Anthony Lonnie White</td>\n    </tr>\n    <tr>\n      <th>5050</th>\n      <td>NaN</td>\n      <td>Fred Louis Babcock</td>\n    </tr>\n    <tr>\n      <th>5057</th>\n      <td>NaN</td>\n      <td>Eric DeWayne Curtis</td>\n    </tr>\n    <tr>\n      <th>5076</th>\n      <td>NaN</td>\n      <td>Maurice Holley</td>\n    </tr>\n    <tr>\n      <th>5627</th>\n      <td>NaN</td>\n      <td>Name withheld by police</td>\n    </tr>\n    <tr>\n      <th>5715</th>\n      <td>NaN</td>\n      <td>Name withheld by police</td>\n    </tr>\n    <tr>\n      <th>5945</th>\n      <td>NaN</td>\n      <td>Derrick Canada</td>\n    </tr>\n    <tr>\n      <th>6045</th>\n      <td>NaN</td>\n      <td>Name withheld by police</td>\n    </tr>\n    <tr>\n      <th>6242</th>\n      <td>NaN</td>\n      <td>Name withheld by police</td>\n    </tr>\n    <tr>\n      <th>6381</th>\n      <td>NaN</td>\n      <td>Name withheld by police</td>\n    </tr>\n    <tr>\n      <th>6300</th>\n      <td>NaN</td>\n      <td>Name withheld by police</td>\n    </tr>\n    <tr>\n      <th>6459</th>\n      <td>NaN</td>\n      <td>Isaac Jerome Frasier</td>\n    </tr>\n    <tr>\n      <th>6466</th>\n      <td>NaN</td>\n      <td>Name withheld by police</td>\n    </tr>\n    <tr>\n      <th>6769</th>\n      <td>NaN</td>\n      <td>Guillermo \"Memo\" Amezcua</td>\n    </tr>\n    <tr>\n      <th>6926</th>\n      <td>NaN</td>\n      <td>Name withheld by police</td>\n    </tr>\n    <tr>\n      <th>6942</th>\n      <td>NaN</td>\n      <td>Manuel Rojas Barajas</td>\n    </tr>\n    <tr>\n      <th>7071</th>\n      <td>NaN</td>\n      <td>Name withheld by police</td>\n    </tr>\n    <tr>\n      <th>7109</th>\n      <td>NaN</td>\n      <td>Name withheld by police</td>\n    </tr>\n    <tr>\n      <th>7178</th>\n      <td>NaN</td>\n      <td>Dan Ross Boyd</td>\n    </tr>\n    <tr>\n      <th>7329</th>\n      <td>NaN</td>\n      <td>Derek Collins</td>\n    </tr>\n    <tr>\n      <th>7371</th>\n      <td>NaN</td>\n      <td>Elliot Maxent Lewis</td>\n    </tr>\n    <tr>\n      <th>7364</th>\n      <td>NaN</td>\n      <td>Quillan Jacobs</td>\n    </tr>\n    <tr>\n      <th>7374</th>\n      <td>NaN</td>\n      <td>Name withheld by police</td>\n    </tr>\n    <tr>\n      <th>7383</th>\n      <td>NaN</td>\n      <td>Name withheld by police</td>\n    </tr>\n    <tr>\n      <th>7432</th>\n      <td>NaN</td>\n      <td>Name withheld by police</td>\n    </tr>\n  </tbody>\n</table>\n</div>"
     },
     "execution_count": 16,
     "metadata": {},
     "output_type": "execute_result"
    }
   ],
   "source": [
    "# Names retrieved for missing name values (manual review)\n",
    "name_retrieved = washington_post.Retrieved_name.notnull()\n",
    "retrieved_name_count = washington_post[[\"name\", \"Retrieved_name\"]][\n",
    "    no_name & name_retrieved\n",
    "].shape[0]\n",
    "print(\n",
    "    f\"Number of of retrieved names for missing names: \"\n",
    "    f\"{retrieved_name_count}.\"\n",
    ")\n",
    "washington_post[[\"name\", \"Retrieved_name\"]][no_name & name_retrieved]"
   ],
   "metadata": {
    "collapsed": false,
    "ExecuteTime": {
     "end_time": "2024-04-02T10:14:40.309087Z",
     "start_time": "2024-04-02T10:14:40.151168Z"
    }
   },
   "id": "fbae02c45add8a8f",
   "execution_count": 16
  },
  {
   "cell_type": "markdown",
   "source": [
    "Name values were retrieved from Fatal Encounters dataset. Two features were checked:\n",
    "- How many names match retrieved names (None values excluded)?\n",
    "- How many names do not match retrieved names (None values excluded)?"
   ],
   "metadata": {
    "collapsed": false
   },
   "id": "ec554c6caa65b923"
  },
  {
   "cell_type": "code",
   "outputs": [
    {
     "name": "stdout",
     "output_type": "stream",
     "text": [
      "Number of names that match: 3528.\n"
     ]
    }
   ],
   "source": [
    "# Retrieved_names that match names feature\n",
    "name_exists = washington_post[\"name\"].notnull()\n",
    "names_match = washington_post[\"name\"].isin(\n",
    "    washington_post[\"Retrieved_name\"]\n",
    ")\n",
    "amount_of_names = washington_post[[\"name\", \"Retrieved_name\"]][\n",
    "    names_match & name_exists\n",
    "].shape[0]\n",
    "print(f\"Number of names that match: {amount_of_names}.\")"
   ],
   "metadata": {
    "collapsed": false,
    "ExecuteTime": {
     "end_time": "2024-04-02T10:14:40.337419Z",
     "start_time": "2024-04-02T10:14:40.176658Z"
    }
   },
   "id": "6294e06d2523931",
   "execution_count": 17
  },
  {
   "cell_type": "code",
   "outputs": [
    {
     "name": "stdout",
     "output_type": "stream",
     "text": [
      "Number of names that do not match: 1428.\n"
     ]
    }
   ],
   "source": [
    "# Names retrieved for not missing name values that do not match\n",
    "name_retrieved = washington_post[\"Retrieved_name\"].notnull()\n",
    "no_match = (\n",
    "    washington_post[\"name\"] != washington_post[\"Retrieved_name\"]\n",
    ")\n",
    "no_match_count = washington_post[\n",
    "    [\n",
    "        \"name\",\n",
    "        \"Retrieved_name\",\n",
    "    ]\n",
    "][\n",
    "    name_exists & no_match & name_retrieved\n",
    "].shape[0]\n",
    "print(f\"Number of names that do not match: {no_match_count}.\")\n",
    "washington_post[\n",
    "    [\n",
    "        \"name\",\n",
    "        \"Retrieved_name\",\n",
    "    ]\n",
    "][name_exists & no_match & name_retrieved];"
   ],
   "metadata": {
    "collapsed": false,
    "ExecuteTime": {
     "end_time": "2024-04-02T10:14:40.382445Z",
     "start_time": "2024-04-02T10:14:40.184108Z"
    }
   },
   "id": "b31e5e3ca767043",
   "execution_count": 18
  },
  {
   "cell_type": "code",
   "outputs": [],
   "source": [
    "# Counting the amount of all retrieved names\n",
    "retrieved_names_count = (\n",
    "    washington_post[\"Retrieved_name\"].notnull().sum()\n",
    ")"
   ],
   "metadata": {
    "collapsed": false,
    "ExecuteTime": {
     "end_time": "2024-04-02T10:14:40.389513Z",
     "start_time": "2024-04-02T10:14:40.186799Z"
    }
   },
   "id": "1a268d36ce0778b",
   "execution_count": 19
  },
  {
   "cell_type": "code",
   "outputs": [
    {
     "name": "stdout",
     "output_type": "stream",
     "text": [
      "Percentage of names that do not match: 29.0 %.\n"
     ]
    }
   ],
   "source": [
    "# How many retrieved names do not match\n",
    "no_match_percentage = round(\n",
    "    100 - amount_of_names * 100 / retrieved_names_count, 0\n",
    ")\n",
    "print(\n",
    "    f\"Percentage of names that do not match: \"\n",
    "    f\"{no_match_percentage} %.\"\n",
    ")"
   ],
   "metadata": {
    "collapsed": false,
    "ExecuteTime": {
     "end_time": "2024-04-02T10:14:40.398986Z",
     "start_time": "2024-04-02T10:14:40.189996Z"
    }
   },
   "id": "4a234e7ba1c5235b",
   "execution_count": 20
  },
  {
   "cell_type": "markdown",
   "source": [
    "### Identifying mistakes in name retrieval\n",
    "Since percentage of names that do not match is 29.0 % it is important to check why these names do not match. To perform this task fuzzywuzzy library was used and name similarity percentage was checked. Dataframe was filtered to show names that have similarity match lower than 80%. Results were reviewed manually."
   ],
   "metadata": {
    "collapsed": false
   },
   "id": "5b9e9986ead6c96f"
  },
  {
   "cell_type": "code",
   "outputs": [],
   "source": [
    "# Calculating similarity ratio between name features\n",
    "def similarity_ratio(row):\n",
    "    \"\"\"Calculates similarity between two rows of\n",
    "    name and Retrieved_name.\"\"\"\n",
    "    return fuzz.ratio(row[\"name\"], row[\"Retrieved_name\"])\n",
    "\n",
    "\n",
    "washington_post[\"name_similarity\"] = washington_post[\n",
    "    name_exists & no_match & name_retrieved\n",
    "].apply(similarity_ratio, axis=1)"
   ],
   "metadata": {
    "collapsed": false,
    "ExecuteTime": {
     "end_time": "2024-04-02T10:14:40.404755Z",
     "start_time": "2024-04-02T10:14:40.194495Z"
    }
   },
   "id": "1b92c460ad62435e",
   "execution_count": 21
  },
  {
   "cell_type": "code",
   "outputs": [
    {
     "name": "stdout",
     "output_type": "stream",
     "text": [
      "Number of retrieved names that do not match with existing names: 1428.\n"
     ]
    }
   ],
   "source": [
    "# Names retrieved for not missing name values that do not match\n",
    "name_exists = washington_post[\"name\"].notnull()\n",
    "name_retrieved = washington_post[\"Retrieved_name\"].notnull()\n",
    "no_match = (\n",
    "    washington_post[\"name\"] != washington_post[\"Retrieved_name\"]\n",
    ")\n",
    "no_match_count = washington_post[\n",
    "    [\"name\", \"Retrieved_name\", \"name_similarity\"]\n",
    "][name_exists & no_match & name_retrieved].shape[0]\n",
    "print(\n",
    "    f\"Number of retrieved names that do not match \"\n",
    "    f\"with existing names: {no_match_count}.\"\n",
    ")"
   ],
   "metadata": {
    "collapsed": false,
    "ExecuteTime": {
     "end_time": "2024-04-02T10:14:40.414512Z",
     "start_time": "2024-04-02T10:14:40.206534Z"
    }
   },
   "id": "c981fd0b2f3c3ff7",
   "execution_count": 22
  },
  {
   "cell_type": "code",
   "outputs": [],
   "source": [
    "# Filtering names with low similarity for manual evaluation\n",
    "low_name_similarity = washington_post.name_similarity < 80\n",
    "washington_post[[\"name\", \"Retrieved_name\", \"name_similarity\"]][\n",
    "    low_name_similarity\n",
    "];"
   ],
   "metadata": {
    "collapsed": false,
    "ExecuteTime": {
     "end_time": "2024-04-02T10:14:40.489178Z",
     "start_time": "2024-04-02T10:14:40.212398Z"
    }
   },
   "id": "c9b4881a46a604d3",
   "execution_count": 23
  },
  {
   "cell_type": "code",
   "outputs": [
    {
     "data": {
      "text/plain": "           date                             name           Retrieved_name  \\\nid                                                                          \n7061 2021-07-31                    Adam S. Moser  Name withheld by police   \n4644 2019-04-11     Christopher Michael Alderete  Name withheld by police   \n6421 2020-12-11           David Kenneth Christie  Name withheld by police   \n1927 2016-09-30           George Richards-Meyers            Najier Salaam   \n6191 2020-09-18                 Jeffrey Castillo  Name withheld by police   \n6693 2021-03-09                Jehlani Jay Black  Name withheld by police   \n3018 2017-10-05             Johnny Ray Leeds Jr.    Johnny Roy Stokes Jr.   \n6358 2020-11-03          Jonathan Torres Ramirez  Name withheld by police   \n7489 2021-12-15  Sergio Baldemar Escalera Valdez  Name withheld by police   \n\n       age gender state            city                 county race  \nid                                                                   \n7061  39.0   male    FL           Yulee                 Nassau    W  \n4644  20.0   male    TX       Canutillo                El Paso    H  \n6421  35.0   male    MT     Trout Creek         Sanders County    W  \n1927  18.0   male    NJ          Newark                  Essex    B  \n6191  39.0   male    CA        Redlands  San Bernardino County    H  \n6693  19.0   male    CA       Riverside       Riverside County    B  \n3018  40.0   male    AL           Leeds              Jefferson    W  \n6358  20.0   male    CA         Oakland         Alameda County    H  \n7489  45.0   male    CA  North Richmond           Contra Costa  NaN  ",
      "text/html": "<div>\n<style scoped>\n    .dataframe tbody tr th:only-of-type {\n        vertical-align: middle;\n    }\n\n    .dataframe tbody tr th {\n        vertical-align: top;\n    }\n\n    .dataframe thead th {\n        text-align: right;\n    }\n</style>\n<table border=\"1\" class=\"dataframe\">\n  <thead>\n    <tr style=\"text-align: right;\">\n      <th></th>\n      <th>date</th>\n      <th>name</th>\n      <th>Retrieved_name</th>\n      <th>age</th>\n      <th>gender</th>\n      <th>state</th>\n      <th>city</th>\n      <th>county</th>\n      <th>race</th>\n    </tr>\n    <tr>\n      <th>id</th>\n      <th></th>\n      <th></th>\n      <th></th>\n      <th></th>\n      <th></th>\n      <th></th>\n      <th></th>\n      <th></th>\n      <th></th>\n    </tr>\n  </thead>\n  <tbody>\n    <tr>\n      <th>7061</th>\n      <td>2021-07-31</td>\n      <td>Adam S. Moser</td>\n      <td>Name withheld by police</td>\n      <td>39.0</td>\n      <td>male</td>\n      <td>FL</td>\n      <td>Yulee</td>\n      <td>Nassau</td>\n      <td>W</td>\n    </tr>\n    <tr>\n      <th>4644</th>\n      <td>2019-04-11</td>\n      <td>Christopher Michael Alderete</td>\n      <td>Name withheld by police</td>\n      <td>20.0</td>\n      <td>male</td>\n      <td>TX</td>\n      <td>Canutillo</td>\n      <td>El Paso</td>\n      <td>H</td>\n    </tr>\n    <tr>\n      <th>6421</th>\n      <td>2020-12-11</td>\n      <td>David Kenneth Christie</td>\n      <td>Name withheld by police</td>\n      <td>35.0</td>\n      <td>male</td>\n      <td>MT</td>\n      <td>Trout Creek</td>\n      <td>Sanders County</td>\n      <td>W</td>\n    </tr>\n    <tr>\n      <th>1927</th>\n      <td>2016-09-30</td>\n      <td>George Richards-Meyers</td>\n      <td>Najier Salaam</td>\n      <td>18.0</td>\n      <td>male</td>\n      <td>NJ</td>\n      <td>Newark</td>\n      <td>Essex</td>\n      <td>B</td>\n    </tr>\n    <tr>\n      <th>6191</th>\n      <td>2020-09-18</td>\n      <td>Jeffrey Castillo</td>\n      <td>Name withheld by police</td>\n      <td>39.0</td>\n      <td>male</td>\n      <td>CA</td>\n      <td>Redlands</td>\n      <td>San Bernardino County</td>\n      <td>H</td>\n    </tr>\n    <tr>\n      <th>6693</th>\n      <td>2021-03-09</td>\n      <td>Jehlani Jay Black</td>\n      <td>Name withheld by police</td>\n      <td>19.0</td>\n      <td>male</td>\n      <td>CA</td>\n      <td>Riverside</td>\n      <td>Riverside County</td>\n      <td>B</td>\n    </tr>\n    <tr>\n      <th>3018</th>\n      <td>2017-10-05</td>\n      <td>Johnny Ray Leeds Jr.</td>\n      <td>Johnny Roy Stokes Jr.</td>\n      <td>40.0</td>\n      <td>male</td>\n      <td>AL</td>\n      <td>Leeds</td>\n      <td>Jefferson</td>\n      <td>W</td>\n    </tr>\n    <tr>\n      <th>6358</th>\n      <td>2020-11-03</td>\n      <td>Jonathan Torres Ramirez</td>\n      <td>Name withheld by police</td>\n      <td>20.0</td>\n      <td>male</td>\n      <td>CA</td>\n      <td>Oakland</td>\n      <td>Alameda County</td>\n      <td>H</td>\n    </tr>\n    <tr>\n      <th>7489</th>\n      <td>2021-12-15</td>\n      <td>Sergio Baldemar Escalera Valdez</td>\n      <td>Name withheld by police</td>\n      <td>45.0</td>\n      <td>male</td>\n      <td>CA</td>\n      <td>North Richmond</td>\n      <td>Contra Costa</td>\n      <td>NaN</td>\n    </tr>\n  </tbody>\n</table>\n</div>"
     },
     "execution_count": 24,
     "metadata": {},
     "output_type": "execute_result"
    }
   ],
   "source": [
    "# Name missmatch manual review\n",
    "index_for_missmatch = [\n",
    "    7061,\n",
    "    4644,\n",
    "    6421,\n",
    "    1927,\n",
    "    6191,\n",
    "    6693,\n",
    "    3018,\n",
    "    6358,\n",
    "    7489,\n",
    "]\n",
    "missmatch_rows = washington_post.loc[index_for_missmatch]\n",
    "missmatch_rows[\n",
    "    [\n",
    "        \"date\",\n",
    "        \"name\",\n",
    "        \"Retrieved_name\",\n",
    "        \"age\",\n",
    "        \"gender\",\n",
    "        \"state\",\n",
    "        \"city\",\n",
    "        \"county\",\n",
    "        \"race\",\n",
    "    ]\n",
    "]"
   ],
   "metadata": {
    "collapsed": false,
    "ExecuteTime": {
     "end_time": "2024-04-02T10:14:40.508478Z",
     "start_time": "2024-04-02T10:14:40.218956Z"
    }
   },
   "id": "50a114539e70d045",
   "execution_count": 24
  },
  {
   "cell_type": "code",
   "outputs": [],
   "source": [
    "# Observation 9594 fixes\n",
    "washington_post.loc[4405, \"Retrieved_name\"] = \"Preston Oszust\""
   ],
   "metadata": {
    "collapsed": false,
    "ExecuteTime": {
     "end_time": "2024-04-02T10:14:40.514972Z",
     "start_time": "2024-04-02T10:14:40.221626Z"
    }
   },
   "id": "684f97025e92535b",
   "execution_count": 25
  },
  {
   "cell_type": "code",
   "outputs": [],
   "source": [
    "# Manual name fix, because these names have high similarity\n",
    "washington_post.loc[1927, \"Retrieved_name\"] = \"George Richards-Meyers\"\n",
    "washington_post.loc[1577, \"Retrieved_name\"] = (\n",
    "    \"Donald Edward Brown III\"\n",
    ")\n",
    "washington_post.loc[5261, \"Retrieved_name\"] = \"Ronnie Jerome Hill\"\n",
    "\n",
    "# After manual checkup does not need any change\n",
    "washington_post.loc[2675];"
   ],
   "metadata": {
    "collapsed": false,
    "ExecuteTime": {
     "end_time": "2024-04-02T10:14:40.714654Z",
     "start_time": "2024-04-02T10:14:40.227590Z"
    }
   },
   "id": "8d61555ca68b3af1",
   "execution_count": 26
  },
  {
   "cell_type": "code",
   "outputs": [
    {
     "data": {
      "text/plain": "           date name                     Retrieved_name   age gender state  \\\nid                                                                           \n2494 2017-04-10  NaN                 Jarrad Lamark Hill  39.0   male    TX   \n2552 2017-05-03  NaN                     Joseph Tourino  28.0   male    CA   \n2837 2017-08-04  NaN                         James Lacy  47.0   male    CA   \n3198 2017-12-11  NaN                          Kyle Gray  24.0   male    WA   \n3651 2018-04-29  NaN                 Allen Ray Mitchell  42.0   male    CA   \n4454 2019-01-31  NaN                      Randy Sanchez  24.0   male    NJ   \n4828 2019-06-28  NaN  Carmine Giuseppe \"C.J.\" Fazzolari  24.0   male    TX   \n4898 2019-07-27  NaN                     Jamal Muhammad  42.0   male    TX   \n5470 2019-08-21  NaN                       Jesus Ocasio  54.0   male    IL   \n5066 2019-09-16  NaN               Anthony Lonnie White  27.0   male    TX   \n5050 2019-09-22  NaN                 Fred Louis Babcock  74.0   male    TX   \n5057 2019-09-26  NaN                Eric DeWayne Curtis  25.0   male    TX   \n5076 2019-10-06  NaN                     Maurice Holley  55.0   male    CA   \n5945 2020-06-22  NaN                     Derrick Canada  43.0   male    TX   \n6459 2020-12-25  NaN               Isaac Jerome Frasier  31.0   male    TX   \n6769 2021-04-10  NaN           Guillermo \"Memo\" Amezcua  48.0   male    CA   \n6942 2021-06-14  NaN               Manuel Rojas Barajas  65.0   male    CA   \n7178 2021-09-16  NaN                      Dan Ross Boyd  38.0   male    TX   \n7329 2021-11-04  NaN                      Derek Collins  36.0   male    OK   \n7371 2021-11-11  NaN                Elliot Maxent Lewis  42.0   male    TX   \n7364 2021-11-14  NaN                     Quillan Jacobs  30.0   male    MO   \n\n              city             county race  \nid                                          \n2494       Houston             Harris    B  \n2552      San Jose        Santa Clara  NaN  \n2837     San Diego          San Diego    B  \n3198       Seattle               King    W  \n3651      Redlands     San Bernardino    W  \n4454       Passaic     Passaic County  NaN  \n4828       Houston             Harris    W  \n4898        Dallas      Dallas County    B  \n5470  North Aurora        Kane County  NaN  \n5066       Houston      Harris County    B  \n5050        Austin      Travis County    W  \n5057        Dallas      Dallas County    B  \n5076        Herald  Sacramento County  NaN  \n5945      Giddings         Lee County    B  \n6459       Houston      Harris County  NaN  \n6769  San Fernando         California  NaN  \n6942      Calexico    Imperial County    H  \n7178    Huntsville      Walker County  NaN  \n7329         Tulsa       Tulsa County  NaN  \n7371       Houston             Harris    B  \n7364      Columbia       Boone County    B  ",
      "text/html": "<div>\n<style scoped>\n    .dataframe tbody tr th:only-of-type {\n        vertical-align: middle;\n    }\n\n    .dataframe tbody tr th {\n        vertical-align: top;\n    }\n\n    .dataframe thead th {\n        text-align: right;\n    }\n</style>\n<table border=\"1\" class=\"dataframe\">\n  <thead>\n    <tr style=\"text-align: right;\">\n      <th></th>\n      <th>date</th>\n      <th>name</th>\n      <th>Retrieved_name</th>\n      <th>age</th>\n      <th>gender</th>\n      <th>state</th>\n      <th>city</th>\n      <th>county</th>\n      <th>race</th>\n    </tr>\n    <tr>\n      <th>id</th>\n      <th></th>\n      <th></th>\n      <th></th>\n      <th></th>\n      <th></th>\n      <th></th>\n      <th></th>\n      <th></th>\n      <th></th>\n    </tr>\n  </thead>\n  <tbody>\n    <tr>\n      <th>2494</th>\n      <td>2017-04-10</td>\n      <td>NaN</td>\n      <td>Jarrad Lamark Hill</td>\n      <td>39.0</td>\n      <td>male</td>\n      <td>TX</td>\n      <td>Houston</td>\n      <td>Harris</td>\n      <td>B</td>\n    </tr>\n    <tr>\n      <th>2552</th>\n      <td>2017-05-03</td>\n      <td>NaN</td>\n      <td>Joseph Tourino</td>\n      <td>28.0</td>\n      <td>male</td>\n      <td>CA</td>\n      <td>San Jose</td>\n      <td>Santa Clara</td>\n      <td>NaN</td>\n    </tr>\n    <tr>\n      <th>2837</th>\n      <td>2017-08-04</td>\n      <td>NaN</td>\n      <td>James Lacy</td>\n      <td>47.0</td>\n      <td>male</td>\n      <td>CA</td>\n      <td>San Diego</td>\n      <td>San Diego</td>\n      <td>B</td>\n    </tr>\n    <tr>\n      <th>3198</th>\n      <td>2017-12-11</td>\n      <td>NaN</td>\n      <td>Kyle Gray</td>\n      <td>24.0</td>\n      <td>male</td>\n      <td>WA</td>\n      <td>Seattle</td>\n      <td>King</td>\n      <td>W</td>\n    </tr>\n    <tr>\n      <th>3651</th>\n      <td>2018-04-29</td>\n      <td>NaN</td>\n      <td>Allen Ray Mitchell</td>\n      <td>42.0</td>\n      <td>male</td>\n      <td>CA</td>\n      <td>Redlands</td>\n      <td>San Bernardino</td>\n      <td>W</td>\n    </tr>\n    <tr>\n      <th>4454</th>\n      <td>2019-01-31</td>\n      <td>NaN</td>\n      <td>Randy Sanchez</td>\n      <td>24.0</td>\n      <td>male</td>\n      <td>NJ</td>\n      <td>Passaic</td>\n      <td>Passaic County</td>\n      <td>NaN</td>\n    </tr>\n    <tr>\n      <th>4828</th>\n      <td>2019-06-28</td>\n      <td>NaN</td>\n      <td>Carmine Giuseppe \"C.J.\" Fazzolari</td>\n      <td>24.0</td>\n      <td>male</td>\n      <td>TX</td>\n      <td>Houston</td>\n      <td>Harris</td>\n      <td>W</td>\n    </tr>\n    <tr>\n      <th>4898</th>\n      <td>2019-07-27</td>\n      <td>NaN</td>\n      <td>Jamal Muhammad</td>\n      <td>42.0</td>\n      <td>male</td>\n      <td>TX</td>\n      <td>Dallas</td>\n      <td>Dallas County</td>\n      <td>B</td>\n    </tr>\n    <tr>\n      <th>5470</th>\n      <td>2019-08-21</td>\n      <td>NaN</td>\n      <td>Jesus Ocasio</td>\n      <td>54.0</td>\n      <td>male</td>\n      <td>IL</td>\n      <td>North Aurora</td>\n      <td>Kane County</td>\n      <td>NaN</td>\n    </tr>\n    <tr>\n      <th>5066</th>\n      <td>2019-09-16</td>\n      <td>NaN</td>\n      <td>Anthony Lonnie White</td>\n      <td>27.0</td>\n      <td>male</td>\n      <td>TX</td>\n      <td>Houston</td>\n      <td>Harris County</td>\n      <td>B</td>\n    </tr>\n    <tr>\n      <th>5050</th>\n      <td>2019-09-22</td>\n      <td>NaN</td>\n      <td>Fred Louis Babcock</td>\n      <td>74.0</td>\n      <td>male</td>\n      <td>TX</td>\n      <td>Austin</td>\n      <td>Travis County</td>\n      <td>W</td>\n    </tr>\n    <tr>\n      <th>5057</th>\n      <td>2019-09-26</td>\n      <td>NaN</td>\n      <td>Eric DeWayne Curtis</td>\n      <td>25.0</td>\n      <td>male</td>\n      <td>TX</td>\n      <td>Dallas</td>\n      <td>Dallas County</td>\n      <td>B</td>\n    </tr>\n    <tr>\n      <th>5076</th>\n      <td>2019-10-06</td>\n      <td>NaN</td>\n      <td>Maurice Holley</td>\n      <td>55.0</td>\n      <td>male</td>\n      <td>CA</td>\n      <td>Herald</td>\n      <td>Sacramento County</td>\n      <td>NaN</td>\n    </tr>\n    <tr>\n      <th>5945</th>\n      <td>2020-06-22</td>\n      <td>NaN</td>\n      <td>Derrick Canada</td>\n      <td>43.0</td>\n      <td>male</td>\n      <td>TX</td>\n      <td>Giddings</td>\n      <td>Lee County</td>\n      <td>B</td>\n    </tr>\n    <tr>\n      <th>6459</th>\n      <td>2020-12-25</td>\n      <td>NaN</td>\n      <td>Isaac Jerome Frasier</td>\n      <td>31.0</td>\n      <td>male</td>\n      <td>TX</td>\n      <td>Houston</td>\n      <td>Harris County</td>\n      <td>NaN</td>\n    </tr>\n    <tr>\n      <th>6769</th>\n      <td>2021-04-10</td>\n      <td>NaN</td>\n      <td>Guillermo \"Memo\" Amezcua</td>\n      <td>48.0</td>\n      <td>male</td>\n      <td>CA</td>\n      <td>San Fernando</td>\n      <td>California</td>\n      <td>NaN</td>\n    </tr>\n    <tr>\n      <th>6942</th>\n      <td>2021-06-14</td>\n      <td>NaN</td>\n      <td>Manuel Rojas Barajas</td>\n      <td>65.0</td>\n      <td>male</td>\n      <td>CA</td>\n      <td>Calexico</td>\n      <td>Imperial County</td>\n      <td>H</td>\n    </tr>\n    <tr>\n      <th>7178</th>\n      <td>2021-09-16</td>\n      <td>NaN</td>\n      <td>Dan Ross Boyd</td>\n      <td>38.0</td>\n      <td>male</td>\n      <td>TX</td>\n      <td>Huntsville</td>\n      <td>Walker County</td>\n      <td>NaN</td>\n    </tr>\n    <tr>\n      <th>7329</th>\n      <td>2021-11-04</td>\n      <td>NaN</td>\n      <td>Derek Collins</td>\n      <td>36.0</td>\n      <td>male</td>\n      <td>OK</td>\n      <td>Tulsa</td>\n      <td>Tulsa County</td>\n      <td>NaN</td>\n    </tr>\n    <tr>\n      <th>7371</th>\n      <td>2021-11-11</td>\n      <td>NaN</td>\n      <td>Elliot Maxent Lewis</td>\n      <td>42.0</td>\n      <td>male</td>\n      <td>TX</td>\n      <td>Houston</td>\n      <td>Harris</td>\n      <td>B</td>\n    </tr>\n    <tr>\n      <th>7364</th>\n      <td>2021-11-14</td>\n      <td>NaN</td>\n      <td>Quillan Jacobs</td>\n      <td>30.0</td>\n      <td>male</td>\n      <td>MO</td>\n      <td>Columbia</td>\n      <td>Boone County</td>\n      <td>B</td>\n    </tr>\n  </tbody>\n</table>\n</div>"
     },
     "execution_count": 27,
     "metadata": {},
     "output_type": "execute_result"
    }
   ],
   "source": [
    "# Missing names evaluation (manual)\n",
    "name_not_withheld_by_police = (\n",
    "    washington_post.Retrieved_name != \"Name withheld by police\"\n",
    ")\n",
    "\n",
    "washington_post[\n",
    "    [\n",
    "        \"date\",\n",
    "        \"name\",\n",
    "        \"Retrieved_name\",\n",
    "        \"age\",\n",
    "        \"gender\",\n",
    "        \"state\",\n",
    "        \"city\",\n",
    "        \"county\",\n",
    "        \"race\",\n",
    "    ]\n",
    "][no_name & name_retrieved & name_not_withheld_by_police]"
   ],
   "metadata": {
    "collapsed": false,
    "ExecuteTime": {
     "end_time": "2024-04-02T10:14:40.743625Z",
     "start_time": "2024-04-02T10:14:40.233889Z"
    }
   },
   "id": "13fee99ac486c18f",
   "execution_count": 27
  },
  {
   "cell_type": "markdown",
   "source": [
    "One of the values retrieved is string \"Name witheld by police\". In the further analysis this category will not be analysed, therefore it is changed it to \"undetermined\" "
   ],
   "metadata": {
    "collapsed": false
   },
   "id": "e68fe8bbcda97821"
  },
  {
   "cell_type": "code",
   "outputs": [],
   "source": [
    "# Removing \"Name withheld by police\" string\n",
    "name_withheld_by_police = (\n",
    "    washington_post.Retrieved_name == \"Name withheld by police\"\n",
    ")\n",
    "washington_post.loc[name_withheld_by_police, \"Retrieved_name\"] = (\n",
    "    \"undetermined\"\n",
    ")"
   ],
   "metadata": {
    "collapsed": false,
    "ExecuteTime": {
     "end_time": "2024-04-02T10:14:40.770418Z",
     "start_time": "2024-04-02T10:14:40.244367Z"
    }
   },
   "id": "63e6b5c02f5cc4ed",
   "execution_count": 28
  },
  {
   "cell_type": "markdown",
   "source": [
    "To identify which values were retrieved from Fatal Encounters database, new column is created using column masking and fillna methods."
   ],
   "metadata": {
    "collapsed": false
   },
   "id": "23667d1296d28c8c"
  },
  {
   "cell_type": "code",
   "outputs": [],
   "source": [
    "# Create masks for not null values\n",
    "name_mask = washington_post[\"name\"].notnull()\n",
    "washington_post[\"name_source\"] = name_mask\n",
    "washington_post[\"FE_name_source\"] = name_retrieved\n",
    "\n",
    "# Replacing newly created column values to flags\n",
    "washington_post.name_source.replace(\n",
    "    True, \"Washington_Post\", inplace=True\n",
    ")\n",
    "washington_post.name_source.replace(False, np.nan, inplace=True)\n",
    "washington_post.FE_name_source.replace(\n",
    "    True, \"Fatal_Encounters\", inplace=True\n",
    ")\n",
    "washington_post.FE_name_source.replace(False, np.nan, inplace=True)\n",
    "\n",
    "# Replacing name with retrieved names\n",
    "washington_post[\"name\"].fillna(\n",
    "    washington_post[\"Retrieved_name\"], inplace=True\n",
    ")\n",
    "washington_post.name_source.fillna(\n",
    "    washington_post.FE_name_source, inplace=True\n",
    ")"
   ],
   "metadata": {
    "collapsed": false,
    "ExecuteTime": {
     "end_time": "2024-04-02T10:14:40.787254Z",
     "start_time": "2024-04-02T10:14:40.250495Z"
    }
   },
   "id": "44df590ae5fc9e4e",
   "execution_count": 29
  },
  {
   "cell_type": "markdown",
   "source": [
    "Missing name values that were not retrieved from the Fatal Encounters database will be filled with string \"undetermined\" creating new group for analysis and maintaining as much data as possible."
   ],
   "metadata": {
    "collapsed": false
   },
   "id": "2c6d82a37afd0797"
  },
  {
   "cell_type": "code",
   "outputs": [
    {
     "data": {
      "text/plain": "name_source\nWashington_Post     9026\nundetermined         317\nFatal_Encounters      35\nName: count, dtype: int64"
     },
     "execution_count": 30,
     "metadata": {},
     "output_type": "execute_result"
    }
   ],
   "source": [
    "# Last missing values filled with undetermined\n",
    "washington_post.name.fillna(\"undetermined\", inplace=True)\n",
    "washington_post.name_source.fillna(\"undetermined\", inplace=True)\n",
    "\n",
    "# Checking if the flagging was successful\n",
    "washington_post.name_source.value_counts()"
   ],
   "metadata": {
    "collapsed": false,
    "ExecuteTime": {
     "end_time": "2024-04-02T10:14:40.827510Z",
     "start_time": "2024-04-02T10:14:40.267809Z"
    }
   },
   "id": "ae4616ea75809507",
   "execution_count": 30
  },
  {
   "cell_type": "code",
   "outputs": [],
   "source": [
    "# Unnecessary column removed\n",
    "washington_post.drop(\"FE_name_source\", axis=1, inplace=True)"
   ],
   "metadata": {
    "collapsed": false,
    "ExecuteTime": {
     "end_time": "2024-04-02T10:14:40.838321Z",
     "start_time": "2024-04-02T10:14:40.272411Z"
    }
   },
   "id": "822ea08998433e50",
   "execution_count": 31
  },
  {
   "cell_type": "code",
   "outputs": [
    {
     "name": "stdout",
     "output_type": "stream",
     "text": [
      "Missing values in name feature: 0.\n",
      "Missing values in name_source feature: 0.\n"
     ]
    }
   ],
   "source": [
    "# Checking how many names are still missing\n",
    "missing_values = washington_post.name.isnull().sum()\n",
    "missing_source = washington_post.name.isnull().sum()\n",
    "print(f\"Missing values in name feature: {missing_values}.\")\n",
    "print(f\"Missing values in name_source feature: {missing_source}.\")"
   ],
   "metadata": {
    "collapsed": false,
    "ExecuteTime": {
     "end_time": "2024-04-02T10:14:40.845776Z",
     "start_time": "2024-04-02T10:14:40.278047Z"
    }
   },
   "id": "976aea41833c240a",
   "execution_count": 32
  },
  {
   "cell_type": "markdown",
   "source": [
    "### Name feature modifications:\n",
    "- Full names in name feature has different amount of strings. To use this feature for race and gender determination (will be done later in this notebook) full names should be split into strings.\n",
    "- Since some names do not match their retrieved names due to different data sources using different data standardisation techniques, name column in Fatal Encounters dataset was copied and renamed to \"Retrieved_names\". This allows to query Fatal Encounters dataset using originally provided names and retrieved names and gives potential to retrieve more missing data."
   ],
   "metadata": {
    "collapsed": false
   },
   "id": "b3ab650d4c0ef8ae"
  },
  {
   "cell_type": "code",
   "outputs": [],
   "source": [
    "# Split the 'name' feature into separate strings\n",
    "split_names = washington_post[\"name\"].str.split(r\"[ -]\", expand=True)\n",
    "\n",
    "washington_post[\"first_name\"] = split_names[0]\n",
    "washington_post[\"second_name\"] = split_names[1]\n",
    "washington_post[\"third_name\"] = split_names[2]\n",
    "washington_post[\"fourth_name\"] = split_names[3]\n",
    "washington_post[\"fifth_name\"] = split_names[4]\n",
    "\n",
    "columns = [\n",
    "    \"first_name\",\n",
    "    \"second_name\",\n",
    "    \"third_name\",\n",
    "    \"fourth_name\",\n",
    "    \"fifth_name\",\n",
    "]\n",
    "# Missing columns filled with X not to create constant\n",
    "for column in columns:\n",
    "    washington_post[column].fillna(\"X\", inplace=True)"
   ],
   "metadata": {
    "collapsed": false,
    "ExecuteTime": {
     "end_time": "2024-04-02T10:14:40.857092Z",
     "start_time": "2024-04-02T10:14:40.289005Z"
    }
   },
   "id": "1d10f76cc7397d60",
   "execution_count": 33
  },
  {
   "cell_type": "code",
   "outputs": [],
   "source": [
    "# Creating a fatal encounters copy for feature retrieval\n",
    "fatal_encounters[\"X\"] = fatal_encounters[\"name\"].copy()\n",
    "fatal_encounters = fatal_encounters.rename(\n",
    "    columns={\"X\": \"Retrieved_name\"}\n",
    ")"
   ],
   "metadata": {
    "collapsed": false,
    "ExecuteTime": {
     "end_time": "2024-04-02T10:14:40.868686Z",
     "start_time": "2024-04-02T10:14:40.298115Z"
    }
   },
   "id": "7620fe040da8ba9d",
   "execution_count": 34
  },
  {
   "cell_type": "markdown",
   "source": [
    "## gender feature imputations\n",
    "- Gender feature is retrieved using name, Retrieved_name and date features from Fatal Encounters dataset.\n",
    "- Missing values are imputed using gender_guesser library and first name of the person.\n",
    "- Other missing values are filled with undetermined.\n",
    "- Imputed values flag is provided."
   ],
   "metadata": {
    "collapsed": false
   },
   "id": "fd525aa7567a7c68"
  },
  {
   "cell_type": "code",
   "outputs": [],
   "source": [
    "# Function to retrieve gender from date and name\n",
    "def fill_missing_gender_v1(date, name):\n",
    "    \"\"\"Fill missing names using matching state, date,\n",
    "    city and Retrieved_name columns.\n",
    "    Fatal encounters dataset is used.\"\"\"\n",
    "    matching_row = fatal_encounters[\n",
    "        (fatal_encounters[\"date\"] == date)\n",
    "        & (fatal_encounters[\"name\"] == name)\n",
    "    ]\n",
    "\n",
    "    # Finding matching rows\n",
    "    if not matching_row.empty:\n",
    "        return matching_row[\"gender\"].iloc[0]"
   ],
   "metadata": {
    "collapsed": false,
    "ExecuteTime": {
     "end_time": "2024-04-02T10:14:40.892252Z",
     "start_time": "2024-04-02T10:14:40.308146Z"
    }
   },
   "id": "e705b496654cc8d",
   "execution_count": 35
  },
  {
   "cell_type": "code",
   "outputs": [],
   "source": [
    "# Function to retrieve gender from date and Retrieved_name\n",
    "def fill_missing_gender_v2(date, Retrieved_name):\n",
    "    \"\"\"Fill missing names using matching state, date,\n",
    "    city and Retrieved_name columns.\n",
    "    Fatal encounters dataset is used.\"\"\"\n",
    "    matching_row = fatal_encounters[\n",
    "        (fatal_encounters[\"date\"] == date)\n",
    "        & (fatal_encounters[\"Retrieved_name\"] == Retrieved_name)\n",
    "    ]\n",
    "\n",
    "    # Finding matching rows\n",
    "    if not matching_row.empty:\n",
    "        return matching_row[\"gender\"].iloc[0]"
   ],
   "metadata": {
    "collapsed": false,
    "ExecuteTime": {
     "end_time": "2024-04-02T10:14:40.904665Z",
     "start_time": "2024-04-02T10:14:40.312204Z"
    }
   },
   "id": "e8196cdfde9f3d59",
   "execution_count": 36
  },
  {
   "cell_type": "code",
   "outputs": [
    {
     "name": "stdout",
     "output_type": "stream",
     "text": [
      "Missing gender feature values count: 25.\n"
     ]
    }
   ],
   "source": [
    "# Count missing gender values\n",
    "gender = [\"gender\"]\n",
    "no_gender = washington_post[gender].isnull().all(axis=1)\n",
    "no_gender_count = washington_post[no_gender].shape[0]\n",
    "print(f\"Missing gender feature values count: \" f\"{no_gender_count}.\")"
   ],
   "metadata": {
    "collapsed": false,
    "ExecuteTime": {
     "end_time": "2024-04-02T10:14:40.918628Z",
     "start_time": "2024-04-02T10:14:40.323697Z"
    }
   },
   "id": "415111b17e19560e",
   "execution_count": 37
  },
  {
   "cell_type": "code",
   "outputs": [],
   "source": [
    "# Retrieving missing gender values\n",
    "washington_post[\"Retrieved_gender_v1\"] = washington_post.apply(\n",
    "    lambda row: fill_missing_gender_v1(row[\"date\"], row[\"name\"]),\n",
    "    axis=1,\n",
    ")"
   ],
   "metadata": {
    "collapsed": false,
    "ExecuteTime": {
     "end_time": "2024-04-02T10:14:47.559522Z",
     "start_time": "2024-04-02T10:14:40.333661Z"
    }
   },
   "id": "4c3ef459dc5ad98b",
   "execution_count": 38
  },
  {
   "cell_type": "code",
   "outputs": [],
   "source": [
    "# Applying fill_missing_gender function\n",
    "washington_post[\"Retrieved_gender_v2\"] = washington_post.apply(\n",
    "    lambda row: fill_missing_gender_v2(\n",
    "        row[\"date\"], row[\"Retrieved_name\"]\n",
    "    ),\n",
    "    axis=1,\n",
    ")"
   ],
   "metadata": {
    "collapsed": false,
    "ExecuteTime": {
     "end_time": "2024-04-02T10:14:50.944879Z",
     "start_time": "2024-04-02T10:14:47.564266Z"
    }
   },
   "id": "6efc02bdf96a5aee",
   "execution_count": 39
  },
  {
   "cell_type": "code",
   "outputs": [
    {
     "data": {
      "text/plain": "               name gender Retrieved_gender_v1 Retrieved_gender_v2\nid                                                                \n2956  Scout Schultz    NaN         transgender                None",
      "text/html": "<div>\n<style scoped>\n    .dataframe tbody tr th:only-of-type {\n        vertical-align: middle;\n    }\n\n    .dataframe tbody tr th {\n        vertical-align: top;\n    }\n\n    .dataframe thead th {\n        text-align: right;\n    }\n</style>\n<table border=\"1\" class=\"dataframe\">\n  <thead>\n    <tr style=\"text-align: right;\">\n      <th></th>\n      <th>name</th>\n      <th>gender</th>\n      <th>Retrieved_gender_v1</th>\n      <th>Retrieved_gender_v2</th>\n    </tr>\n    <tr>\n      <th>id</th>\n      <th></th>\n      <th></th>\n      <th></th>\n      <th></th>\n    </tr>\n  </thead>\n  <tbody>\n    <tr>\n      <th>2956</th>\n      <td>Scout Schultz</td>\n      <td>NaN</td>\n      <td>transgender</td>\n      <td>None</td>\n    </tr>\n  </tbody>\n</table>\n</div>"
     },
     "execution_count": 40,
     "metadata": {},
     "output_type": "execute_result"
    }
   ],
   "source": [
    "# Evaluating results of fill_missing_gender_v1\n",
    "gender_retrieved_v1 = washington_post.Retrieved_gender_v1.notnull()\n",
    "washington_post[\n",
    "    [\"name\", \"gender\", \"Retrieved_gender_v1\", \"Retrieved_gender_v2\"]\n",
    "][no_gender & gender_retrieved_v1].head()"
   ],
   "metadata": {
    "collapsed": false,
    "ExecuteTime": {
     "end_time": "2024-04-02T10:14:50.977352Z",
     "start_time": "2024-04-02T10:14:50.948988Z"
    }
   },
   "id": "f916ca6652b8a9da",
   "execution_count": 40
  },
  {
   "cell_type": "code",
   "outputs": [
    {
     "data": {
      "text/plain": "Empty DataFrame\nColumns: [name, gender, Retrieved_gender_v1, Retrieved_gender_v2]\nIndex: []",
      "text/html": "<div>\n<style scoped>\n    .dataframe tbody tr th:only-of-type {\n        vertical-align: middle;\n    }\n\n    .dataframe tbody tr th {\n        vertical-align: top;\n    }\n\n    .dataframe thead th {\n        text-align: right;\n    }\n</style>\n<table border=\"1\" class=\"dataframe\">\n  <thead>\n    <tr style=\"text-align: right;\">\n      <th></th>\n      <th>name</th>\n      <th>gender</th>\n      <th>Retrieved_gender_v1</th>\n      <th>Retrieved_gender_v2</th>\n    </tr>\n    <tr>\n      <th>id</th>\n      <th></th>\n      <th></th>\n      <th></th>\n      <th></th>\n    </tr>\n  </thead>\n  <tbody>\n  </tbody>\n</table>\n</div>"
     },
     "execution_count": 41,
     "metadata": {},
     "output_type": "execute_result"
    }
   ],
   "source": [
    "# Evaluating results of fill_missing_gender_v2\n",
    "gender_retrieved_v2 = washington_post.Retrieved_gender_v2.notnull()\n",
    "washington_post[\n",
    "    [\"name\", \"gender\", \"Retrieved_gender_v1\", \"Retrieved_gender_v2\"]\n",
    "][no_gender & gender_retrieved_v2].head()"
   ],
   "metadata": {
    "collapsed": false,
    "ExecuteTime": {
     "end_time": "2024-04-02T10:14:50.984456Z",
     "start_time": "2024-04-02T10:14:50.952131Z"
    }
   },
   "id": "a116bbd6b5838c4b",
   "execution_count": 41
  },
  {
   "cell_type": "code",
   "outputs": [],
   "source": [
    "# Using gender_guesser to impute gender values\n",
    "import gender_guesser.detector as gender\n",
    "\n",
    "d = gender.Detector()\n",
    "washington_post[\"Retrieved_gender_guesser\"] = washington_post.apply(\n",
    "    lambda row: d.get_gender(row[\"first_name\"]), axis=1\n",
    ")"
   ],
   "metadata": {
    "collapsed": false,
    "ExecuteTime": {
     "end_time": "2024-04-02T10:14:51.153173Z",
     "start_time": "2024-04-02T10:14:50.957106Z"
    }
   },
   "id": "4def595ae311228c",
   "execution_count": 42
  },
  {
   "cell_type": "code",
   "outputs": [
    {
     "name": "stdout",
     "output_type": "stream",
     "text": [
      "Gender values retrieved by gender_guesser for missing genders: 7.\n"
     ]
    },
    {
     "data": {
      "text/plain": "                              name gender Retrieved_gender_v1  \\\nid                                                              \n7947      Larry Marquail Mixon III    NaN                None   \n8109               Kevin Colindres    NaN                None   \n8103  Joseph Robert Henry Thompson    NaN                None   \n8510              Jeffery J. Smith    NaN                None   \n8563          Timothy Wayne Hodges    NaN                None   \n8574                  Ethan Huiras    NaN                None   \n9057         Audrey Elizabeth Hale    NaN                None   \n\n     Retrieved_gender_guesser  \nid                             \n7947                     male  \n8109                     male  \n8103                     male  \n8510                     male  \n8563                     male  \n8574                     male  \n9057                   female  ",
      "text/html": "<div>\n<style scoped>\n    .dataframe tbody tr th:only-of-type {\n        vertical-align: middle;\n    }\n\n    .dataframe tbody tr th {\n        vertical-align: top;\n    }\n\n    .dataframe thead th {\n        text-align: right;\n    }\n</style>\n<table border=\"1\" class=\"dataframe\">\n  <thead>\n    <tr style=\"text-align: right;\">\n      <th></th>\n      <th>name</th>\n      <th>gender</th>\n      <th>Retrieved_gender_v1</th>\n      <th>Retrieved_gender_guesser</th>\n    </tr>\n    <tr>\n      <th>id</th>\n      <th></th>\n      <th></th>\n      <th></th>\n      <th></th>\n    </tr>\n  </thead>\n  <tbody>\n    <tr>\n      <th>7947</th>\n      <td>Larry Marquail Mixon III</td>\n      <td>NaN</td>\n      <td>None</td>\n      <td>male</td>\n    </tr>\n    <tr>\n      <th>8109</th>\n      <td>Kevin Colindres</td>\n      <td>NaN</td>\n      <td>None</td>\n      <td>male</td>\n    </tr>\n    <tr>\n      <th>8103</th>\n      <td>Joseph Robert Henry Thompson</td>\n      <td>NaN</td>\n      <td>None</td>\n      <td>male</td>\n    </tr>\n    <tr>\n      <th>8510</th>\n      <td>Jeffery J. Smith</td>\n      <td>NaN</td>\n      <td>None</td>\n      <td>male</td>\n    </tr>\n    <tr>\n      <th>8563</th>\n      <td>Timothy Wayne Hodges</td>\n      <td>NaN</td>\n      <td>None</td>\n      <td>male</td>\n    </tr>\n    <tr>\n      <th>8574</th>\n      <td>Ethan Huiras</td>\n      <td>NaN</td>\n      <td>None</td>\n      <td>male</td>\n    </tr>\n    <tr>\n      <th>9057</th>\n      <td>Audrey Elizabeth Hale</td>\n      <td>NaN</td>\n      <td>None</td>\n      <td>female</td>\n    </tr>\n  </tbody>\n</table>\n</div>"
     },
     "execution_count": 43,
     "metadata": {},
     "output_type": "execute_result"
    }
   ],
   "source": [
    "# Reviewing gender_guesser results\n",
    "gg_retrieved = washington_post.Retrieved_gender_guesser.notnull()\n",
    "gg_known = washington_post.Retrieved_gender_guesser != \"unknown\"\n",
    "gg_count = washington_post[\n",
    "    [\n",
    "        \"name\",\n",
    "        \"gender\",\n",
    "        \"Retrieved_gender_v1\",\n",
    "        \"Retrieved_gender_guesser\",\n",
    "    ]\n",
    "][no_gender & gg_retrieved & gg_known].shape[0]\n",
    "print(\n",
    "    f\"Gender values retrieved by gender_guesser \"\n",
    "    f\"for missing genders: {gg_count}.\"\n",
    ")\n",
    "washington_post[\n",
    "    [\n",
    "        \"name\",\n",
    "        \"gender\",\n",
    "        \"Retrieved_gender_v1\",\n",
    "        \"Retrieved_gender_guesser\",\n",
    "    ]\n",
    "][no_gender & gg_retrieved & gg_known]"
   ],
   "metadata": {
    "collapsed": false,
    "ExecuteTime": {
     "end_time": "2024-04-02T10:14:51.212117Z",
     "start_time": "2024-04-02T10:14:51.132218Z"
    }
   },
   "id": "faff8a19bc3dea85",
   "execution_count": 43
  },
  {
   "cell_type": "code",
   "outputs": [],
   "source": [
    "# Create masks for not null values\n",
    "gender_mask = washington_post[\"gender\"].notnull()\n",
    "washington_post[\"gender_source\"] = gender_mask\n",
    "washington_post[\"filled_gender_v1\"] = gender_retrieved_v1\n",
    "washington_post[\"filled_gender_v2\"] = gender_retrieved_v2\n",
    "washington_post[\"filled_gender_guesser\"] = gg_retrieved\n",
    "\n",
    "# Replacing newly created column values to flags\n",
    "washington_post.gender_source.replace(\n",
    "    True, \"Washington_Post\", inplace=True\n",
    ")\n",
    "washington_post.gender_source.replace(False, np.nan, inplace=True)\n",
    "washington_post.filled_gender_v1.replace(\n",
    "    True, \"Fatal_Encounters\", inplace=True\n",
    ")\n",
    "washington_post.filled_gender_v1.replace(False, np.nan, inplace=True)\n",
    "washington_post.filled_gender_v2.replace(\n",
    "    True, \"Fatal_Encounters\", inplace=True\n",
    ")\n",
    "washington_post.filled_gender_v2.replace(False, np.nan, inplace=True)\n",
    "washington_post.filled_gender_guesser.replace(\n",
    "    True, \"gender_guesser\", inplace=True\n",
    ")\n",
    "washington_post.filled_gender_guesser.replace(\n",
    "    False, np.nan, inplace=True\n",
    ")\n",
    "\n",
    "# Replacing gender with retrieved gender\n",
    "washington_post[\"Retrieved_gender_v1\"].fillna(\n",
    "    washington_post[\"Retrieved_gender_guesser\"], inplace=True\n",
    ")\n",
    "washington_post.filled_gender_v1.fillna(\n",
    "    washington_post.filled_gender_guesser, inplace=True\n",
    ")\n",
    "\n",
    "# Flagging and filling missing values\n",
    "washington_post[\"gender\"].fillna(\n",
    "    washington_post[\"Retrieved_gender_v1\"], inplace=True\n",
    ")\n",
    "washington_post.gender_source.fillna(\n",
    "    washington_post.filled_gender_v1, inplace=True\n",
    ")\n",
    "washington_post[\"gender\"] = washington_post[\"gender\"].replace(\n",
    "    \"unknown\", \"undetermined\"\n",
    ")\n",
    "washington_post.gender_source.fillna(\"undetermined\", inplace=True)"
   ],
   "metadata": {
    "collapsed": false,
    "ExecuteTime": {
     "end_time": "2024-04-02T10:14:51.248717Z",
     "start_time": "2024-04-02T10:14:51.136333Z"
    }
   },
   "id": "75950394c485d27a",
   "execution_count": 44
  },
  {
   "cell_type": "code",
   "outputs": [
    {
     "name": "stdout",
     "output_type": "stream",
     "text": [
      "Still missing gender source values: 0.\n"
     ]
    },
    {
     "data": {
      "text/plain": "gender_source\nWashington_Post     9353\ngender_guesser        24\nFatal_Encounters       1\nName: count, dtype: int64"
     },
     "execution_count": 45,
     "metadata": {},
     "output_type": "execute_result"
    }
   ],
   "source": [
    "# Checking if the imputation was successful\n",
    "missing_gender_source = washington_post.gender_source.isnull()\n",
    "missing_gender_source_count = washington_post[\n",
    "    missing_gender_source\n",
    "].shape[0]\n",
    "print(\n",
    "    f\"Still missing gender source values: \"\n",
    "    f\"{missing_gender_source_count}.\"\n",
    ")\n",
    "washington_post.gender_source.value_counts()"
   ],
   "metadata": {
    "collapsed": false,
    "ExecuteTime": {
     "end_time": "2024-04-02T10:14:51.288470Z",
     "start_time": "2024-04-02T10:14:51.148499Z"
    }
   },
   "id": "5a99c84d33c0a8d0",
   "execution_count": 45
  },
  {
   "cell_type": "code",
   "outputs": [
    {
     "name": "stdout",
     "output_type": "stream",
     "text": [
      "Still missing gender values: 0.\n"
     ]
    },
    {
     "data": {
      "text/plain": "gender\nmale            8945\nfemale           414\nundetermined      17\ntransgender        1\nnon-binary         1\nName: count, dtype: int64"
     },
     "execution_count": 46,
     "metadata": {},
     "output_type": "execute_result"
    }
   ],
   "source": [
    "# Checking if the flagging was successful\n",
    "missing_gender = washington_post.gender.isnull()\n",
    "missing_gender_count = washington_post[missing_gender].shape[0]\n",
    "print(f\"Still missing gender values: \" f\"{missing_gender_count}.\")\n",
    "washington_post.gender.value_counts()"
   ],
   "metadata": {
    "collapsed": false,
    "ExecuteTime": {
     "end_time": "2024-04-02T10:14:51.355796Z",
     "start_time": "2024-04-02T10:14:51.153124Z"
    }
   },
   "id": "d68b73dd351fb229",
   "execution_count": 46
  },
  {
   "cell_type": "code",
   "outputs": [],
   "source": [
    "# Drop multiple columns\n",
    "columns_to_drop = [\n",
    "    \"filled_gender_v1\",\n",
    "    \"filled_gender_v2\",\n",
    "    \"filled_gender_guesser\",\n",
    "]\n",
    "washington_post.drop(columns_to_drop, axis=1, inplace=True)"
   ],
   "metadata": {
    "collapsed": false,
    "ExecuteTime": {
     "end_time": "2024-04-02T10:14:51.377984Z",
     "start_time": "2024-04-02T10:14:51.157116Z"
    }
   },
   "id": "5786eddc93c27591",
   "execution_count": 47
  },
  {
   "cell_type": "markdown",
   "source": [
    "## age feature imputations\n",
    "- Part of age feature values are retrieved from Fatal Shooting database.\n",
    "- Other values are filled with mode of the age feature.\n",
    "- New column age_source is created to flag the imputation fact."
   ],
   "metadata": {
    "collapsed": false
   },
   "id": "1007b8116dc2d902"
  },
  {
   "cell_type": "code",
   "outputs": [],
   "source": [
    "# Function to retrieve missing age values\n",
    "def fill_missing_age_v1(name, date):\n",
    "    \"\"\"Fill missing age values using matching name and date.\n",
    "    Fatal encounters dataset is used.\"\"\"\n",
    "    matching_row = fatal_encounters[\n",
    "        (fatal_encounters[\"name\"] == name)\n",
    "        & (fatal_encounters[\"date\"] == date)\n",
    "    ]\n",
    "\n",
    "    # Finding matching rows\n",
    "    if not matching_row.empty:\n",
    "        return matching_row[\"age\"].iloc[0]"
   ],
   "metadata": {
    "collapsed": false,
    "ExecuteTime": {
     "end_time": "2024-04-02T10:14:51.393554Z",
     "start_time": "2024-04-02T10:14:51.162334Z"
    }
   },
   "id": "6e1719c5cd8eba7e",
   "execution_count": 48
  },
  {
   "cell_type": "code",
   "outputs": [],
   "source": [
    "# Function to retrieve missing age values\n",
    "def fill_missing_age_v2(Retrieved_name, date):\n",
    "    \"\"\"Fill missing age values using matching name and date.\n",
    "    Fatal encounters dataset is used.\"\"\"\n",
    "    matching_row = fatal_encounters[\n",
    "        (fatal_encounters[\"Retrieved_name\"] == Retrieved_name)\n",
    "        & (fatal_encounters[\"date\"] == date)\n",
    "    ]\n",
    "\n",
    "    # Finding matching rows\n",
    "    if not matching_row.empty:\n",
    "        return matching_row[\"age\"].iloc[0]"
   ],
   "metadata": {
    "collapsed": false,
    "ExecuteTime": {
     "end_time": "2024-04-02T10:14:51.404539Z",
     "start_time": "2024-04-02T10:14:51.164961Z"
    }
   },
   "id": "a9cf38732d0ab88f",
   "execution_count": 49
  },
  {
   "cell_type": "code",
   "outputs": [
    {
     "name": "stdout",
     "output_type": "stream",
     "text": [
      "Missing age feature values count: 388.\n"
     ]
    }
   ],
   "source": [
    "# Filter to identify missing age values\n",
    "age = [\"age\"]\n",
    "no_age = washington_post[age].isnull().all(axis=1)\n",
    "no_age_count = washington_post[no_age].shape[0]\n",
    "print(f\"Missing age feature values count: {no_age_count}.\")"
   ],
   "metadata": {
    "collapsed": false,
    "ExecuteTime": {
     "end_time": "2024-04-02T10:14:51.410856Z",
     "start_time": "2024-04-02T10:14:51.167562Z"
    }
   },
   "id": "b5c9a5d6b418d870",
   "execution_count": 50
  },
  {
   "cell_type": "code",
   "outputs": [],
   "source": [
    "# Applying fill_missing_age_v1 function\n",
    "washington_post[\"Retrieved_age_v1\"] = washington_post.apply(\n",
    "    lambda row: fill_missing_age_v1(row[\"name\"], row[\"date\"]), axis=1\n",
    ")"
   ],
   "metadata": {
    "collapsed": false,
    "ExecuteTime": {
     "end_time": "2024-04-02T10:14:57.539817Z",
     "start_time": "2024-04-02T10:14:51.170985Z"
    }
   },
   "id": "3c2c18dbd208a40",
   "execution_count": 51
  },
  {
   "cell_type": "code",
   "outputs": [],
   "source": [
    "# Applying fill_missing_age_v2 function\n",
    "washington_post[\"Retrieved_age_v2\"] = washington_post.apply(\n",
    "    lambda row: fill_missing_age_v2(\n",
    "        row[\"Retrieved_name\"], row[\"date\"]\n",
    "    ),\n",
    "    axis=1,\n",
    ")"
   ],
   "metadata": {
    "collapsed": false,
    "ExecuteTime": {
     "end_time": "2024-04-02T10:15:00.920033Z",
     "start_time": "2024-04-02T10:14:57.540057Z"
    }
   },
   "id": "63c4f9fb6c58675a",
   "execution_count": 52
  },
  {
   "cell_type": "code",
   "outputs": [
    {
     "name": "stdout",
     "output_type": "stream",
     "text": [
      "Retrieved age values from v1 function: 41.\n"
     ]
    }
   ],
   "source": [
    "# Checking fill_missing_age_v1 function results\n",
    "age_retrieved_v1 = washington_post.Retrieved_age_v1.notnull()\n",
    "retrieved_count = washington_post[\n",
    "    [\"name\", \"age\", \"Retrieved_age_v1\"]\n",
    "][no_age & age_retrieved_v1].shape[0]\n",
    "print(\n",
    "    f\"Retrieved age values from v1 function: \" f\"{retrieved_count}.\"\n",
    ")\n",
    "washington_post[[\"name\", \"age\", \"Retrieved_age_v1\"]][\n",
    "    no_age & age_retrieved_v1\n",
    "];"
   ],
   "metadata": {
    "collapsed": false,
    "ExecuteTime": {
     "end_time": "2024-04-02T10:15:00.936781Z",
     "start_time": "2024-04-02T10:15:00.921011Z"
    }
   },
   "id": "1dde47f6e86f0771",
   "execution_count": 53
  },
  {
   "cell_type": "code",
   "outputs": [
    {
     "name": "stdout",
     "output_type": "stream",
     "text": [
      "Retrieved age values from v2 function: 0.\n"
     ]
    }
   ],
   "source": [
    "# Checking fill_missing_age_v2 function results\n",
    "age_retrieved_v2 = washington_post.Retrieved_age_v2.notnull()\n",
    "retrieved_count = washington_post[\n",
    "    [\"name\", \"age\", \"Retrieved_age_v1\"]\n",
    "][no_age & age_retrieved_v2].shape[0]\n",
    "print(\n",
    "    f\"Retrieved age values from v2 function: \" f\"{retrieved_count}.\"\n",
    ")\n",
    "washington_post[[\"name\", \"age\", \"Retrieved_age_v2\"]][\n",
    "    no_age & age_retrieved_v2\n",
    "];"
   ],
   "metadata": {
    "collapsed": false,
    "ExecuteTime": {
     "end_time": "2024-04-02T10:15:00.942760Z",
     "start_time": "2024-04-02T10:15:00.925503Z"
    }
   },
   "id": "2d279b42c75f9c2b",
   "execution_count": 54
  },
  {
   "cell_type": "code",
   "outputs": [],
   "source": [
    "# Filling missing names with names retrieved from Fatal Encounters\n",
    "\n",
    "# Create new boolean columns based on masks\n",
    "age_mask = washington_post[\"age\"].notnull()\n",
    "washington_post[\"age_source\"] = age_mask\n",
    "washington_post[\"filled_age_v1\"] = age_retrieved_v1\n",
    "washington_post[\"filled_age_v2\"] = age_retrieved_v2\n",
    "\n",
    "# Replacing newly created column values to flags\n",
    "washington_post.age_source.replace(\n",
    "    True, \"Washington_Post\", inplace=True\n",
    ")\n",
    "washington_post.age_source.replace(False, np.nan, inplace=True)\n",
    "washington_post.filled_age_v1.replace(\n",
    "    True, \"Fatal_Encounters\", inplace=True\n",
    ")\n",
    "washington_post.filled_age_v1.replace(False, np.nan, inplace=True)\n",
    "washington_post.filled_age_v2.replace(\n",
    "    True, \"Fatal_Encounters\", inplace=True\n",
    ")\n",
    "washington_post.filled_age_v2.replace(False, np.nan, inplace=True)\n",
    "\n",
    "# Replacing missing age with age retrieved\n",
    "washington_post[\"age\"].fillna(\n",
    "    washington_post[\"Retrieved_age_v1\"], inplace=True\n",
    ")\n",
    "washington_post.age_source.fillna(\n",
    "    washington_post.filled_age_v1, inplace=True\n",
    ")\n",
    "\n",
    "washington_post[\"age\"].fillna(\n",
    "    washington_post[\"Retrieved_age_v2\"], inplace=True\n",
    ")\n",
    "washington_post.age_source.fillna(\n",
    "    washington_post.filled_age_v2, inplace=True\n",
    ")\n",
    "washington_post.age_source.fillna(\"mode\", inplace=True)"
   ],
   "metadata": {
    "collapsed": false,
    "ExecuteTime": {
     "end_time": "2024-04-02T10:15:00.978746Z",
     "start_time": "2024-04-02T10:15:00.930534Z"
    }
   },
   "id": "bdb6e784a32e123",
   "execution_count": 55
  },
  {
   "cell_type": "markdown",
   "source": [
    "Since age data is numeric data statistical evaluation will be performed for it to analyze the outliers and significance. Therefore, missing age values are filled with mode, that should affect the dataset statistics less."
   ],
   "metadata": {
    "collapsed": false
   },
   "id": "b42a37dc58b8c1ea"
  },
  {
   "cell_type": "code",
   "outputs": [],
   "source": [
    "# Missing values filled with mode\n",
    "mode_age = washington_post[\"age\"].mode()\n",
    "washington_post[\"age\"].fillna(mode_age.iloc[0], inplace=True)"
   ],
   "metadata": {
    "collapsed": false,
    "ExecuteTime": {
     "end_time": "2024-04-02T10:15:00.997704Z",
     "start_time": "2024-04-02T10:15:00.938097Z"
    }
   },
   "id": "4a41af32f8944bdb",
   "execution_count": 56
  },
  {
   "cell_type": "code",
   "outputs": [
    {
     "name": "stdout",
     "output_type": "stream",
     "text": [
      "Still missing age source values: 0.\n"
     ]
    },
    {
     "data": {
      "text/plain": "age_source\nWashington_Post     8990\nmode                 347\nFatal_Encounters      41\nName: count, dtype: int64"
     },
     "execution_count": 57,
     "metadata": {},
     "output_type": "execute_result"
    }
   ],
   "source": [
    "# Checking if the imputation was successful\n",
    "missing_age_source = washington_post.age_source.isnull()\n",
    "missing_age_source_count = washington_post[missing_age_source].shape[0]\n",
    "print(\n",
    "    f\"Still missing age source values: \"\n",
    "    f\"{missing_age_source_count}.\"\n",
    ")\n",
    "washington_post.age_source.value_counts()"
   ],
   "metadata": {
    "collapsed": false,
    "ExecuteTime": {
     "end_time": "2024-04-02T10:15:01.094990Z",
     "start_time": "2024-04-02T10:15:00.942452Z"
    }
   },
   "id": "baffdc011b246c36",
   "execution_count": 57
  },
  {
   "cell_type": "code",
   "outputs": [
    {
     "name": "stdout",
     "output_type": "stream",
     "text": [
      "Still missing age values: 0.\n"
     ]
    }
   ],
   "source": [
    "# Checking if the flagging was successful\n",
    "missing_age = washington_post.age.isnull()\n",
    "missing_age_count = washington_post[missing_age].shape[0]\n",
    "print(f\"Still missing age values: {missing_age_count}.\")"
   ],
   "metadata": {
    "collapsed": false,
    "ExecuteTime": {
     "end_time": "2024-04-02T10:15:01.110245Z",
     "start_time": "2024-04-02T10:15:00.945304Z"
    }
   },
   "id": "420cee767e10af49",
   "execution_count": 58
  },
  {
   "cell_type": "code",
   "outputs": [],
   "source": [
    "# Drop multiple columns\n",
    "columns_to_drop = [\"filled_age_v1\", \"filled_age_v2\"]\n",
    "washington_post.drop(columns_to_drop, axis=1, inplace=True)"
   ],
   "metadata": {
    "collapsed": false,
    "ExecuteTime": {
     "end_time": "2024-04-02T10:15:01.121492Z",
     "start_time": "2024-04-02T10:15:00.948158Z"
    }
   },
   "id": "adf5fc65b62cb271",
   "execution_count": 59
  },
  {
   "cell_type": "markdown",
   "source": [
    "## flee_status feature\n",
    "- In the readme flee_status feature is described as: How, if at all, was the victim moving relative to officers leading up to the shooting.\n",
    "- Where it is possible values are retrieved from fatal Encounters database.\n",
    "- Where not possible missing values will be filled with \"undetermined\".\n",
    "- New column is created to flag imputecd values."
   ],
   "metadata": {
    "collapsed": false
   },
   "id": "1748ae1e025ed549"
  },
  {
   "cell_type": "code",
   "outputs": [],
   "source": [
    "# Flee_status retrieval using name\n",
    "def fill_missing_flee_status_v1(name, date):\n",
    "    \"\"\"Fill missing flee_status using matching name and date.\n",
    "    Fatal encounters dataset is used.\"\"\"\n",
    "    matching_row = fatal_encounters[\n",
    "        (fatal_encounters[\"name\"] == name)\n",
    "        & (fatal_encounters[\"date\"] == date)\n",
    "    ]\n",
    "\n",
    "    # Find matching row\n",
    "    if not matching_row.empty:\n",
    "        return matching_row[\"flee_status\"].iloc[0]"
   ],
   "metadata": {
    "collapsed": false,
    "ExecuteTime": {
     "end_time": "2024-04-02T10:15:01.132020Z",
     "start_time": "2024-04-02T10:15:00.953978Z"
    }
   },
   "id": "b1bd0d5c53bef4d5",
   "execution_count": 60
  },
  {
   "cell_type": "code",
   "outputs": [],
   "source": [
    "# Flee_status retrieval using Retrieved_name\n",
    "def fill_missing_flee_status_v2(Retrieved_name, date):\n",
    "    \"\"\"Fill missing flee_status using matching name and date.\n",
    "    Fatal encounters dataset is used.\"\"\"\n",
    "    matching_row = fatal_encounters[\n",
    "        (fatal_encounters[\"Retrieved_name\"] == Retrieved_name)\n",
    "        & (fatal_encounters[\"date\"] == date)\n",
    "    ]\n",
    "\n",
    "    # Find matching row\n",
    "    if not matching_row.empty:\n",
    "        return matching_row[\"flee_status\"].iloc[0]"
   ],
   "metadata": {
    "collapsed": false,
    "ExecuteTime": {
     "end_time": "2024-04-02T10:15:01.164212Z",
     "start_time": "2024-04-02T10:15:00.956327Z"
    }
   },
   "id": "32c21511ddaee5c3",
   "execution_count": 61
  },
  {
   "cell_type": "code",
   "outputs": [
    {
     "name": "stdout",
     "output_type": "stream",
     "text": [
      "Missing values in flee_status: 1282.\n"
     ]
    }
   ],
   "source": [
    "# Filter to identify values with missing flee_status\n",
    "no_flee_status = washington_post.flee_status.isnull()\n",
    "no_flee_status_count = washington_post[no_flee_status].shape[0]\n",
    "print(f\"Missing values in flee_status: {no_flee_status_count}.\")"
   ],
   "metadata": {
    "collapsed": false,
    "ExecuteTime": {
     "end_time": "2024-04-02T10:15:01.175700Z",
     "start_time": "2024-04-02T10:15:00.959358Z"
    }
   },
   "id": "ac0914a9df73085b",
   "execution_count": 62
  },
  {
   "cell_type": "code",
   "outputs": [],
   "source": [
    "# Applying fill_missing_flee_status_v1 function\n",
    "washington_post[\"Retrieved_flee_status_v1\"] = washington_post.apply(\n",
    "    lambda row: fill_missing_flee_status_v1(row[\"name\"], row[\"date\"]),\n",
    "    axis=1,\n",
    ")"
   ],
   "metadata": {
    "collapsed": false,
    "ExecuteTime": {
     "end_time": "2024-04-02T10:15:06.183779Z",
     "start_time": "2024-04-02T10:15:00.963189Z"
    }
   },
   "id": "477394c708ac2865",
   "execution_count": 63
  },
  {
   "cell_type": "code",
   "outputs": [],
   "source": [
    "# Applying fill_missing_flee_status_v2 function\n",
    "washington_post[\"Retrieved_flee_status_v2\"] = washington_post.apply(\n",
    "    lambda row: fill_missing_flee_status_v2(\n",
    "        row[\"Retrieved_name\"], row[\"date\"]\n",
    "    ),\n",
    "    axis=1,\n",
    ")"
   ],
   "metadata": {
    "collapsed": false,
    "ExecuteTime": {
     "end_time": "2024-04-02T10:15:09.563762Z",
     "start_time": "2024-04-02T10:15:06.184222Z"
    }
   },
   "id": "dc9cc12f9ced0e9c",
   "execution_count": 64
  },
  {
   "cell_type": "code",
   "outputs": [
    {
     "name": "stdout",
     "output_type": "stream",
     "text": [
      "Retrieved flee status v1: 197.\n"
     ]
    }
   ],
   "source": [
    "# Checking fill_missing_flee_status_v1 results\n",
    "fs_retrieved_v1 = washington_post[\n",
    "    \"Retrieved_flee_status_v1\"\n",
    "].notnull()\n",
    "retrieved_fs_v1_count = washington_post[\n",
    "    [\"name\", \"flee_status\", \"Retrieved_flee_status_v1\"]\n",
    "][no_flee_status & fs_retrieved_v1].shape[0]\n",
    "print(f\"Retrieved flee status v1: {retrieved_fs_v1_count}.\")\n",
    "washington_post[[\"name\", \"flee_status\", \"Retrieved_flee_status_v1\"]][\n",
    "    no_flee_status & fs_retrieved_v1\n",
    "];"
   ],
   "metadata": {
    "collapsed": false,
    "ExecuteTime": {
     "end_time": "2024-04-02T10:15:09.580128Z",
     "start_time": "2024-04-02T10:15:09.565282Z"
    }
   },
   "id": "97ea75a71434bc8c",
   "execution_count": 65
  },
  {
   "cell_type": "code",
   "outputs": [
    {
     "name": "stdout",
     "output_type": "stream",
     "text": [
      "Retrieved flee status v2: 227.\n"
     ]
    }
   ],
   "source": [
    "# Checking fill_missing_flee_status_v2 results\n",
    "fs_retrieved_v2 = washington_post[\n",
    "    \"Retrieved_flee_status_v2\"\n",
    "].notnull()\n",
    "retrieved_fs_v2_count = washington_post[\n",
    "    [\"name\", \"flee_status\", \"Retrieved_flee_status_v2\"]\n",
    "][no_flee_status & fs_retrieved_v2].shape[0]\n",
    "print(f\"Retrieved flee status v2: {retrieved_fs_v2_count}.\")\n",
    "washington_post[[\"name\", \"flee_status\", \"Retrieved_flee_status_v2\"]][\n",
    "    no_flee_status & fs_retrieved_v2\n",
    "];"
   ],
   "metadata": {
    "collapsed": false,
    "ExecuteTime": {
     "end_time": "2024-04-02T10:15:09.587559Z",
     "start_time": "2024-04-02T10:15:09.568447Z"
    }
   },
   "id": "12bf8f1d3f950caf",
   "execution_count": 66
  },
  {
   "cell_type": "code",
   "outputs": [],
   "source": [
    "# Filling missing names with names retrieved from Fatal Encounters\n",
    "\n",
    "# Creating new boolean columns based on masks\n",
    "flee_status_mask = washington_post[\"flee_status\"].notnull()\n",
    "washington_post[\"flee_status_source\"] = flee_status_mask\n",
    "washington_post[\"filled_flee_status_v1\"] = fs_retrieved_v1\n",
    "washington_post[\"filled_flee_status_v2\"] = fs_retrieved_v2\n",
    "\n",
    "# Replacing newly created column values to flags\n",
    "washington_post.flee_status_source.replace(\n",
    "    True, \"Washington_Post\", inplace=True\n",
    ")\n",
    "washington_post.flee_status_source.replace(\n",
    "    False, np.nan, inplace=True\n",
    ")\n",
    "washington_post.filled_flee_status_v1.replace(\n",
    "    True, \"Fatal_Encounters\", inplace=True\n",
    ")\n",
    "washington_post.filled_flee_status_v1.replace(\n",
    "    False, np.nan, inplace=True\n",
    ")\n",
    "washington_post.filled_flee_status_v2.replace(\n",
    "    True, \"Fatal_Encounters\", inplace=True\n",
    ")\n",
    "washington_post.filled_flee_status_v2.replace(\n",
    "    False, np.nan, inplace=True\n",
    ")\n",
    "\n",
    "# Replacing missing flee_status with retrieved_flee_status\n",
    "washington_post[\"flee_status\"].fillna(\n",
    "    washington_post[\"Retrieved_flee_status_v2\"], inplace=True\n",
    ")\n",
    "washington_post.flee_status_source.fillna(\n",
    "    washington_post.filled_flee_status_v2, inplace=True\n",
    ")\n",
    "\n",
    "washington_post[\"flee_status\"].fillna(\n",
    "    washington_post[\"Retrieved_flee_status_v1\"], inplace=True\n",
    ")\n",
    "washington_post.flee_status_source.fillna(\n",
    "    washington_post.filled_flee_status_v1, inplace=True\n",
    ")"
   ],
   "metadata": {
    "collapsed": false,
    "ExecuteTime": {
     "end_time": "2024-04-02T10:15:09.608169Z",
     "start_time": "2024-04-02T10:15:09.574833Z"
    }
   },
   "id": "113206970035f856",
   "execution_count": 67
  },
  {
   "cell_type": "code",
   "outputs": [
    {
     "name": "stdout",
     "output_type": "stream",
     "text": [
      "Still missing age source values: 1014.\n"
     ]
    },
    {
     "data": {
      "text/plain": "flee_status_source\nWashington_Post     8096\nFatal_Encounters     268\nName: count, dtype: int64"
     },
     "execution_count": 68,
     "metadata": {},
     "output_type": "execute_result"
    }
   ],
   "source": [
    "# Checking if the imputation was successful\n",
    "missing_flee_status_source = (\n",
    "    washington_post.flee_status_source.isnull()\n",
    ")\n",
    "missing_flee_status_source_count = washington_post[\n",
    "    missing_flee_status_source\n",
    "].shape[0]\n",
    "print(\n",
    "    f\"Still missing age source values: \"\n",
    "    f\"{missing_flee_status_source_count}.\"\n",
    ")\n",
    "washington_post.flee_status_source.value_counts()"
   ],
   "metadata": {
    "collapsed": false,
    "ExecuteTime": {
     "end_time": "2024-04-02T10:15:09.694425Z",
     "start_time": "2024-04-02T10:15:09.581407Z"
    }
   },
   "id": "7acf05a56bca84a7",
   "execution_count": 68
  },
  {
   "cell_type": "code",
   "outputs": [
    {
     "name": "stdout",
     "output_type": "stream",
     "text": [
      "Missing values in flee_status feature: 1014.\n",
      "Missing values in flee_status_source feature: 1014.\n"
     ]
    }
   ],
   "source": [
    "# Checking how many flee_status values missing\n",
    "missing_values = washington_post.flee_status.isnull().sum()\n",
    "missing_source = washington_post.flee_status_source.isnull().sum()\n",
    "print(f\"Missing values in flee_status feature: {missing_values}.\")\n",
    "print(\n",
    "    f\"Missing values in flee_status_source feature: {missing_values}.\"\n",
    ")"
   ],
   "metadata": {
    "collapsed": false,
    "ExecuteTime": {
     "end_time": "2024-04-02T10:15:09.721962Z",
     "start_time": "2024-04-02T10:15:09.588049Z"
    }
   },
   "id": "38c0d758d55a38c6",
   "execution_count": 69
  },
  {
   "cell_type": "code",
   "outputs": [],
   "source": [
    "# Filling not retrieved values with undetermined\n",
    "washington_post.flee_status.fillna(\"undetermined\", inplace=True)\n",
    "washington_post.flee_status_source.fillna(\n",
    "    \"undetermined\", inplace=True\n",
    ")"
   ],
   "metadata": {
    "collapsed": false,
    "ExecuteTime": {
     "end_time": "2024-04-02T10:15:09.734879Z",
     "start_time": "2024-04-02T10:15:09.590213Z"
    }
   },
   "id": "ab30a84ccc7b7d4",
   "execution_count": 70
  },
  {
   "cell_type": "code",
   "outputs": [
    {
     "data": {
      "text/plain": "flee_status\nnot                    5027\ncar                    1491\nfoot                   1230\nundetermined           1014\nother                   348\nNot fleeing             214\nFleeing/Foot             20\nFleeing/Vehicle          19\nUncertain                12\nFleeing/Motorcycle        2\nFleeing/Unspecified       1\nName: count, dtype: int64"
     },
     "execution_count": 71,
     "metadata": {},
     "output_type": "execute_result"
    }
   ],
   "source": [
    "# Checking if flee_status values need corrections\n",
    "washington_post.flee_status.value_counts()"
   ],
   "metadata": {
    "collapsed": false,
    "ExecuteTime": {
     "end_time": "2024-04-02T10:15:09.745413Z",
     "start_time": "2024-04-02T10:15:09.594919Z"
    }
   },
   "id": "6fda85a6bb3316d3",
   "execution_count": 71
  },
  {
   "cell_type": "markdown",
   "source": [
    "### flee_status values standartization\n",
    "flee_status values are converted to values compatible with washington post dataset."
   ],
   "metadata": {
    "collapsed": false
   },
   "id": "562aa4a329faec0e"
  },
  {
   "cell_type": "code",
   "outputs": [],
   "source": [
    "# Correcting values to unify data\n",
    "not_fleeing = washington_post.flee_status == \"Not fleeing\"\n",
    "fleeing_foot = washington_post.flee_status == \"Fleeing/Foot\"\n",
    "flee_vehicle = washington_post.flee_status == \"Fleeing/Vehicle\"\n",
    "flee_motor = washington_post.flee_status == \"Fleeing/Motorcycle\"\n",
    "flee_uncertain = washington_post.flee_status == \"Uncertain\"\n",
    "flee_unspecified = (\n",
    "    washington_post.flee_status == \"Fleeing/Unspecified\"\n",
    ")\n",
    "\n",
    "washington_post.loc[not_fleeing, \"flee_status\"] = \"not\"\n",
    "washington_post.loc[fleeing_foot, \"flee_status\"] = \"foot\"\n",
    "washington_post.loc[flee_vehicle, \"flee_status\"] = \"car\"\n",
    "washington_post.loc[flee_motor, \"flee_status\"] = \"other\"\n",
    "washington_post.loc[flee_uncertain, \"flee_status\"] = \"undetermined\"\n",
    "washington_post.loc[flee_unspecified, \"flee_status\"] = \"other\""
   ],
   "metadata": {
    "collapsed": false,
    "ExecuteTime": {
     "end_time": "2024-04-02T10:15:09.751581Z",
     "start_time": "2024-04-02T10:15:09.596864Z"
    }
   },
   "id": "e316de9ec4844cfe",
   "execution_count": 72
  },
  {
   "cell_type": "code",
   "outputs": [
    {
     "data": {
      "text/plain": "flee_status\nnot             5241\ncar             1510\nfoot            1250\nundetermined    1026\nother            351\nName: count, dtype: int64"
     },
     "execution_count": 73,
     "metadata": {},
     "output_type": "execute_result"
    }
   ],
   "source": [
    "# Checking if flee_status values need corrections\n",
    "washington_post.flee_status.value_counts()"
   ],
   "metadata": {
    "collapsed": false,
    "ExecuteTime": {
     "end_time": "2024-04-02T10:15:09.764651Z",
     "start_time": "2024-04-02T10:15:09.604414Z"
    }
   },
   "id": "88adba389c4c3630",
   "execution_count": 73
  },
  {
   "cell_type": "code",
   "outputs": [],
   "source": [
    "# Drop multiple columns\n",
    "columns_to_drop = [\"filled_flee_status_v1\", \"filled_flee_status_v2\"]\n",
    "washington_post.drop(columns_to_drop, axis=1, inplace=True)"
   ],
   "metadata": {
    "collapsed": false,
    "ExecuteTime": {
     "end_time": "2024-04-02T10:15:09.823290Z",
     "start_time": "2024-04-02T10:15:09.607239Z"
    }
   },
   "id": "16193f1e9e134614",
   "execution_count": 74
  },
  {
   "cell_type": "markdown",
   "source": [
    "### armed_with feature:\n",
    "- In the readme armed with feature is described as: What, if anything, was the victim armed with per federal classifications based on NIBRS, the national incident-level crime reporting system. These categories are roughly reflected in local police data and forms.\n",
    "- Feature is retrieved from Fatal Encounters dataset where possible.\n",
    "- Not retrieved features are filled with \"undetermined\".\n",
    "- Imputed features are flagged in a separate column."
   ],
   "metadata": {
    "collapsed": false
   },
   "id": "32ef60787038bce1"
  },
  {
   "cell_type": "code",
   "outputs": [
    {
     "name": "stdout",
     "output_type": "stream",
     "text": [
      "Missing values in armed_with feature: 212.\n"
     ]
    }
   ],
   "source": [
    "# Checking how many armed_with values missing\n",
    "missing_values = washington_post.armed_with.isnull().sum()\n",
    "print(f\"Missing values in armed_with feature: {missing_values}.\")"
   ],
   "metadata": {
    "collapsed": false,
    "ExecuteTime": {
     "end_time": "2024-04-02T10:15:09.829816Z",
     "start_time": "2024-04-02T10:15:09.612287Z"
    }
   },
   "id": "bf25903d684ae74b",
   "execution_count": 75
  },
  {
   "cell_type": "code",
   "outputs": [],
   "source": [
    "# Armed_with retrieval using name\n",
    "def fill_missing_armed_with_v1(name, date):\n",
    "    \"\"\"Fill missing armed_with using matching name and date.\n",
    "    Fatal encounters dataset is used.\"\"\"\n",
    "    matching_row = fatal_encounters[\n",
    "        (fatal_encounters[\"name\"] == name)\n",
    "        & (fatal_encounters[\"date\"] == date)\n",
    "    ]\n",
    "\n",
    "    # Finding matching rows\n",
    "    if not matching_row.empty:\n",
    "        return matching_row[\"armed_with\"].iloc[0]"
   ],
   "metadata": {
    "collapsed": false,
    "ExecuteTime": {
     "end_time": "2024-04-02T10:15:09.841045Z",
     "start_time": "2024-04-02T10:15:09.615206Z"
    }
   },
   "id": "9ae8646249c501f",
   "execution_count": 76
  },
  {
   "cell_type": "code",
   "outputs": [],
   "source": [
    "# Finding matching rows\n",
    "def fill_missing_armed_with_v2(Retrieved_name, date):\n",
    "    \"\"\"Fill missing armed_with using matching name and date.\n",
    "    Fatal encounters dataset is used.\"\"\"\n",
    "    matching_row = fatal_encounters[\n",
    "        (fatal_encounters[\"Retrieved_name\"] == Retrieved_name)\n",
    "        & (fatal_encounters[\"date\"] == date)\n",
    "    ]\n",
    "\n",
    "    # Check if there's a matching row\n",
    "    if not matching_row.empty:\n",
    "        return matching_row[\"armed_with\"].iloc[0]"
   ],
   "metadata": {
    "collapsed": false,
    "ExecuteTime": {
     "end_time": "2024-04-02T10:15:09.848050Z",
     "start_time": "2024-04-02T10:15:09.618347Z"
    }
   },
   "id": "1fd5acafa8681c6d",
   "execution_count": 77
  },
  {
   "cell_type": "code",
   "outputs": [],
   "source": [
    "# Applying fill_missing_armed_with_v1 function\n",
    "washington_post[\"Retrieved_armed_with_v1\"] = washington_post.apply(\n",
    "    lambda row: fill_missing_armed_with_v1(row[\"name\"], row[\"date\"]),\n",
    "    axis=1,\n",
    ")"
   ],
   "metadata": {
    "collapsed": false,
    "ExecuteTime": {
     "end_time": "2024-04-02T10:15:15.051296Z",
     "start_time": "2024-04-02T10:15:09.619975Z"
    }
   },
   "id": "709e2e69b4e2b8c5",
   "execution_count": 78
  },
  {
   "cell_type": "code",
   "outputs": [],
   "source": [
    "# Applying fill_missing_armed_with_v2 function\n",
    "washington_post[\"Retrieved_armed_with_v2\"] = washington_post.apply(\n",
    "    lambda row: fill_missing_armed_with_v2(row[\"name\"], row[\"date\"]),\n",
    "    axis=1,\n",
    ")"
   ],
   "metadata": {
    "collapsed": false,
    "ExecuteTime": {
     "end_time": "2024-04-02T10:15:20.146881Z",
     "start_time": "2024-04-02T10:15:15.052286Z"
    }
   },
   "id": "90f21d09bac70f28",
   "execution_count": 79
  },
  {
   "cell_type": "code",
   "outputs": [
    {
     "name": "stdout",
     "output_type": "stream",
     "text": [
      "Retrieved armed_with values by v1: 42.\n"
     ]
    }
   ],
   "source": [
    "# Checking fill_missing_armed_with_v1 results\n",
    "no_armed_with = washington_post.armed_with.isnull()\n",
    "aw_retrieved_v1 = washington_post[\"Retrieved_armed_with_v1\"].notnull()\n",
    "retrieved_aw_v1_count = washington_post[\n",
    "    [\"name\", \"armed_with\", \"Retrieved_armed_with_v1\"]\n",
    "][no_armed_with & aw_retrieved_v1].shape[0]\n",
    "print(f\"Retrieved armed_with values by v1: {retrieved_aw_v1_count}.\")\n",
    "washington_post[[\"name\", \"armed_with\", \"Retrieved_armed_with_v1\"]][\n",
    "    no_armed_with & aw_retrieved_v1\n",
    "];"
   ],
   "metadata": {
    "collapsed": false,
    "ExecuteTime": {
     "end_time": "2024-04-02T10:15:20.169569Z",
     "start_time": "2024-04-02T10:15:20.150204Z"
    }
   },
   "id": "e78c8f491e059a9d",
   "execution_count": 80
  },
  {
   "cell_type": "code",
   "outputs": [
    {
     "name": "stdout",
     "output_type": "stream",
     "text": [
      "Retrieved armed_with values by v2: 42.\n"
     ]
    }
   ],
   "source": [
    "# Checking fill_missing_armed_with_v2 results\n",
    "no_armed_with = washington_post.armed_with.isnull()\n",
    "aw_retrieved_v2 = washington_post[\"Retrieved_armed_with_v2\"].notnull()\n",
    "retrieved_aw_v2_count = washington_post[\n",
    "    [\"name\", \"armed_with\", \"Retrieved_armed_with_v2\"]\n",
    "][no_armed_with & aw_retrieved_v2].shape[0]\n",
    "print(f\"Retrieved armed_with values by v2: {retrieved_aw_v2_count}.\")\n",
    "washington_post[[\"name\", \"armed_with\", \"Retrieved_armed_with_v2\"]][\n",
    "    no_armed_with & aw_retrieved_v2\n",
    "];"
   ],
   "metadata": {
    "collapsed": false,
    "ExecuteTime": {
     "end_time": "2024-04-02T10:15:20.176055Z",
     "start_time": "2024-04-02T10:15:20.152033Z"
    }
   },
   "id": "6f4a1fccc6f7e036",
   "execution_count": 81
  },
  {
   "cell_type": "code",
   "outputs": [
    {
     "name": "stdout",
     "output_type": "stream",
     "text": [
      "Retrieved missing values that match in between functions: 109.\n",
      "Retrieved armed_with values by v1: 42.\n",
      "Retrieved armed_with values by v2: 42.\n"
     ]
    }
   ],
   "source": [
    "# Checking if missing retrieved values match\n",
    "match = (\n",
    "    washington_post.Retrieved_armed_with_v1\n",
    "    == washington_post.Retrieved_armed_with_v2\n",
    ")\n",
    "match_count = washington_post[no_match & no_armed_with].shape[0]\n",
    "print(\n",
    "    f\"Retrieved missing values that match in between functions: {match_count}.\"\n",
    ")\n",
    "print(f\"Retrieved armed_with values by v1: {retrieved_aw_v1_count}.\")\n",
    "print(f\"Retrieved armed_with values by v2: {retrieved_aw_v2_count}.\")"
   ],
   "metadata": {
    "collapsed": false,
    "ExecuteTime": {
     "end_time": "2024-04-02T10:15:20.186440Z",
     "start_time": "2024-04-02T10:15:20.157680Z"
    }
   },
   "id": "ffb66fc63102086c",
   "execution_count": 82
  },
  {
   "cell_type": "code",
   "outputs": [],
   "source": [
    "# Filling missing names with names retrieved from Fatal Encounters\n",
    "\n",
    "# Create new boolean columns based on masks\n",
    "armed_with_mask = washington_post[\"armed_with\"].notnull()\n",
    "washington_post[\"armed_with_source\"] = armed_with_mask\n",
    "washington_post[\"armed_with_v1\"] = aw_retrieved_v1\n",
    "\n",
    "# Replacing newly created column values to flags\n",
    "washington_post.armed_with_source.replace(\n",
    "    True, \"Washington_Post\", inplace=True\n",
    ")\n",
    "washington_post.armed_with_source.replace(False, np.nan, inplace=True)\n",
    "washington_post.armed_with_v1.replace(\n",
    "    True, \"Fatal_Encounters\", inplace=True\n",
    ")\n",
    "washington_post.armed_with_v1.replace(False, np.nan, inplace=True)\n",
    "\n",
    "# Replacing missing armed_with with the of retrieved values\n",
    "washington_post[\"armed_with\"].fillna(\n",
    "    washington_post[\"Retrieved_armed_with_v1\"], inplace=True\n",
    ")\n",
    "washington_post.armed_with_source.fillna(\n",
    "    washington_post.armed_with_v1, inplace=True\n",
    ")"
   ],
   "metadata": {
    "collapsed": false,
    "ExecuteTime": {
     "end_time": "2024-04-02T10:15:20.253764Z",
     "start_time": "2024-04-02T10:15:20.167260Z"
    }
   },
   "id": "34dff69fd3df7aeb",
   "execution_count": 83
  },
  {
   "cell_type": "code",
   "outputs": [
    {
     "name": "stdout",
     "output_type": "stream",
     "text": [
      "Missing values in armed_with feature: 170.\n",
      "Missing values in armed_with_source feature: 170.\n"
     ]
    }
   ],
   "source": [
    "# Checking how many armed_with values missing\n",
    "missing_values = washington_post.armed_with.isnull().sum()\n",
    "missing_source = washington_post.armed_with_source.isnull().sum()\n",
    "print(f\"Missing values in armed_with feature: {missing_values}.\")\n",
    "print(\n",
    "    f\"Missing values in armed_with_source feature: {missing_values}.\"\n",
    ")"
   ],
   "metadata": {
    "collapsed": false,
    "ExecuteTime": {
     "end_time": "2024-04-02T10:15:20.281694Z",
     "start_time": "2024-04-02T10:15:20.182440Z"
    }
   },
   "id": "59d6224da22f4f19",
   "execution_count": 84
  },
  {
   "cell_type": "code",
   "outputs": [],
   "source": [
    "# Fill armed_with values that were not retrieved\n",
    "washington_post.armed_with.fillna(\"undetermined\", inplace=True)\n",
    "washington_post.armed_with_source.fillna(\"undetermined\", inplace=True)"
   ],
   "metadata": {
    "collapsed": false,
    "ExecuteTime": {
     "end_time": "2024-04-02T10:15:20.301282Z",
     "start_time": "2024-04-02T10:15:20.185403Z"
    }
   },
   "id": "ba2ec3be79a4331a",
   "execution_count": 85
  },
  {
   "cell_type": "code",
   "outputs": [
    {
     "name": "stdout",
     "output_type": "stream",
     "text": [
      "Missing values in armed_with feature: 0.\n",
      "Missing values in armed_with_source feature: 0.\n"
     ]
    }
   ],
   "source": [
    "# Checking how many armed_with values missing\n",
    "missing_values = washington_post.armed_with.isnull().sum()\n",
    "missing_source = washington_post.armed_with_source.isnull().sum()\n",
    "print(f\"Missing values in armed_with feature: {missing_values}.\")\n",
    "print(\n",
    "    f\"Missing values in armed_with_source feature: {missing_values}.\"\n",
    ")"
   ],
   "metadata": {
    "collapsed": false,
    "ExecuteTime": {
     "end_time": "2024-04-02T10:15:20.306961Z",
     "start_time": "2024-04-02T10:15:20.188926Z"
    }
   },
   "id": "cc90e1e0ac685671",
   "execution_count": 86
  },
  {
   "cell_type": "code",
   "outputs": [
    {
     "data": {
      "text/plain": "armed_with\ngun                          5457\nknife                        1578\nundetermined                  557\nunarmed                       537\nvehicle                       328\nreplica                       304\nblunt_object                  227\nunknown                       141\nother                          92\ngun;vehicle                    38\ngun;knife                      37\nvehicle;gun                    17\nVehicle                        15\nFirearm/Handgun                12\nUncertain                       9\nother;gun                       4\nblunt_object;blunt_object       3\nknife;vehicle                   3\nknife;knife                     3\nblunt_object;knife              3\nFirearm/Replica firearm         2\nknife;blunt_object              2\nother;blunt_object;knife        1\nreplica;knife                   1\nvehicle;knife;other             1\nEdged weapon/Cleaver            1\nreplica;vehicle                 1\nEdged weapon/Knife              1\nEdged weapon/Hatchet            1\nFirearm/Gun                     1\nother;knife                     1\nName: count, dtype: int64"
     },
     "execution_count": 87,
     "metadata": {},
     "output_type": "execute_result"
    }
   ],
   "source": [
    "# Checking if armed_with values need corrections\n",
    "washington_post.armed_with.value_counts()"
   ],
   "metadata": {
    "collapsed": false,
    "ExecuteTime": {
     "end_time": "2024-04-02T10:15:20.312356Z",
     "start_time": "2024-04-02T10:15:20.191728Z"
    }
   },
   "id": "612ef01be576fc4",
   "execution_count": 87
  },
  {
   "cell_type": "markdown",
   "source": [
    "### armed_with values standartization\n",
    "armed_with values are converted to values compatible with washington post dataset."
   ],
   "metadata": {
    "collapsed": false
   },
   "id": "e60eb3cf9d998f4a"
  },
  {
   "cell_type": "code",
   "outputs": [],
   "source": [
    "# Correcting values to unify data\n",
    "\n",
    "# Edged weapons corrections\n",
    "not_knife = washington_post.armed_with == \"knife\"\n",
    "not_knife_v1 = washington_post.armed_with == \"Edged weapon/Knife\"\n",
    "not_knife_v2 = washington_post.armed_with == \"Edged weapon/Hatchet\"\n",
    "not_knife_v3 = washington_post.armed_with == \"Edged weapon/Cleaver\"\n",
    "not_knife_v4 = washington_post.armed_with == \"knife;knife\"\n",
    "\n",
    "washington_post.loc[not_knife, \"armed_with\"] = \"edged_weapon\"\n",
    "washington_post.loc[not_knife_v1, \"armed_with\"] = \"edged_weapon\"\n",
    "washington_post.loc[not_knife_v2, \"armed_with\"] = \"edged_weapon\"\n",
    "washington_post.loc[not_knife_v3, \"armed_with\"] = \"edged_weapon\"\n",
    "washington_post.loc[not_knife_v4, \"armed_with\"] = \"edged_weapon\"\n",
    "\n",
    "# Guns corrections\n",
    "not_gun = washington_post.armed_with == \"Firearm/Handgun\"\n",
    "not_gun_v2 = washington_post.armed_with == \"Firearm/Gun\"\n",
    "\n",
    "washington_post.loc[not_gun, \"armed_with\"] = \"gun\"\n",
    "washington_post.loc[not_gun_v2, \"armed_with\"] = \"gun\"\n",
    "\n",
    "# Uncertain situations\n",
    "uncertain = washington_post.armed_with == \"Uncertain\"\n",
    "unknown = washington_post.armed_with == \"unknown\"\n",
    "\n",
    "washington_post.loc[uncertain, \"armed_with\"] = \"undetermined\"\n",
    "washington_post.loc[unknown, \"armed_with\"] = \"undetermined\"\n",
    "\n",
    "# Blunt objects\n",
    "blunts = washington_post.armed_with == \"blunt_object;blunt_object\"\n",
    "washington_post.loc[blunts, \"armed_with\"] = \"blunt_object\"\n",
    "\n",
    "# Vehicle objects\n",
    "vehicles = washington_post.armed_with == \"Vehicle\"\n",
    "washington_post.loc[vehicles, \"armed_with\"] = \"vehicle\"\n",
    "\n",
    "# Other situations\n",
    "gv = washington_post.armed_with == \"gun;vehicle\"\n",
    "gk = washington_post.armed_with == \"gun;knife\"\n",
    "vg = washington_post.armed_with == \"vehicle;gun\"\n",
    "og = washington_post.armed_with == \"other;gun\"\n",
    "bk = washington_post.armed_with == \"blunt_object;knife\"\n",
    "kv = washington_post.armed_with == \"knife;vehicle\"\n",
    "ffr = washington_post.armed_with == \"Firearm/Replica firearm\"\n",
    "kb = washington_post.armed_with == \"knife;blunt_object\"\n",
    "rv = washington_post.armed_with == \"replica;vehicle\"\n",
    "vko = washington_post.armed_with == \"vehicle;knife;other\"\n",
    "rk = washington_post.armed_with == \"replica;knife\"\n",
    "obk = washington_post.armed_with == \"other;blunt_object;knife\"\n",
    "ok = washington_post.armed_with == \"other;knife\"\n",
    "others = washington_post.armed_with == \"other\"\n",
    "\n",
    "washington_post.loc[gv, \"armed_with\"] = \"other_or_multiple\"\n",
    "washington_post.loc[gk, \"armed_with\"] = \"other_or_multiple\"\n",
    "washington_post.loc[vg, \"armed_with\"] = \"other_or_multiple\"\n",
    "washington_post.loc[og, \"armed_with\"] = \"other_or_multiple\"\n",
    "washington_post.loc[bk, \"armed_with\"] = \"other_or_multiple\"\n",
    "washington_post.loc[kv, \"armed_with\"] = \"other_or_multiple\"\n",
    "washington_post.loc[ffr, \"armed_with\"] = \"other_or_multiple\"\n",
    "washington_post.loc[kb, \"armed_with\"] = \"other_or_multiple\"\n",
    "washington_post.loc[rv, \"armed_with\"] = \"other_or_multiple\"\n",
    "washington_post.loc[vko, \"armed_with\"] = \"other_or_multiple\"\n",
    "washington_post.loc[rk, \"armed_with\"] = \"other_or_multiple\"\n",
    "washington_post.loc[obk, \"armed_with\"] = \"other_or_multiple\"\n",
    "washington_post.loc[ok, \"armed_with\"] = \"other_or_multiple\"\n",
    "washington_post.loc[others, \"armed_with\"] = \"other_or_multiple\""
   ],
   "metadata": {
    "collapsed": false,
    "ExecuteTime": {
     "end_time": "2024-04-02T10:15:20.367845Z",
     "start_time": "2024-04-02T10:15:20.201174Z"
    }
   },
   "id": "dfd423a28448e342",
   "execution_count": 88
  },
  {
   "cell_type": "code",
   "outputs": [
    {
     "data": {
      "text/plain": "armed_with_source\nWashington_Post     9166\nundetermined         170\nFatal_Encounters      42\nName: count, dtype: int64"
     },
     "execution_count": 89,
     "metadata": {},
     "output_type": "execute_result"
    }
   ],
   "source": [
    "# Checking if flagging is successful\n",
    "washington_post.armed_with_source.value_counts()"
   ],
   "metadata": {
    "collapsed": false,
    "ExecuteTime": {
     "end_time": "2024-04-02T10:15:20.391678Z",
     "start_time": "2024-04-02T10:15:20.214061Z"
    }
   },
   "id": "cf3e89bd9f0b4707",
   "execution_count": 89
  },
  {
   "cell_type": "code",
   "outputs": [
    {
     "data": {
      "text/plain": "armed_with\ngun                  5470\nedged_weapon         1584\nundetermined          707\nunarmed               537\nvehicle               343\nreplica               304\nblunt_object          230\nother_or_multiple     203\nName: count, dtype: int64"
     },
     "execution_count": 90,
     "metadata": {},
     "output_type": "execute_result"
    }
   ],
   "source": [
    "# Checking if armed_with values need corrections\n",
    "washington_post.armed_with.value_counts()"
   ],
   "metadata": {
    "collapsed": false,
    "ExecuteTime": {
     "end_time": "2024-04-02T10:15:20.408617Z",
     "start_time": "2024-04-02T10:15:20.218076Z"
    }
   },
   "id": "74bb88aeb5457a3a",
   "execution_count": 90
  },
  {
   "cell_type": "markdown",
   "source": [
    "## threat_type feature imputations\n",
    "- In the readme threat_type is determined as: Actions the victim took leading up to the fatal shooting.\n",
    "- Threat type is retrieved from the Fatal Encounters database where possible.\n",
    "- This feature has a value undetermined: The threat type could not be determined from available evidence. This value suits to fill the missing values in the threat_type feature.\n",
    "- If not possible to impute, missing values are filled with the \"undetermined\".\n",
    "- Imputed values are flagged in the separate column."
   ],
   "metadata": {
    "collapsed": false
   },
   "id": "11eb605c98a40de1"
  },
  {
   "cell_type": "code",
   "outputs": [
    {
     "name": "stdout",
     "output_type": "stream",
     "text": [
      "Missing values in threat_type feature: 67.\n"
     ]
    }
   ],
   "source": [
    "# Checking how many threat_type values missing\n",
    "missing_values = washington_post.threat_type.isnull().sum()\n",
    "print(f\"Missing values in threat_type feature: {missing_values}.\")"
   ],
   "metadata": {
    "collapsed": false,
    "ExecuteTime": {
     "end_time": "2024-04-02T10:15:20.423998Z",
     "start_time": "2024-04-02T10:15:20.221125Z"
    }
   },
   "id": "fd713ec94ecc3e9f",
   "execution_count": 91
  },
  {
   "cell_type": "code",
   "outputs": [],
   "source": [
    "# Armed_with retrieval using name\n",
    "def fill_missing_threat_type_v1(name, date):\n",
    "    \"\"\"Fill missing threat_type using matching name and date.\n",
    "    Fatal encounters dataset is used.\"\"\"\n",
    "    matching_row = fatal_encounters[\n",
    "        (fatal_encounters[\"name\"] == name)\n",
    "        & (fatal_encounters[\"date\"] == date)\n",
    "    ]\n",
    "\n",
    "    # Finding matching row\n",
    "    if not matching_row.empty:\n",
    "        return matching_row[\"threat_type\"].iloc[0]"
   ],
   "metadata": {
    "collapsed": false,
    "ExecuteTime": {
     "end_time": "2024-04-02T10:15:20.434838Z",
     "start_time": "2024-04-02T10:15:20.224004Z"
    }
   },
   "id": "27be72b5dfb80d8c",
   "execution_count": 92
  },
  {
   "cell_type": "code",
   "outputs": [],
   "source": [
    "# Armed_with retrieval using name\n",
    "def fill_missing_threat_type_v2(Retrieved_name, date):\n",
    "    \"\"\"Fill missing threat_type using matching name and date.\n",
    "    Fatal encounters dataset is used.\"\"\"\n",
    "    matching_row = fatal_encounters[\n",
    "        (fatal_encounters[\"Retrieved_name\"] == Retrieved_name)\n",
    "        & (fatal_encounters[\"date\"] == date)\n",
    "    ]\n",
    "\n",
    "    # Finding matching row\n",
    "    if not matching_row.empty:\n",
    "        return matching_row[\"threat_type\"].iloc[0]"
   ],
   "metadata": {
    "collapsed": false,
    "ExecuteTime": {
     "end_time": "2024-04-02T10:15:20.445615Z",
     "start_time": "2024-04-02T10:15:20.226717Z"
    }
   },
   "id": "786ceed9894ca432",
   "execution_count": 93
  },
  {
   "cell_type": "code",
   "outputs": [],
   "source": [
    "# Applying fill_missing_threat_type_v1 function\n",
    "washington_post[\"Retrieved_threat_type_v1\"] = washington_post.apply(\n",
    "    lambda row: fill_missing_threat_type_v1(row[\"name\"], row[\"date\"]),\n",
    "    axis=1,\n",
    ")"
   ],
   "metadata": {
    "collapsed": false,
    "ExecuteTime": {
     "end_time": "2024-04-02T10:15:25.433455Z",
     "start_time": "2024-04-02T10:15:20.228425Z"
    }
   },
   "id": "26f236da06cc20f2",
   "execution_count": 94
  },
  {
   "cell_type": "code",
   "outputs": [],
   "source": [
    "# Applying fill_missing_threat_type_v2 function\n",
    "washington_post[\"Retrieved_threat_type_v2\"] = washington_post.apply(\n",
    "    lambda row: fill_missing_threat_type_v2(\n",
    "        row[\"Retrieved_name\"], row[\"date\"]\n",
    "    ),\n",
    "    axis=1,\n",
    ")"
   ],
   "metadata": {
    "collapsed": false,
    "ExecuteTime": {
     "end_time": "2024-04-02T10:15:28.821253Z",
     "start_time": "2024-04-02T10:15:25.433772Z"
    }
   },
   "id": "95135c5f8476924",
   "execution_count": 95
  },
  {
   "cell_type": "code",
   "outputs": [
    {
     "name": "stdout",
     "output_type": "stream",
     "text": [
      "Retrieved threat_type values by v1: 0.\n"
     ]
    },
    {
     "data": {
      "text/plain": "Empty DataFrame\nColumns: [name, threat_type, Retrieved_threat_type_v1]\nIndex: []",
      "text/html": "<div>\n<style scoped>\n    .dataframe tbody tr th:only-of-type {\n        vertical-align: middle;\n    }\n\n    .dataframe tbody tr th {\n        vertical-align: top;\n    }\n\n    .dataframe thead th {\n        text-align: right;\n    }\n</style>\n<table border=\"1\" class=\"dataframe\">\n  <thead>\n    <tr style=\"text-align: right;\">\n      <th></th>\n      <th>name</th>\n      <th>threat_type</th>\n      <th>Retrieved_threat_type_v1</th>\n    </tr>\n    <tr>\n      <th>id</th>\n      <th></th>\n      <th></th>\n      <th></th>\n    </tr>\n  </thead>\n  <tbody>\n  </tbody>\n</table>\n</div>"
     },
     "execution_count": 96,
     "metadata": {},
     "output_type": "execute_result"
    }
   ],
   "source": [
    "# Checking fill_missing_threa_type_v1 results\n",
    "no_threat_type = washington_post.threat_type.isnull()\n",
    "tt_retrieved_v1 = washington_post[\n",
    "    \"Retrieved_threat_type_v1\"\n",
    "].notnull()\n",
    "retrieved_tt_v1_count = washington_post[\n",
    "    [\"name\", \"threat_type\", \"Retrieved_threat_type_v1\"]\n",
    "][no_threat_type & tt_retrieved_v1].shape[0]\n",
    "print(f\"Retrieved threat_type values by v1: {retrieved_tt_v1_count}.\")\n",
    "washington_post[[\"name\", \"threat_type\", \"Retrieved_threat_type_v1\"]][\n",
    "    no_threat_type & tt_retrieved_v1\n",
    "]"
   ],
   "metadata": {
    "collapsed": false,
    "ExecuteTime": {
     "end_time": "2024-04-02T10:15:28.834115Z",
     "start_time": "2024-04-02T10:15:28.822387Z"
    }
   },
   "id": "d339dd252bd148ab",
   "execution_count": 96
  },
  {
   "cell_type": "code",
   "outputs": [
    {
     "name": "stdout",
     "output_type": "stream",
     "text": [
      "Retrieved threat_type values by v2: 0.\n"
     ]
    },
    {
     "data": {
      "text/plain": "Empty DataFrame\nColumns: [name, threat_type, Retrieved_threat_type_v2]\nIndex: []",
      "text/html": "<div>\n<style scoped>\n    .dataframe tbody tr th:only-of-type {\n        vertical-align: middle;\n    }\n\n    .dataframe tbody tr th {\n        vertical-align: top;\n    }\n\n    .dataframe thead th {\n        text-align: right;\n    }\n</style>\n<table border=\"1\" class=\"dataframe\">\n  <thead>\n    <tr style=\"text-align: right;\">\n      <th></th>\n      <th>name</th>\n      <th>threat_type</th>\n      <th>Retrieved_threat_type_v2</th>\n    </tr>\n    <tr>\n      <th>id</th>\n      <th></th>\n      <th></th>\n      <th></th>\n    </tr>\n  </thead>\n  <tbody>\n  </tbody>\n</table>\n</div>"
     },
     "execution_count": 97,
     "metadata": {},
     "output_type": "execute_result"
    }
   ],
   "source": [
    "# Checking fill_missing_threat_type_v1 results\n",
    "no_threat_type = washington_post.threat_type.isnull()\n",
    "tt_retrieved_v2 = washington_post[\n",
    "    \"Retrieved_threat_type_v2\"\n",
    "].notnull()\n",
    "retrieved_tt_v2_count = washington_post[\n",
    "    [\"name\", \"threat_type\", \"Retrieved_threat_type_v2\"]\n",
    "][no_threat_type & tt_retrieved_v2].shape[0]\n",
    "print(f\"Retrieved threat_type values by v2: {retrieved_tt_v2_count}.\")\n",
    "washington_post[[\"name\", \"threat_type\", \"Retrieved_threat_type_v2\"]][\n",
    "    no_threat_type & tt_retrieved_v2\n",
    "]"
   ],
   "metadata": {
    "collapsed": false,
    "ExecuteTime": {
     "end_time": "2024-04-02T10:15:28.844909Z",
     "start_time": "2024-04-02T10:15:28.828235Z"
    }
   },
   "id": "a465b71e1bbb82e1",
   "execution_count": 97
  },
  {
   "cell_type": "code",
   "outputs": [
    {
     "data": {
      "text/plain": "array(['point', 'move', 'attack', 'shoot', 'accident', 'threat',\n       'undetermined', 'flee', nan], dtype=object)"
     },
     "execution_count": 98,
     "metadata": {},
     "output_type": "execute_result"
    }
   ],
   "source": [
    "# Reviewing unique threat_type values\n",
    "washington_post.threat_type.unique()"
   ],
   "metadata": {
    "collapsed": false,
    "ExecuteTime": {
     "end_time": "2024-04-02T10:15:28.887122Z",
     "start_time": "2024-04-02T10:15:28.833485Z"
    }
   },
   "id": "fca664a4efde741",
   "execution_count": 98
  },
  {
   "cell_type": "code",
   "outputs": [],
   "source": [
    "# Manual correction according to flee_status\n",
    "flee_not_undetermined = washington_post.flee_status != \"undetermined\"\n",
    "rows_to_correct = washington_post.index[\n",
    "    no_threat_type & flee_status_mask & flee_not_undetermined\n",
    "]\n",
    "\n",
    "for row in rows_to_correct:\n",
    "    washington_post.at[row, \"threat_type\"] = \"flee\""
   ],
   "metadata": {
    "collapsed": false,
    "ExecuteTime": {
     "end_time": "2024-04-02T10:15:28.892333Z",
     "start_time": "2024-04-02T10:15:28.836653Z"
    }
   },
   "id": "e80bb9dec085e662",
   "execution_count": 99
  },
  {
   "cell_type": "code",
   "outputs": [],
   "source": [
    "# Manual correction according to armed_with\n",
    "armed_with_not_undetermined = (\n",
    "    washington_post.armed_with != \"undetermined\"\n",
    ")\n",
    "not_armed = washington_post.armed_with != \"unarmed\"\n",
    "rows_to_correct = washington_post.index[\n",
    "    no_threat_type\n",
    "    & armed_with_mask\n",
    "    & armed_with_not_undetermined\n",
    "    & not_armed\n",
    "]\n",
    "for row in rows_to_correct:\n",
    "    washington_post.at[row, \"threat_type\"] = \"armed\""
   ],
   "metadata": {
    "collapsed": false,
    "ExecuteTime": {
     "end_time": "2024-04-02T10:15:28.897285Z",
     "start_time": "2024-04-02T10:15:28.840488Z"
    }
   },
   "id": "c13ed44af20ea75f",
   "execution_count": 100
  },
  {
   "cell_type": "code",
   "outputs": [],
   "source": [
    "# Filling the missing values in threat_type feature\n",
    "washington_post.threat_type.fillna(\"undetermined\", inplace=True)"
   ],
   "metadata": {
    "collapsed": false,
    "ExecuteTime": {
     "end_time": "2024-04-02T10:15:28.984770Z",
     "start_time": "2024-04-02T10:15:28.844086Z"
    }
   },
   "id": "b683b0a491bdd375",
   "execution_count": 101
  },
  {
   "cell_type": "code",
   "outputs": [
    {
     "name": "stdout",
     "output_type": "stream",
     "text": [
      "Missing values in threat_type feature: 0.\n"
     ]
    }
   ],
   "source": [
    "# Checking how many threat_type values missing\n",
    "missing_values = washington_post.threat_type.isnull().sum()\n",
    "print(f\"Missing values in threat_type feature: {missing_values}.\")"
   ],
   "metadata": {
    "collapsed": false,
    "ExecuteTime": {
     "end_time": "2024-04-02T10:15:28.994115Z",
     "start_time": "2024-04-02T10:15:28.847328Z"
    }
   },
   "id": "89a66f8336deb3d6",
   "execution_count": 102
  },
  {
   "cell_type": "code",
   "outputs": [
    {
     "data": {
      "text/plain": "threat_type\nshoot           2643\nthreat          2532\npoint           1746\nattack          1360\nmove             454\nundetermined     402\nflee             188\naccident          51\narmed              2\nName: count, dtype: int64"
     },
     "execution_count": 103,
     "metadata": {},
     "output_type": "execute_result"
    }
   ],
   "source": [
    "# Checking if threat_type values need corrections\n",
    "washington_post.threat_type.value_counts()"
   ],
   "metadata": {
    "collapsed": false,
    "ExecuteTime": {
     "end_time": "2024-04-02T10:15:29.003536Z",
     "start_time": "2024-04-02T10:15:28.850164Z"
    }
   },
   "id": "361333d15119b369",
   "execution_count": 103
  },
  {
   "cell_type": "markdown",
   "source": [
    "## Race and race source feature imputations\n",
    "- Race is imputed from Fatal Encounters database.\n",
    "- Library ethnicolr was used to impute missing values, however not successfully.\n",
    "- Imputed values are flagged in other column.\n",
    "- Missing values are filled with \"undetermined\""
   ],
   "metadata": {
    "collapsed": false
   },
   "id": "32585fa5d53c415d"
  },
  {
   "cell_type": "code",
   "outputs": [],
   "source": [
    "# Function to retrieve data from fatal encounters\n",
    "def fill_missing_race_v1(name, date):\n",
    "    \"\"\"Fill missing race using matching name and date.\n",
    "    Fatal encounters dataset is used.\"\"\"\n",
    "    matching_row = fatal_encounters[\n",
    "        (fatal_encounters[\"name\"] == name)\n",
    "        & (fatal_encounters[\"date\"] == date)\n",
    "    ]\n",
    "\n",
    "    # Finding matching row\n",
    "    if not matching_row.empty:\n",
    "        return matching_row[\"race\"].iloc[0]"
   ],
   "metadata": {
    "collapsed": false,
    "ExecuteTime": {
     "end_time": "2024-04-02T10:15:29.008848Z",
     "start_time": "2024-04-02T10:15:28.854188Z"
    }
   },
   "id": "b02af59e92fe8c4e",
   "execution_count": 104
  },
  {
   "cell_type": "code",
   "outputs": [],
   "source": [
    "# Function to retrieve data from fatal encounters\n",
    "def fill_missing_race_v2(Retrieved_name, date):\n",
    "    \"\"\"Fill missing race using matching name and date.\n",
    "    Fatal encounters dataset is used.\"\"\"\n",
    "    matching_row = fatal_encounters[\n",
    "        (fatal_encounters[\"Retrieved_name\"] == Retrieved_name)\n",
    "        & (fatal_encounters[\"date\"] == date)\n",
    "    ]\n",
    "\n",
    "    # Finding matching row\n",
    "    if not matching_row.empty:\n",
    "        return matching_row[\"race\"].iloc[0]"
   ],
   "metadata": {
    "collapsed": false,
    "ExecuteTime": {
     "end_time": "2024-04-02T10:15:29.013900Z",
     "start_time": "2024-04-02T10:15:28.862879Z"
    }
   },
   "id": "94ed4fc864a9f26",
   "execution_count": 105
  },
  {
   "cell_type": "code",
   "outputs": [
    {
     "data": {
      "text/plain": "1171"
     },
     "execution_count": 106,
     "metadata": {},
     "output_type": "execute_result"
    }
   ],
   "source": [
    "# Filter to identify missing race\n",
    "race = [\"race\"]\n",
    "no_race = washington_post[race].isnull().all(axis=1)\n",
    "washington_post[no_race].shape[0]"
   ],
   "metadata": {
    "collapsed": false,
    "ExecuteTime": {
     "end_time": "2024-04-02T10:15:29.023201Z",
     "start_time": "2024-04-02T10:15:28.866974Z"
    }
   },
   "id": "d9056b4adcee84c2",
   "execution_count": 106
  },
  {
   "cell_type": "code",
   "outputs": [],
   "source": [
    "# Applying fill_missing_race_v1 function\n",
    "washington_post[\"Retrieved_race_v1\"] = washington_post.apply(\n",
    "    lambda row: fill_missing_race_v1(row[\"name\"], row[\"date\"]), axis=1\n",
    ")"
   ],
   "metadata": {
    "collapsed": false,
    "ExecuteTime": {
     "end_time": "2024-04-02T10:15:34.149237Z",
     "start_time": "2024-04-02T10:15:28.871180Z"
    }
   },
   "id": "df648ae243319f6e",
   "execution_count": 107
  },
  {
   "cell_type": "code",
   "outputs": [],
   "source": [
    "# Applying fill_missing_race_v2 function\n",
    "washington_post[\"Retrieved_race_v2\"] = washington_post.apply(\n",
    "    lambda row: fill_missing_race_v2(\n",
    "        row[\"Retrieved_name\"], row[\"date\"]\n",
    "    ),\n",
    "    axis=1,\n",
    ")"
   ],
   "metadata": {
    "collapsed": false,
    "ExecuteTime": {
     "end_time": "2024-04-02T10:15:37.523537Z",
     "start_time": "2024-04-02T10:15:34.149568Z"
    }
   },
   "id": "59f4f7bd15750c92",
   "execution_count": 108
  },
  {
   "cell_type": "code",
   "outputs": [
    {
     "name": "stdout",
     "output_type": "stream",
     "text": [
      "Retrieved race by function v1: 253.\n"
     ]
    }
   ],
   "source": [
    "# Checking fill_missing_race_v1 results\n",
    "race_retrieved_v1 = washington_post[\"Retrieved_race_v1\"].notnull()\n",
    "retrieved_race_v1_count = washington_post[\n",
    "    [\"name\", \"race\", \"Retrieved_race_v1\"]\n",
    "][no_race & race_retrieved_v1].shape[0]\n",
    "print(f\"Retrieved race by function v1: {retrieved_race_v1_count}.\")\n",
    "washington_post[[\"name\", \"race\", \"Retrieved_race_v1\"]][\n",
    "    no_race & race_retrieved_v1\n",
    "];"
   ],
   "metadata": {
    "collapsed": false,
    "ExecuteTime": {
     "end_time": "2024-04-02T10:15:37.540483Z",
     "start_time": "2024-04-02T10:15:37.525177Z"
    }
   },
   "id": "93d6c23f1c4b7013",
   "execution_count": 109
  },
  {
   "cell_type": "code",
   "outputs": [
    {
     "name": "stdout",
     "output_type": "stream",
     "text": [
      "Retrieved race by function v2: 256.\n"
     ]
    }
   ],
   "source": [
    "# Checking fill_missing_race_v2 results\n",
    "race_retrieved_v2 = washington_post[\"Retrieved_race_v2\"].notnull()\n",
    "retrieved_race_v2_count = washington_post[\n",
    "    [\"name\", \"race\", \"Retrieved_race_v1\"]\n",
    "][no_race & race_retrieved_v2].shape[0]\n",
    "print(f\"Retrieved race by function v2: {retrieved_race_v2_count}.\")\n",
    "washington_post[[\"name\", \"race\", \"Retrieved_race_v2\"]][\n",
    "    no_race & race_retrieved_v2\n",
    "];"
   ],
   "metadata": {
    "collapsed": false,
    "ExecuteTime": {
     "end_time": "2024-04-02T10:15:37.547395Z",
     "start_time": "2024-04-02T10:15:37.528586Z"
    }
   },
   "id": "1bbae093cf594b45",
   "execution_count": 110
  },
  {
   "cell_type": "code",
   "outputs": [
    {
     "name": "stdout",
     "output_type": "stream",
     "text": [
      "Race values retrieved by v1 and v2 that don't match: 0.\n"
     ]
    },
    {
     "data": {
      "text/plain": "Empty DataFrame\nColumns: [date, name, race, Retrieved_race_v1, Retrieved_race_v2]\nIndex: []",
      "text/html": "<div>\n<style scoped>\n    .dataframe tbody tr th:only-of-type {\n        vertical-align: middle;\n    }\n\n    .dataframe tbody tr th {\n        vertical-align: top;\n    }\n\n    .dataframe thead th {\n        text-align: right;\n    }\n</style>\n<table border=\"1\" class=\"dataframe\">\n  <thead>\n    <tr style=\"text-align: right;\">\n      <th></th>\n      <th>date</th>\n      <th>name</th>\n      <th>race</th>\n      <th>Retrieved_race_v1</th>\n      <th>Retrieved_race_v2</th>\n    </tr>\n    <tr>\n      <th>id</th>\n      <th></th>\n      <th></th>\n      <th></th>\n      <th></th>\n      <th></th>\n    </tr>\n  </thead>\n  <tbody>\n  </tbody>\n</table>\n</div>"
     },
     "execution_count": 111,
     "metadata": {},
     "output_type": "execute_result"
    }
   ],
   "source": [
    "# Checking if not matching races were retrieved\n",
    "no_match = (\n",
    "    washington_post[\"Retrieved_race_v1\"]\n",
    "    != washington_post[\"Retrieved_race_v2\"]\n",
    ")\n",
    "no_match_count = washington_post[\n",
    "    no_match & race_retrieved_v1 & race_retrieved_v2\n",
    "].shape[0]\n",
    "print(\n",
    "    f\"Race values retrieved by v1 and v2 that don't match: {no_match_count}.\"\n",
    ")\n",
    "washington_post[\n",
    "    [\"date\", \"name\", \"race\", \"Retrieved_race_v1\", \"Retrieved_race_v2\"]\n",
    "][no_match & race_retrieved_v1 & race_retrieved_v2]"
   ],
   "metadata": {
    "collapsed": false,
    "ExecuteTime": {
     "end_time": "2024-04-02T10:15:37.557919Z",
     "start_time": "2024-04-02T10:15:37.532517Z"
    }
   },
   "id": "41f8582545b429f4",
   "execution_count": 111
  },
  {
   "cell_type": "code",
   "outputs": [],
   "source": [
    "# Filling retrieved races columns\n",
    "washington_post.Retrieved_race_v1.fillna(\n",
    "    washington_post.Retrieved_race_v2, inplace=True\n",
    ")\n",
    "washington_post.Retrieved_race_v2.fillna(\n",
    "    washington_post.Retrieved_race_v1, inplace=True\n",
    ")"
   ],
   "metadata": {
    "collapsed": false,
    "ExecuteTime": {
     "end_time": "2024-04-02T10:15:37.579992Z",
     "start_time": "2024-04-02T10:15:37.538931Z"
    }
   },
   "id": "4a3457675c15588f",
   "execution_count": 112
  },
  {
   "cell_type": "code",
   "outputs": [],
   "source": [
    "# Evaluating filling results\n",
    "washington_post[\n",
    "    [\"name\", \"race\", \"Retrieved_race_v1\", \"Retrieved_race_v2\"]\n",
    "][no_race];"
   ],
   "metadata": {
    "collapsed": false,
    "ExecuteTime": {
     "end_time": "2024-04-02T10:15:37.641957Z",
     "start_time": "2024-04-02T10:15:37.542811Z"
    }
   },
   "id": "c4ad4dce05e5cae5",
   "execution_count": 113
  },
  {
   "cell_type": "code",
   "outputs": [],
   "source": [
    "# Filling missing race values with the values retrieved\n",
    "\n",
    "condition = washington_post[\"race\"].isnull() & (\n",
    "    washington_post[\"Retrieved_race_v2\"] != \"Race unspecified\"\n",
    ")\n",
    "\n",
    "# Filling only values when condition is true\n",
    "washington_post.loc[condition, \"race\"] = washington_post[\n",
    "    \"Retrieved_race_v2\"\n",
    "]"
   ],
   "metadata": {
    "collapsed": false,
    "ExecuteTime": {
     "end_time": "2024-04-02T10:15:37.684574Z",
     "start_time": "2024-04-02T10:15:37.546225Z"
    }
   },
   "id": "d75b261c690fb9b0",
   "execution_count": 114
  },
  {
   "cell_type": "code",
   "outputs": [],
   "source": [
    "# Identifying missing race\n",
    "race = [\"race\"]\n",
    "no_race = washington_post[race].isnull().all(axis=1)\n",
    "for_race_retrieving = washington_post[no_race]\n",
    "for_race_retrieving[[\"name\", \"race\"]];"
   ],
   "metadata": {
    "collapsed": false,
    "ExecuteTime": {
     "end_time": "2024-04-02T10:15:37.695939Z",
     "start_time": "2024-04-02T10:15:37.549997Z"
    }
   },
   "id": "5e4a5a676c20a3f",
   "execution_count": 115
  },
  {
   "cell_type": "code",
   "outputs": [
    {
     "data": {
      "text/plain": "1067"
     },
     "execution_count": 116,
     "metadata": {},
     "output_type": "execute_result"
    }
   ],
   "source": [
    "# Checking how many race values are still missing\n",
    "washington_post.race.isnull().sum()"
   ],
   "metadata": {
    "collapsed": false,
    "ExecuteTime": {
     "end_time": "2024-04-02T10:15:37.706595Z",
     "start_time": "2024-04-02T10:15:37.553592Z"
    }
   },
   "id": "41b439d9943ee4a0",
   "execution_count": 116
  },
  {
   "cell_type": "code",
   "outputs": [],
   "source": [
    "# Checking race values\n",
    "washington_post[[\"name\", \"race\", \"Retrieved_race_v2\"]][no_race];"
   ],
   "metadata": {
    "collapsed": false,
    "ExecuteTime": {
     "end_time": "2024-04-02T10:15:37.736529Z",
     "start_time": "2024-04-02T10:15:37.556851Z"
    }
   },
   "id": "8f305831b0425242",
   "execution_count": 117
  },
  {
   "cell_type": "markdown",
   "source": [
    "Since there are still missing values, ethnicolr library will be used to impute missing values. Since the library changes the shape of the dataframe, dataframe copies will be created and merged, to maintain the original dataframe structure. Predictions will be performed for all the surnames, since different people have different amount of surnames. After prediction merging with dataframe highest confidence values are selected as gender identification. "
   ],
   "metadata": {
    "collapsed": false
   },
   "id": "b786d834569ffcbf"
  },
  {
   "cell_type": "code",
   "outputs": [],
   "source": [
    "# Preparing dataframes for the prediction of race\n",
    "second_name_predictions = washington_post.copy()\n",
    "second_name_predictions.reset_index(inplace=True)\n",
    "second_name_predictions.rename(\n",
    "    columns={\"id\": \"original_index\"}, inplace=True\n",
    ")\n",
    "\n",
    "third_name_predictions = washington_post.copy()\n",
    "third_name_predictions.reset_index(inplace=True)\n",
    "third_name_predictions.rename(\n",
    "    columns={\"id\": \"original_index\"}, inplace=True\n",
    ")\n",
    "\n",
    "fourth_name_predictions = washington_post.copy()\n",
    "fourth_name_predictions.reset_index(inplace=True)\n",
    "fourth_name_predictions.rename(\n",
    "    columns={\"id\": \"original_index\"}, inplace=True\n",
    ")\n",
    "\n",
    "fifth_name_predictions = washington_post.copy()\n",
    "fifth_name_predictions.reset_index(inplace=True)\n",
    "fifth_name_predictions.rename(\n",
    "    columns={\"id\": \"original_index\"}, inplace=True\n",
    ")"
   ],
   "metadata": {
    "collapsed": false,
    "ExecuteTime": {
     "end_time": "2024-04-02T10:15:37.797430Z",
     "start_time": "2024-04-02T10:15:37.561081Z"
    }
   },
   "id": "1e8b479ab89ed910",
   "execution_count": 118
  },
  {
   "cell_type": "code",
   "outputs": [],
   "source": [
    "# Race prediction using census_ln model\n",
    "predicted_race_second_name = census_ln(\n",
    "    second_name_predictions, \"second_name\"\n",
    ")\n",
    "predicted_race_third_name = census_ln(\n",
    "    third_name_predictions, \"third_name\"\n",
    ")\n",
    "predicted_race_fourth_name = census_ln(\n",
    "    fourth_name_predictions, \"fourth_name\"\n",
    ")\n",
    "predicted_race_fifth_name = census_ln(\n",
    "    fifth_name_predictions, \"fifth_name\"\n",
    ")"
   ],
   "metadata": {
    "collapsed": false,
    "ExecuteTime": {
     "end_time": "2024-04-02T10:15:38.045737Z",
     "start_time": "2024-04-02T10:15:37.585216Z"
    }
   },
   "id": "bd45293272407d52",
   "execution_count": 119
  },
  {
   "cell_type": "code",
   "outputs": [],
   "source": [
    "# Retrieving original index after the prediction\n",
    "predicted_race_second_name.set_index(\"original_index\", inplace=True)\n",
    "predicted_race_third_name.set_index(\"original_index\", inplace=True)\n",
    "predicted_race_fourth_name.set_index(\"original_index\", inplace=True)\n",
    "predicted_race_fifth_name.set_index(\"original_index\", inplace=True)"
   ],
   "metadata": {
    "collapsed": false,
    "ExecuteTime": {
     "end_time": "2024-04-02T10:15:38.052437Z",
     "start_time": "2024-04-02T10:15:37.842498Z"
    }
   },
   "id": "ff76f9ed3df727d3",
   "execution_count": 120
  },
  {
   "cell_type": "code",
   "outputs": [],
   "source": [
    "# Filling missing values with 0\n",
    "columns = [\n",
    "    \"pctwhite\",\n",
    "    \"pctblack\",\n",
    "    \"pctapi\",\n",
    "    \"pctaian\",\n",
    "    \"pct2prace\",\n",
    "    \"pcthispanic\",\n",
    "]\n",
    "for column in columns:\n",
    "    predicted_race_second_name[column].fillna(0, inplace=True)\n",
    "    predicted_race_third_name[column].fillna(0, inplace=True)\n",
    "    predicted_race_fourth_name[column].fillna(0, inplace=True)\n",
    "    predicted_race_fifth_name[column].fillna(0, inplace=True)"
   ],
   "metadata": {
    "collapsed": false,
    "ExecuteTime": {
     "end_time": "2024-04-02T10:15:38.067553Z",
     "start_time": "2024-04-02T10:15:37.853546Z"
    }
   },
   "id": "d67695d2786a63b5",
   "execution_count": 121
  },
  {
   "cell_type": "code",
   "outputs": [],
   "source": [
    "# Merging dataframes to create same shape\n",
    "merged_df = pd.merge(\n",
    "    washington_post,\n",
    "    predicted_race_second_name[\n",
    "        [\n",
    "            \"pctwhite\",\n",
    "            \"pctblack\",\n",
    "            \"pctapi\",\n",
    "            \"pctaian\",\n",
    "            \"pct2prace\",\n",
    "            \"pcthispanic\",\n",
    "        ]\n",
    "    ],\n",
    "    left_index=True,\n",
    "    right_index=True,\n",
    "    how=\"left\",\n",
    ")\n",
    "merged_df_2 = pd.merge(\n",
    "    washington_post,\n",
    "    predicted_race_third_name[\n",
    "        [\n",
    "            \"pctwhite\",\n",
    "            \"pctblack\",\n",
    "            \"pctapi\",\n",
    "            \"pctaian\",\n",
    "            \"pct2prace\",\n",
    "            \"pcthispanic\",\n",
    "        ]\n",
    "    ],\n",
    "    left_index=True,\n",
    "    right_index=True,\n",
    "    how=\"left\",\n",
    ")\n",
    "merged_df_3 = pd.merge(\n",
    "    washington_post,\n",
    "    predicted_race_fourth_name[\n",
    "        [\n",
    "            \"pctwhite\",\n",
    "            \"pctblack\",\n",
    "            \"pctapi\",\n",
    "            \"pctaian\",\n",
    "            \"pct2prace\",\n",
    "            \"pcthispanic\",\n",
    "        ]\n",
    "    ],\n",
    "    left_index=True,\n",
    "    right_index=True,\n",
    "    how=\"left\",\n",
    ")\n",
    "merged_df_4 = pd.merge(\n",
    "    washington_post,\n",
    "    predicted_race_fifth_name[\n",
    "        [\n",
    "            \"pctwhite\",\n",
    "            \"pctblack\",\n",
    "            \"pctapi\",\n",
    "            \"pctaian\",\n",
    "            \"pct2prace\",\n",
    "            \"pcthispanic\",\n",
    "        ]\n",
    "    ],\n",
    "    left_index=True,\n",
    "    right_index=True,\n",
    "    how=\"left\",\n",
    ")"
   ],
   "metadata": {
    "collapsed": false,
    "ExecuteTime": {
     "end_time": "2024-04-02T10:15:38.102963Z",
     "start_time": "2024-04-02T10:15:37.861606Z"
    }
   },
   "id": "abce41820802858e",
   "execution_count": 122
  },
  {
   "cell_type": "code",
   "outputs": [],
   "source": [
    "# Continual merge of dataframes\n",
    "merged_df_5 = pd.merge(\n",
    "    merged_df,\n",
    "    merged_df_2[\n",
    "        [\n",
    "            \"pctwhite\",\n",
    "            \"pctblack\",\n",
    "            \"pctapi\",\n",
    "            \"pctaian\",\n",
    "            \"pct2prace\",\n",
    "            \"pcthispanic\",\n",
    "        ]\n",
    "    ],\n",
    "    left_index=True,\n",
    "    right_index=True,\n",
    "    how=\"left\",\n",
    ")\n",
    "merged_df_6 = pd.merge(\n",
    "    merged_df_3,\n",
    "    merged_df_4[\n",
    "        [\n",
    "            \"pctwhite\",\n",
    "            \"pctblack\",\n",
    "            \"pctapi\",\n",
    "            \"pctaian\",\n",
    "            \"pct2prace\",\n",
    "            \"pcthispanic\",\n",
    "        ]\n",
    "    ],\n",
    "    left_index=True,\n",
    "    right_index=True,\n",
    "    how=\"left\",\n",
    ")"
   ],
   "metadata": {
    "collapsed": false,
    "ExecuteTime": {
     "end_time": "2024-04-02T10:15:38.121148Z",
     "start_time": "2024-04-02T10:15:37.903448Z"
    }
   },
   "id": "eb8385510399985f",
   "execution_count": 123
  },
  {
   "cell_type": "code",
   "outputs": [],
   "source": [
    "# Final merge to get all result on one dataframe\n",
    "final_merge = pd.merge(\n",
    "    merged_df_5,\n",
    "    merged_df_6[\n",
    "        [\n",
    "            \"pctwhite_x\",\n",
    "            \"pctblack_x\",\n",
    "            \"pctapi_x\",\n",
    "            \"pctaian_x\",\n",
    "            \"pct2prace_x\",\n",
    "            \"pcthispanic_x\",\n",
    "            \"pctwhite_y\",\n",
    "            \"pctblack_y\",\n",
    "            \"pctapi_y\",\n",
    "            \"pctaian_y\",\n",
    "            \"pct2prace_y\",\n",
    "            \"pcthispanic_y\",\n",
    "        ]\n",
    "    ],\n",
    "    left_index=True,\n",
    "    right_index=True,\n",
    "    how=\"left\",\n",
    ")"
   ],
   "metadata": {
    "collapsed": false,
    "ExecuteTime": {
     "end_time": "2024-04-02T10:15:38.187797Z",
     "start_time": "2024-04-02T10:15:37.921427Z"
    }
   },
   "id": "66ce265e31601417",
   "execution_count": 124
  },
  {
   "cell_type": "code",
   "outputs": [],
   "source": [
    "# Standardising column values to make them comparable\n",
    "columns = [\n",
    "    \"pctwhite_x_x\",\n",
    "    \"pctblack_x_x\",\n",
    "    \"pctapi_x_x\",\n",
    "    \"pctaian_x_x\",\n",
    "    \"pct2prace_x_x\",\n",
    "    \"pcthispanic_x_x\",\n",
    "    \"pctwhite_y_x\",\n",
    "    \"pctblack_y_x\",\n",
    "    \"pctapi_y_x\",\n",
    "    \"pctaian_y_x\",\n",
    "    \"pct2prace_y_x\",\n",
    "    \"pcthispanic_y_x\",\n",
    "    \"pctwhite_x_y\",\n",
    "    \"pctblack_x_y\",\n",
    "    \"pctapi_x_y\",\n",
    "    \"pctaian_x_y\",\n",
    "    \"pct2prace_x_y\",\n",
    "    \"pcthispanic_x_y\",\n",
    "    \"pctwhite_y_y\",\n",
    "    \"pctblack_y_y\",\n",
    "    \"pctapi_y_y\",\n",
    "    \"pctaian_y_y\",\n",
    "    \"pct2prace_y_y\",\n",
    "    \"pcthispanic_y_y\",\n",
    "]\n",
    "for column in columns:\n",
    "    final_merge[column] = (\n",
    "        final_merge[column].str.strip().str.lower().replace(\"(s)\", 0)\n",
    "    )\n",
    "    final_merge[column].fillna(0, inplace=True)\n",
    "for column in columns:\n",
    "    final_merge[column] = final_merge[column].astype(float)"
   ],
   "metadata": {
    "collapsed": false,
    "ExecuteTime": {
     "end_time": "2024-04-02T10:15:38.208790Z",
     "start_time": "2024-04-02T10:15:37.938842Z"
    }
   },
   "id": "e0405b769a97aee6",
   "execution_count": 125
  },
  {
   "cell_type": "code",
   "outputs": [],
   "source": [
    "# Find the column with the highest value for each row\n",
    "final_merge[\"ethnicolr_race\"] = final_merge[\n",
    "    [\n",
    "        \"pctwhite_x_x\",\n",
    "        \"pctblack_x_x\",\n",
    "        \"pctapi_x_x\",\n",
    "        \"pctaian_x_x\",\n",
    "        \"pct2prace_x_x\",\n",
    "        \"pcthispanic_x_x\",\n",
    "        \"pctwhite_y_x\",\n",
    "        \"pctblack_y_x\",\n",
    "        \"pctapi_y_x\",\n",
    "        \"pctaian_y_x\",\n",
    "        \"pct2prace_y_x\",\n",
    "        \"pcthispanic_y_x\",\n",
    "        \"pctwhite_x_y\",\n",
    "        \"pctblack_x_y\",\n",
    "        \"pctapi_x_y\",\n",
    "        \"pctaian_x_y\",\n",
    "        \"pct2prace_x_y\",\n",
    "        \"pcthispanic_x_y\",\n",
    "        \"pctwhite_y_y\",\n",
    "        \"pctblack_y_y\",\n",
    "        \"pctapi_y_y\",\n",
    "        \"pctaian_y_y\",\n",
    "        \"pct2prace_y_y\",\n",
    "        \"pcthispanic_y_y\",\n",
    "    ]\n",
    "].idxmax(axis=1)"
   ],
   "metadata": {
    "collapsed": false,
    "ExecuteTime": {
     "end_time": "2024-04-02T10:15:38.224223Z",
     "start_time": "2024-04-02T10:15:38.005966Z"
    }
   },
   "id": "3cd22de2a01413db",
   "execution_count": 126
  },
  {
   "cell_type": "code",
   "outputs": [],
   "source": [
    "# Evaluating ethicolr results for missing values\n",
    "final_merge[[\"name\", \"race\", \"Retrieved_race_v2\", \"ethnicolr_race\"]][\n",
    "    no_race\n",
    "];"
   ],
   "metadata": {
    "collapsed": false,
    "ExecuteTime": {
     "end_time": "2024-04-02T10:15:38.243330Z",
     "start_time": "2024-04-02T10:15:38.012788Z"
    }
   },
   "id": "c94713a007aaaef0",
   "execution_count": 127
  },
  {
   "cell_type": "code",
   "outputs": [],
   "source": [
    "# Manual evaluation of ethicolr results for all dataframe\n",
    "final_merge[[\"name\", \"race\", \"Retrieved_race_v2\", \"ethnicolr_race\"]];"
   ],
   "metadata": {
    "collapsed": false,
    "ExecuteTime": {
     "end_time": "2024-04-02T10:15:38.250209Z",
     "start_time": "2024-04-02T10:15:38.017390Z"
    }
   },
   "id": "ecd9737e0c1742da",
   "execution_count": 128
  },
  {
   "cell_type": "markdown",
   "source": [
    "After manual evaluation of ethnicolr library results, it was identified, that algorithm is potentially not accurate. Big inaccuracies are identified with black race. During the comparison of known race values and ethnicolr predicted race values it is visible that results are not very accurate: ethnicolr algorithm identify race black correctly in 9.0% cases."
   ],
   "metadata": {
    "collapsed": false
   },
   "id": "51e8166db4471815"
  },
  {
   "cell_type": "code",
   "outputs": [
    {
     "name": "stdout",
     "output_type": "stream",
     "text": [
      "Ethnicolr algorithm identify race black correctly in 9.0% cases.\n"
     ]
    }
   ],
   "source": [
    "# Checking how ethnicolr predictions match the data\n",
    "final_merge_black = final_merge.race == \"B\"\n",
    "ethnicolr_race = final_merge[\"ethnicolr_race\"].isin(\n",
    "    [\"pctblack_x_x\", \"pctblack_x_y\", \"pctblack_y_x\"]\n",
    ")\n",
    "black_identified = final_merge[\n",
    "    final_merge_black & ethnicolr_race\n",
    "].shape[0]\n",
    "total_known_black = final_merge[final_merge_black].shape[0]\n",
    "correctly_identified_black = round(\n",
    "    black_identified / total_known_black * 100, 0\n",
    ")\n",
    "print(\n",
    "    f\"Ethnicolr algorithm identify race black correctly in\"\n",
    "    f\" {correctly_identified_black}% cases.\"\n",
    ")"
   ],
   "metadata": {
    "collapsed": false,
    "ExecuteTime": {
     "end_time": "2024-04-02T10:15:38.262677Z",
     "start_time": "2024-04-02T10:15:38.024944Z"
    }
   },
   "id": "9f6b9b9179ae0c2",
   "execution_count": 129
  },
  {
   "cell_type": "code",
   "outputs": [],
   "source": [
    "# Filling the missing values with undetermined\n",
    "final_merge.race.fillna(\"undetermined\", inplace=True)"
   ],
   "metadata": {
    "collapsed": false,
    "ExecuteTime": {
     "end_time": "2024-04-02T10:15:38.269744Z",
     "start_time": "2024-04-02T10:15:38.035110Z"
    }
   },
   "id": "886192bae7298ea2",
   "execution_count": 130
  },
  {
   "cell_type": "code",
   "outputs": [
    {
     "name": "stdout",
     "output_type": "stream",
     "text": [
      "Missing values in race feature: 0.\n"
     ]
    }
   ],
   "source": [
    "# Checking how many race values missing\n",
    "missing_values = final_merge.race.isnull().sum()\n",
    "print(f\"Missing values in race feature: {missing_values}.\")"
   ],
   "metadata": {
    "collapsed": false,
    "ExecuteTime": {
     "end_time": "2024-04-02T10:15:38.280901Z",
     "start_time": "2024-04-02T10:15:38.038170Z"
    }
   },
   "id": "f694f62c59a0935b",
   "execution_count": 131
  },
  {
   "cell_type": "code",
   "outputs": [
    {
     "name": "stdout",
     "output_type": "stream",
     "text": [
      "['A' 'W' 'H' 'B' 'O' 'undetermined' 'N' 'European-American/White'\n",
      " 'Hispanic/Latino' 'Native American/Alaskan' 'African-American/Black'\n",
      " 'Asian/Pacific Islander' 'Middle Eastern' 'W;B;N' 'N;H'\n",
      " 'European-American/European-American/White' 'W;H'\n",
      " 'Christopher Anthony Alexander' 'B;H' 'W;B']\n"
     ]
    }
   ],
   "source": [
    "# Checking if race values need corrections\n",
    "print(final_merge.race.unique())"
   ],
   "metadata": {
    "collapsed": false,
    "ExecuteTime": {
     "end_time": "2024-04-02T10:15:38.302018Z",
     "start_time": "2024-04-02T10:15:38.042724Z"
    }
   },
   "id": "88f6fa136ea97144",
   "execution_count": 132
  },
  {
   "cell_type": "code",
   "outputs": [
    {
     "data": {
      "text/plain": "           date threat_type flee_status    armed_with     city        county  \\\nid                                                                             \n7434 2021-12-16      attack        foot  edged_weapon  Clinton  Davis County   \n\n     state   latitude   longitude location_precision  ... pctaian_x_y  \\\nid                                                    ...               \n7434    UT  41.147162 -112.054839         city_based  ...         0.0   \n\n      pct2prace_x_y pcthispanic_x_y pctwhite_y_y pctblack_y_y  pctapi_y_y  \\\nid                                                                          \n7434            0.0             0.0          0.0          0.0         0.0   \n\n      pctaian_y_y pct2prace_y_y pcthispanic_y_y  ethnicolr_race  \nid                                                               \n7434          0.0           0.0             0.0    pctwhite_x_x  \n\n[1 rows x 69 columns]",
      "text/html": "<div>\n<style scoped>\n    .dataframe tbody tr th:only-of-type {\n        vertical-align: middle;\n    }\n\n    .dataframe tbody tr th {\n        vertical-align: top;\n    }\n\n    .dataframe thead th {\n        text-align: right;\n    }\n</style>\n<table border=\"1\" class=\"dataframe\">\n  <thead>\n    <tr style=\"text-align: right;\">\n      <th></th>\n      <th>date</th>\n      <th>threat_type</th>\n      <th>flee_status</th>\n      <th>armed_with</th>\n      <th>city</th>\n      <th>county</th>\n      <th>state</th>\n      <th>latitude</th>\n      <th>longitude</th>\n      <th>location_precision</th>\n      <th>...</th>\n      <th>pctaian_x_y</th>\n      <th>pct2prace_x_y</th>\n      <th>pcthispanic_x_y</th>\n      <th>pctwhite_y_y</th>\n      <th>pctblack_y_y</th>\n      <th>pctapi_y_y</th>\n      <th>pctaian_y_y</th>\n      <th>pct2prace_y_y</th>\n      <th>pcthispanic_y_y</th>\n      <th>ethnicolr_race</th>\n    </tr>\n    <tr>\n      <th>id</th>\n      <th></th>\n      <th></th>\n      <th></th>\n      <th></th>\n      <th></th>\n      <th></th>\n      <th></th>\n      <th></th>\n      <th></th>\n      <th></th>\n      <th></th>\n      <th></th>\n      <th></th>\n      <th></th>\n      <th></th>\n      <th></th>\n      <th></th>\n      <th></th>\n      <th></th>\n      <th></th>\n      <th></th>\n    </tr>\n  </thead>\n  <tbody>\n    <tr>\n      <th>7434</th>\n      <td>2021-12-16</td>\n      <td>attack</td>\n      <td>foot</td>\n      <td>edged_weapon</td>\n      <td>Clinton</td>\n      <td>Davis County</td>\n      <td>UT</td>\n      <td>41.147162</td>\n      <td>-112.054839</td>\n      <td>city_based</td>\n      <td>...</td>\n      <td>0.0</td>\n      <td>0.0</td>\n      <td>0.0</td>\n      <td>0.0</td>\n      <td>0.0</td>\n      <td>0.0</td>\n      <td>0.0</td>\n      <td>0.0</td>\n      <td>0.0</td>\n      <td>pctwhite_x_x</td>\n    </tr>\n  </tbody>\n</table>\n<p>1 rows × 69 columns</p>\n</div>"
     },
     "execution_count": 133,
     "metadata": {},
     "output_type": "execute_result"
    }
   ],
   "source": [
    "# Manual correction of the misatke\n",
    "mistake = final_merge.name == \"Christopher Anthony Alexander\"\n",
    "final_merge[mistake]"
   ],
   "metadata": {
    "collapsed": false,
    "ExecuteTime": {
     "end_time": "2024-04-02T10:15:38.363418Z",
     "start_time": "2024-04-02T10:15:38.049471Z"
    }
   },
   "id": "40da122f31438cd6",
   "execution_count": 133
  },
  {
   "cell_type": "code",
   "outputs": [],
   "source": [
    "# Manual race fixes\n",
    "final_merge.loc[7434, \"race\"] = \"undetermined\""
   ],
   "metadata": {
    "collapsed": false,
    "ExecuteTime": {
     "end_time": "2024-04-02T10:15:38.375302Z",
     "start_time": "2024-04-02T10:15:38.058996Z"
    }
   },
   "id": "b474380eddde4e00",
   "execution_count": 134
  },
  {
   "cell_type": "code",
   "outputs": [
    {
     "name": "stdout",
     "output_type": "stream",
     "text": [
      "['A' 'W' 'H' 'B' 'O' 'undetermined' 'N' 'European-American/White'\n",
      " 'Hispanic/Latino' 'Native American/Alaskan' 'African-American/Black'\n",
      " 'Asian/Pacific Islander' 'Middle Eastern' 'W;B;N' 'N;H'\n",
      " 'European-American/European-American/White' 'W;H' 'B;H' 'W;B']\n"
     ]
    }
   ],
   "source": [
    "# Checking if race values need corrections\n",
    "print(final_merge.race.unique())"
   ],
   "metadata": {
    "collapsed": false,
    "ExecuteTime": {
     "end_time": "2024-04-02T10:15:38.382547Z",
     "start_time": "2024-04-02T10:15:38.063211Z"
    }
   },
   "id": "71f6ff335e70ed2e",
   "execution_count": 135
  },
  {
   "cell_type": "markdown",
   "source": [
    "#### Standartising race data\n",
    "Race data retrieved from Fatal Encounters need to be standartised with the Washington post dataset guidelines."
   ],
   "metadata": {
    "collapsed": false
   },
   "id": "4059461e29e8e5e9"
  },
  {
   "cell_type": "code",
   "outputs": [],
   "source": [
    "# Correcting values to unify data\n",
    "EAW = final_merge.race == \"European-American/White\"\n",
    "EAEAW = (\n",
    "    final_merge.race == \"European-American/European-American/White\"\n",
    ")\n",
    "AAB = final_merge.race == \"African-American/Black\"\n",
    "HL = final_merge.race == \"Hispanic/Latino\"\n",
    "API = final_merge.race == \"Asian/Pacific Islander\"\n",
    "ME = final_merge.race == \"Middle Eastern\"\n",
    "NAA = final_merge.race == \"Native American/Alaskan\"\n",
    "\n",
    "final_merge.loc[EAW, \"race\"] = \"W\"\n",
    "final_merge.loc[EAEAW, \"race\"] = \"W\"\n",
    "final_merge.loc[AAB, \"race\"] = \"B\"\n",
    "final_merge.loc[HL, \"race\"] = \"H\"\n",
    "final_merge.loc[API, \"race\"] = \"A\"\n",
    "final_merge.loc[ME, \"race\"] = \"A\"\n",
    "final_merge.loc[NAA, \"race\"] = \"O\""
   ],
   "metadata": {
    "collapsed": false,
    "ExecuteTime": {
     "end_time": "2024-04-02T10:15:38.399671Z",
     "start_time": "2024-04-02T10:15:38.075400Z"
    }
   },
   "id": "76136384ddfbcbbe",
   "execution_count": 136
  },
  {
   "cell_type": "code",
   "outputs": [
    {
     "name": "stdout",
     "output_type": "stream",
     "text": [
      "['A' 'W' 'H' 'B' 'O' 'undetermined' 'N' 'W;B;N' 'N;H' 'W;H' 'B;H' 'W;B']\n"
     ]
    }
   ],
   "source": [
    "# Checking if race values need corrections\n",
    "print(final_merge.race.unique())"
   ],
   "metadata": {
    "collapsed": false,
    "ExecuteTime": {
     "end_time": "2024-04-02T10:15:38.413315Z",
     "start_time": "2024-04-02T10:15:38.078820Z"
    }
   },
   "id": "4f199c4d83763a09",
   "execution_count": 137
  },
  {
   "cell_type": "code",
   "outputs": [
    {
     "name": "stdout",
     "output_type": "stream",
     "text": [
      "Column race_source has null values.\n",
      "Column Retrieved_name has null values.\n",
      "Column name_similarity has null values.\n",
      "Column Retrieved_gender_v2 has null values.\n",
      "Column Retrieved_age_v1 has null values.\n",
      "Column Retrieved_age_v2 has null values.\n",
      "Column Retrieved_flee_status_v1 has null values.\n",
      "Column Retrieved_flee_status_v2 has null values.\n",
      "Column Retrieved_armed_with_v1 has null values.\n",
      "Column Retrieved_armed_with_v2 has null values.\n",
      "Column armed_with_v1 has null values.\n",
      "Column Retrieved_threat_type_v1 has null values.\n",
      "Column Retrieved_threat_type_v2 has null values.\n",
      "Column Retrieved_race_v1 has null values.\n",
      "Column Retrieved_race_v2 has null values.\n"
     ]
    }
   ],
   "source": [
    "for column in final_merge.columns:\n",
    "    if final_merge[column].isnull().any():\n",
    "        print(f\"Column {column} has null values.\")"
   ],
   "metadata": {
    "collapsed": false,
    "ExecuteTime": {
     "end_time": "2024-04-02T10:15:38.419639Z",
     "start_time": "2024-04-02T10:15:38.092056Z"
    }
   },
   "id": "31ce80112473cc08",
   "execution_count": 138
  },
  {
   "cell_type": "markdown",
   "source": [
    "## Duplicates\n",
    "\n",
    "Duplicates are identified:\n",
    " - For full rows\n",
    " - For date and name duplicate\n",
    "\n",
    "Date and name dupicates are removed after manual evaluation."
   ],
   "metadata": {
    "collapsed": false
   },
   "id": "8b481d9cbf1726e4"
  },
  {
   "cell_type": "code",
   "outputs": [
    {
     "name": "stdout",
     "output_type": "stream",
     "text": [
      "Are there duplicate rows? Answer (True/False): False.\n"
     ]
    }
   ],
   "source": [
    "# Checking if there are duplicate rows\n",
    "duplicates = final_merge.duplicated().any()\n",
    "print(f\"Are there duplicate rows? Answer (True/False): {duplicates}.\")"
   ],
   "metadata": {
    "collapsed": false,
    "ExecuteTime": {
     "end_time": "2024-04-02T10:15:38.448333Z",
     "start_time": "2024-04-02T10:15:38.099668Z"
    }
   },
   "id": "f9f8f0523acc7ddd",
   "execution_count": 139
  },
  {
   "cell_type": "code",
   "outputs": [
    {
     "data": {
      "text/plain": "           date             name   age gender           city state  \\\nid                                                                   \n3692 2018-05-11  Kelly G. Abbott  51.0   male           York    WI   \n3746 2018-05-11  Kelly G. Abbott  51.0   male   Clark County    WI   \n5076 2019-10-06   Maurice Holley  55.0   male         Herald    CA   \n5088 2019-10-06   Maurice Holley  55.0   male     Sacramento    CA   \n8642 2022-11-16      Thomas Phan  40.0   male  Santa Clarita    CA   \n8661 2022-11-16      Thomas Phan  40.0   male      Santa Ana    CA   \n\n     location_precision  \nid                       \n3692      not_available  \n3746         city_based  \n5076      not_available  \n5088      not_available  \n8642      not_available  \n8661      not_available  ",
      "text/html": "<div>\n<style scoped>\n    .dataframe tbody tr th:only-of-type {\n        vertical-align: middle;\n    }\n\n    .dataframe tbody tr th {\n        vertical-align: top;\n    }\n\n    .dataframe thead th {\n        text-align: right;\n    }\n</style>\n<table border=\"1\" class=\"dataframe\">\n  <thead>\n    <tr style=\"text-align: right;\">\n      <th></th>\n      <th>date</th>\n      <th>name</th>\n      <th>age</th>\n      <th>gender</th>\n      <th>city</th>\n      <th>state</th>\n      <th>location_precision</th>\n    </tr>\n    <tr>\n      <th>id</th>\n      <th></th>\n      <th></th>\n      <th></th>\n      <th></th>\n      <th></th>\n      <th></th>\n      <th></th>\n    </tr>\n  </thead>\n  <tbody>\n    <tr>\n      <th>3692</th>\n      <td>2018-05-11</td>\n      <td>Kelly G. Abbott</td>\n      <td>51.0</td>\n      <td>male</td>\n      <td>York</td>\n      <td>WI</td>\n      <td>not_available</td>\n    </tr>\n    <tr>\n      <th>3746</th>\n      <td>2018-05-11</td>\n      <td>Kelly G. Abbott</td>\n      <td>51.0</td>\n      <td>male</td>\n      <td>Clark County</td>\n      <td>WI</td>\n      <td>city_based</td>\n    </tr>\n    <tr>\n      <th>5076</th>\n      <td>2019-10-06</td>\n      <td>Maurice Holley</td>\n      <td>55.0</td>\n      <td>male</td>\n      <td>Herald</td>\n      <td>CA</td>\n      <td>not_available</td>\n    </tr>\n    <tr>\n      <th>5088</th>\n      <td>2019-10-06</td>\n      <td>Maurice Holley</td>\n      <td>55.0</td>\n      <td>male</td>\n      <td>Sacramento</td>\n      <td>CA</td>\n      <td>not_available</td>\n    </tr>\n    <tr>\n      <th>8642</th>\n      <td>2022-11-16</td>\n      <td>Thomas Phan</td>\n      <td>40.0</td>\n      <td>male</td>\n      <td>Santa Clarita</td>\n      <td>CA</td>\n      <td>not_available</td>\n    </tr>\n    <tr>\n      <th>8661</th>\n      <td>2022-11-16</td>\n      <td>Thomas Phan</td>\n      <td>40.0</td>\n      <td>male</td>\n      <td>Santa Ana</td>\n      <td>CA</td>\n      <td>not_available</td>\n    </tr>\n  </tbody>\n</table>\n</div>"
     },
     "execution_count": 140,
     "metadata": {},
     "output_type": "execute_result"
    }
   ],
   "source": [
    "# Checking if there are duplicate date and name values\n",
    "duplicate_rows = final_merge.duplicated(\n",
    "    subset=[\"date\", \"name\"], keep=False\n",
    ")\n",
    "name_not_undetermined = final_merge.name != \"undetermined\"\n",
    "name_exists = final_merge.name.notnull()\n",
    "final_merge[\n",
    "    [\n",
    "        \"date\",\n",
    "        \"name\",\n",
    "        \"age\",\n",
    "        \"gender\",\n",
    "        \"city\",\n",
    "        \"state\",\n",
    "        \"location_precision\",\n",
    "    ]\n",
    "][duplicate_rows & name_exists & name_not_undetermined]"
   ],
   "metadata": {
    "collapsed": false,
    "ExecuteTime": {
     "end_time": "2024-04-02T10:15:38.467506Z",
     "start_time": "2024-04-02T10:15:38.122902Z"
    }
   },
   "id": "2e4a28e090110e30",
   "execution_count": 140
  },
  {
   "cell_type": "code",
   "outputs": [],
   "source": [
    "# Drop multiple rows by index\n",
    "rows_to_drop = [3746, 5076, 8661]\n",
    "final_merge.drop(rows_to_drop, inplace=True)"
   ],
   "metadata": {
    "collapsed": false,
    "ExecuteTime": {
     "end_time": "2024-04-02T10:15:38.473455Z",
     "start_time": "2024-04-02T10:15:38.135015Z"
    }
   },
   "id": "bcd53ff809971e94",
   "execution_count": 141
  },
  {
   "cell_type": "code",
   "outputs": [
    {
     "data": {
      "text/plain": "Empty DataFrame\nColumns: [date, name, age, gender, city, state, location_precision]\nIndex: []",
      "text/html": "<div>\n<style scoped>\n    .dataframe tbody tr th:only-of-type {\n        vertical-align: middle;\n    }\n\n    .dataframe tbody tr th {\n        vertical-align: top;\n    }\n\n    .dataframe thead th {\n        text-align: right;\n    }\n</style>\n<table border=\"1\" class=\"dataframe\">\n  <thead>\n    <tr style=\"text-align: right;\">\n      <th></th>\n      <th>date</th>\n      <th>name</th>\n      <th>age</th>\n      <th>gender</th>\n      <th>city</th>\n      <th>state</th>\n      <th>location_precision</th>\n    </tr>\n    <tr>\n      <th>id</th>\n      <th></th>\n      <th></th>\n      <th></th>\n      <th></th>\n      <th></th>\n      <th></th>\n      <th></th>\n    </tr>\n  </thead>\n  <tbody>\n  </tbody>\n</table>\n</div>"
     },
     "execution_count": 142,
     "metadata": {},
     "output_type": "execute_result"
    }
   ],
   "source": [
    "# Reviewing if any more duplicates are left\n",
    "duplicate_rows = final_merge.duplicated(\n",
    "    subset=[\"date\", \"name\"], keep=False\n",
    ")\n",
    "name_not_undetermined = final_merge.name != \"undetermined\"\n",
    "name_exists = final_merge.name.notnull()\n",
    "final_merge[\n",
    "    [\n",
    "        \"date\",\n",
    "        \"name\",\n",
    "        \"age\",\n",
    "        \"gender\",\n",
    "        \"city\",\n",
    "        \"state\",\n",
    "        \"location_precision\",\n",
    "    ]\n",
    "][duplicate_rows & name_exists & name_not_undetermined]"
   ],
   "metadata": {
    "collapsed": false,
    "ExecuteTime": {
     "end_time": "2024-04-02T10:15:38.485222Z",
     "start_time": "2024-04-02T10:15:38.142679Z"
    }
   },
   "id": "242b7a29e3e18404",
   "execution_count": 142
  },
  {
   "cell_type": "markdown",
   "source": [
    "## Outliers\n",
    "Outliers are identified using a few methods:\n",
    "- Z-score\n",
    "- IQR ranges\n",
    "- Isolation forest\n",
    "- DBSCAN\n",
    "\n",
    "Outliers identified by different algorithms are plotted on violin plot and evaluated taking a look into the mean and median values. \n",
    "Common latitude and longitude outliers identified by all algorithms are investigated further.\n",
    "Outliers of age feature are taken as a data variability feature and kept in the dataset."
   ],
   "metadata": {
    "collapsed": false
   },
   "id": "dd5a1ea856c7a2ee"
  },
  {
   "cell_type": "code",
   "outputs": [
    {
     "name": "stdout",
     "output_type": "stream",
     "text": [
      "\u001B[92mThe age statistics:\u001B[0m\n",
      "Normal distribution intervals for the age: -38.185 to 38.185.\n",
      "IQR intervals for the age: 2.5 to 70.5.\n",
      "Mean for the age: 37.248.\n",
      "Median for the age: 35.0.\n",
      "Outliers identified commonly: Index([542, 1880, 2407, 4264, 6159, 6488, 7346, 7414, 9230, 9276], dtype='int64', name='id')\n",
      "      age_x  age_y  age_df1  age_df2\n",
      "id                                  \n",
      "542    86.0   86.0     86.0     86.0\n",
      "1880   86.0   86.0     86.0     86.0\n",
      "2407   91.0   91.0     91.0     91.0\n",
      "4264   89.0   89.0     89.0     89.0\n",
      "6159   88.0   88.0     88.0     88.0\n",
      "6488   91.0   91.0     91.0     91.0\n",
      "7346   92.0   92.0     92.0     92.0\n",
      "7414   88.0   88.0     88.0     88.0\n",
      "9230   86.0   86.0     86.0     86.0\n",
      "9276   88.0   88.0     88.0     88.0\n",
      "====================================================\n",
      "\u001B[92mThe latitude statistics:\u001B[0m\n",
      "Normal distribution intervals for the latitude: -16.465 to 16.465.\n",
      "IQR intervals for the latitude: 23.52 to 50.013.\n",
      "Mean for the latitude: 36.691.\n",
      "Median for the latitude: 36.106.\n",
      "Outliers identified commonly: Index([1255, 5313, 5746, 6118, 7618, 7116, 7463, 9228, 9552], dtype='int64', name='id')\n",
      "      latitude_x  latitude_y  latitude_df1  latitude_df2\n",
      "id                                                      \n",
      "1255   71.301255   71.301255     71.301255     71.301255\n",
      "5313   58.381043   58.381043     58.381043     58.381043\n",
      "5746   53.783451   53.783451     53.783451     53.783451\n",
      "6118   10.473531   10.473531     10.473531     10.473531\n",
      "7618  -43.405319  -43.405319    -43.405319    -43.405319\n",
      "7116   66.603889   66.603889     66.603889     66.603889\n",
      "7463   53.352550   53.352550     53.352550     53.352550\n",
      "9228   68.349305   68.349305     68.349305     68.349305\n",
      "9552   63.336667   63.336667     63.336667     63.336667\n",
      "====================================================\n",
      "\u001B[92mThe longitude statistics:\u001B[0m\n",
      "Normal distribution intervals for the longitude: -279077124502035.84 to 279077124502035.84.\n",
      "IQR intervals for the longitude: -155.222 to -39.787.\n",
      "Mean for the longitude: -960765382766.815.\n",
      "Median for the longitude: -93.748.\n",
      "Outliers identified commonly: Index([9473], dtype='int64', name='id')\n",
      "       longitude_x   longitude_y  longitude_df1  longitude_df2\n",
      "id                                                            \n",
      "9473 -9.007175e+15 -9.007175e+15  -9.007175e+15  -9.007175e+15\n",
      "====================================================\n"
     ]
    },
    {
     "data": {
      "text/plain": "<Figure size 1200x800 with 3 Axes>",
      "image/png": "[encoded data removed]"
     },
     "metadata": {},
     "output_type": "display_data"
    }
   ],
   "source": [
    "# Plotting outliers according to IQR and Z-score\n",
    "fig, axes = plt.subplots(nrows=1, ncols=3, figsize=(12, 8))\n",
    "numerical_columns = [\"age\", \"latitude\", \"longitude\"]\n",
    "threshold = 3  # Standard deviations:3\n",
    "axes = axes.flatten()\n",
    "\n",
    "for i, column in enumerate(numerical_columns):\n",
    "    # Calculating outliers according to Z-score\n",
    "    z_score_column = zscore(final_merge[column])\n",
    "    out_z_score = (z_score_column > threshold) | (\n",
    "        z_score_column < -threshold\n",
    "    )\n",
    "    out_values_z_score = final_merge.loc[out_z_score, column]\n",
    "\n",
    "    # Reshaping the pandas dataframe column for IsolationForest and DBSCAN\n",
    "    reshaped = final_merge[column].values.reshape(-1, 1)\n",
    "\n",
    "    # Calculating outliers according to DBSCAN\n",
    "    dbscan = DBSCAN(eps=1.0, min_samples=5)\n",
    "    outliers_dbscan = dbscan.fit_predict(reshaped) == -1\n",
    "    outliers_values_dbscan = final_merge.loc[outliers_dbscan, column]\n",
    "\n",
    "    # Calculating outliers according to IsolationForest\n",
    "    isolation_forest = IsolationForest(contamination=0.05)\n",
    "    outliers_isolation_forest = (\n",
    "        isolation_forest.fit_predict(reshaped) == -1\n",
    "    )\n",
    "    outliers_values_isolationforest = final_merge.loc[\n",
    "        outliers_isolation_forest, column\n",
    "    ]\n",
    "\n",
    "    # Calculating outliers according to IQR\n",
    "    iqr = final_merge[column].quantile(0.75) - final_merge[\n",
    "        column\n",
    "    ].quantile(0.25)\n",
    "    q_minimum = final_merge[column].quantile(0.25) - 1.5 * iqr\n",
    "    q_maximum = final_merge[column].quantile(0.75) + 1.5 * iqr\n",
    "    outliers_iqr = (final_merge[column] < q_minimum) | (\n",
    "        final_merge[column] > q_maximum\n",
    "    )\n",
    "    outliers_values_iqr = final_merge.loc[outliers_iqr, column]\n",
    "\n",
    "    # Identifying common outliers identified by all algorithms\n",
    "    outlier_merged = pd.merge(\n",
    "        outliers_values_dbscan,\n",
    "        outliers_values_iqr,\n",
    "        left_index=True,\n",
    "        right_index=True,\n",
    "        how=\"inner\",\n",
    "    )\n",
    "    outlier_merged = pd.merge(\n",
    "        outlier_merged,\n",
    "        outliers_values_isolationforest,\n",
    "        left_index=True,\n",
    "        right_index=True,\n",
    "        how=\"inner\",\n",
    "    )\n",
    "    outlier_merged = pd.merge(\n",
    "        outlier_merged,\n",
    "        out_values_z_score,\n",
    "        left_index=True,\n",
    "        right_index=True,\n",
    "        how=\"inner\",\n",
    "        suffixes=(\"_df1\", \"_df2\"),\n",
    "    )\n",
    "    observation_identifiers = outlier_merged.index\n",
    "\n",
    "    # Calculating mean, SD and median\n",
    "    mean_value = round(final_merge[column].mean(), 3)\n",
    "    sd_values_3 = round(final_merge[column].std() * 3, 3)\n",
    "    median_value = round(final_merge[column].median(), 3)\n",
    "\n",
    "    # Subplot parameters\n",
    "    axes[i].violinplot(final_merge[column])\n",
    "    axes[i].set_title(f\"Violin plot for {column}\")\n",
    "    axes[i].boxplot(final_merge[column], widths=0.1, showmeans=True)\n",
    "    axes[i].set_xlabel(f\"{column}\")\n",
    "    axes[i].set_ylabel(\"Values\")\n",
    "    axes[i].set_color = \"skyblue\"\n",
    "\n",
    "    # Z-score outliers\n",
    "    axes[i].scatter(\n",
    "        [1] * out_z_score.sum(),\n",
    "        final_merge[column][out_z_score],\n",
    "        color=\"red\",\n",
    "        marker=\"p\",\n",
    "        label=\"Outliers Z score\",\n",
    "    )\n",
    "\n",
    "    # IQR outliers\n",
    "    axes[i].scatter(\n",
    "        [1] * outliers_iqr.sum(),\n",
    "        final_merge[column][outliers_iqr],\n",
    "        color=\"yellow\",\n",
    "        marker=\"s\",\n",
    "        label=\"IQR Outliers\",\n",
    "    )\n",
    "\n",
    "    # DBSCAN outliers\n",
    "    axes[i].scatter(\n",
    "        [1] * outliers_dbscan.sum(),\n",
    "        final_merge[column][outliers_dbscan],\n",
    "        color=\"orange\",\n",
    "        marker=\"*\",\n",
    "        label=\"DBSCAN Outliers\",\n",
    "    )\n",
    "\n",
    "    # Isolation Forest outliers\n",
    "    axes[i].scatter(\n",
    "        [1] * outliers_isolation_forest.sum(),\n",
    "        final_merge[column][outliers_isolation_forest],\n",
    "        color=\"blue\",\n",
    "        marker=\"D\",\n",
    "        label=\"Isolation Forest Outliers\",\n",
    "    )\n",
    "\n",
    "    # Report output parameters\n",
    "    z_criteria = final_merge.loc[out_z_score, column].empty\n",
    "    iqr_criteria = final_merge.loc[outliers_iqr, column].empty\n",
    "    if not z_criteria or not iqr_criteria:\n",
    "        axes[i].legend(loc=\"best\", fontsize=\"small\")\n",
    "        print(\"\\033[92m\" + f\"The {column} statistics:\" + \"\\033[0m\")\n",
    "        print(\n",
    "            f\"Normal distribution intervals for the {column}: \"\n",
    "            f\"{-sd_values_3} to {sd_values_3}.\"\n",
    "        )\n",
    "        print(\n",
    "            f\"IQR intervals for the {column}: \"\n",
    "            f\"{round(q_minimum,3)} to {round(q_maximum,3)}.\"\n",
    "        )\n",
    "        print(f\"Mean for the {column}: {mean_value}.\")\n",
    "        print(f\"Median for the {column}: {median_value}.\")\n",
    "        if outlier_merged.empty:\n",
    "            print(\"No outliers found.\")\n",
    "        else:\n",
    "            print(\n",
    "                f\"Outliers identified commonly: {observation_identifiers}\"\n",
    "            )\n",
    "            print(outlier_merged)\n",
    "        print(\"====================================================\")\n",
    "\n",
    "plt.tight_layout()\n",
    "plt.show()"
   ],
   "metadata": {
    "collapsed": false,
    "ExecuteTime": {
     "end_time": "2024-04-02T10:15:39.421783Z",
     "start_time": "2024-04-02T10:15:38.158468Z"
    }
   },
   "id": "6f794180543107ac",
   "execution_count": 143
  },
  {
   "cell_type": "code",
   "outputs": [
    {
     "data": {
      "text/plain": "<folium.folium.Map at 0x28d86b390>",
      "text/html": "<div style=\"width:100%;\"><div style=\"position:relative;width:100%;height:0;padding-bottom:60%;\"><span style=\"color:#565656\">Make this Notebook Trusted to load map: File -> Trust Notebook</span><iframe srcdoc=\"&lt;!DOCTYPE html&gt;\n&lt;html&gt;\n&lt;head&gt;\n    \n    &lt;meta http-equiv=&quot;content-type&quot; content=&quot;text/html; charset=UTF-8&quot; /&gt;\n    \n        &lt;script&gt;\n            L_NO_TOUCH = false;\n            L_DISABLE_3D = false;\n        &lt;/script&gt;\n    \n    &lt;style&gt;html, body {width: 100%;height: 100%;margin: 0;padding: 0;}&lt;/style&gt;\n    &lt;style&gt;#map {position:absolute;top:0;bottom:0;right:0;left:0;}&lt;/style&gt;\n    &lt;script src=&quot;https://cdn.jsdelivr.net/npm/leaflet@1.9.3/dist/leaflet.js&quot;&gt;&lt;/script&gt;\n    &lt;script src=&quot;https://code.jquery.com/jquery-3.7.1.min.js&quot;&gt;&lt;/script&gt;\n    &lt;script src=&quot;https://cdn.jsdelivr.net/npm/bootstrap@5.2.2/dist/js/bootstrap.bundle.min.js&quot;&gt;&lt;/script&gt;\n    &lt;script src=&quot;https://cdnjs.cloudflare.com/ajax/libs/Leaflet.awesome-markers/2.0.2/leaflet.awesome-markers.js&quot;&gt;&lt;/script&gt;\n    &lt;link rel=&quot;stylesheet&quot; href=&quot;https://cdn.jsdelivr.net/npm/leaflet@1.9.3/dist/leaflet.css&quot;/&gt;\n    &lt;link rel=&quot;stylesheet&quot; href=&quot;https://cdn.jsdelivr.net/npm/bootstrap@5.2.2/dist/css/bootstrap.min.css&quot;/&gt;\n    &lt;link rel=&quot;stylesheet&quot; href=&quot;https://netdna.bootstrapcdn.com/bootstrap/3.0.0/css/bootstrap.min.css&quot;/&gt;\n    &lt;link rel=&quot;stylesheet&quot; href=&quot;https://cdn.jsdelivr.net/npm/@fortawesome/fontawesome-free@6.2.0/css/all.min.css&quot;/&gt;\n    &lt;link rel=&quot;stylesheet&quot; href=&quot;https://cdnjs.cloudflare.com/ajax/libs/Leaflet.awesome-markers/2.0.2/leaflet.awesome-markers.css&quot;/&gt;\n    &lt;link rel=&quot;stylesheet&quot; href=&quot;https://cdn.jsdelivr.net/gh/python-visualization/folium/folium/templates/leaflet.awesome.rotate.min.css&quot;/&gt;\n    \n            &lt;meta name=&quot;viewport&quot; content=&quot;width=device-width,\n                initial-scale=1.0, maximum-scale=1.0, user-scalable=no&quot; /&gt;\n            &lt;style&gt;\n                #map_772fd5f4e915c84d73e31a901183a1e0 {\n                    position: relative;\n                    width: 100.0%;\n                    height: 100.0%;\n                    left: 0.0%;\n                    top: 0.0%;\n                }\n                .leaflet-container { font-size: 1rem; }\n            &lt;/style&gt;\n        \n&lt;/head&gt;\n&lt;body&gt;\n    \n    \n            &lt;div class=&quot;folium-map&quot; id=&quot;map_772fd5f4e915c84d73e31a901183a1e0&quot; &gt;&lt;/div&gt;\n        \n&lt;/body&gt;\n&lt;script&gt;\n    \n    \n            var map_772fd5f4e915c84d73e31a901183a1e0 = L.map(\n                &quot;map_772fd5f4e915c84d73e31a901183a1e0&quot;,\n                {\n                    center: [40.7128, -74.006],\n                    crs: L.CRS.EPSG3857,\n                    zoom: 1,\n                    zoomControl: true,\n                    preferCanvas: false,\n                }\n            );\n\n            \n\n        \n    \n            var tile_layer_91d64b8109b7ead397622f60710b1eb3 = L.tileLayer(\n                &quot;https://tile.openstreetmap.org/{z}/{x}/{y}.png&quot;,\n                {&quot;attribution&quot;: &quot;\\u0026copy; \\u003ca href=\\&quot;https://www.openstreetmap.org/copyright\\&quot;\\u003eOpenStreetMap\\u003c/a\\u003e contributors&quot;, &quot;detectRetina&quot;: false, &quot;maxNativeZoom&quot;: 19, &quot;maxZoom&quot;: 19, &quot;minZoom&quot;: 0, &quot;noWrap&quot;: false, &quot;opacity&quot;: 1, &quot;subdomains&quot;: &quot;abc&quot;, &quot;tms&quot;: false}\n            );\n        \n    \n            tile_layer_91d64b8109b7ead397622f60710b1eb3.addTo(map_772fd5f4e915c84d73e31a901183a1e0);\n        \n    \n            var marker_75d1fb5e907ba346d5b48bdd54014e21 = L.marker(\n                [71.3012553, -156.7383987],\n                {}\n            ).addTo(map_772fd5f4e915c84d73e31a901183a1e0);\n        \n    \n        var popup_d459691f873d0a28e09dea28f2aeeb30 = L.popup({&quot;maxWidth&quot;: &quot;100%&quot;});\n\n        \n            \n                var html_5e13c5e699c6445ffa8b7396e29ecd03 = $(`&lt;div id=&quot;html_5e13c5e699c6445ffa8b7396e29ecd03&quot; style=&quot;width: 100.0%; height: 100.0%;&quot;&gt;1255&lt;/div&gt;`)[0];\n                popup_d459691f873d0a28e09dea28f2aeeb30.setContent(html_5e13c5e699c6445ffa8b7396e29ecd03);\n            \n        \n\n        marker_75d1fb5e907ba346d5b48bdd54014e21.bindPopup(popup_d459691f873d0a28e09dea28f2aeeb30)\n        ;\n\n        \n    \n    \n            var marker_1aa15eb0e2c05ac63adb0ce6c931ac27 = L.marker(\n                [58.3810433, -134.581786],\n                {}\n            ).addTo(map_772fd5f4e915c84d73e31a901183a1e0);\n        \n    \n        var popup_df7a9a1553a0587d8da4599ad944f459 = L.popup({&quot;maxWidth&quot;: &quot;100%&quot;});\n\n        \n            \n                var html_04d9612f1d30159251b1f2dbace28beb = $(`&lt;div id=&quot;html_04d9612f1d30159251b1f2dbace28beb&quot; style=&quot;width: 100.0%; height: 100.0%;&quot;&gt;5313&lt;/div&gt;`)[0];\n                popup_df7a9a1553a0587d8da4599ad944f459.setContent(html_04d9612f1d30159251b1f2dbace28beb);\n            \n        \n\n        marker_1aa15eb0e2c05ac63adb0ce6c931ac27.bindPopup(popup_df7a9a1553a0587d8da4599ad944f459)\n        ;\n\n        \n    \n    \n            var marker_b1d7f51f40f3041c486b1c7ab6187694 = L.marker(\n                [53.7834515, -112.4478142],\n                {}\n            ).addTo(map_772fd5f4e915c84d73e31a901183a1e0);\n        \n    \n        var popup_3b51fa7c1081068ab66b38c7fca5c569 = L.popup({&quot;maxWidth&quot;: &quot;100%&quot;});\n\n        \n            \n                var html_30bd526fbb050ade369d930a8e17e820 = $(`&lt;div id=&quot;html_30bd526fbb050ade369d930a8e17e820&quot; style=&quot;width: 100.0%; height: 100.0%;&quot;&gt;5746&lt;/div&gt;`)[0];\n                popup_3b51fa7c1081068ab66b38c7fca5c569.setContent(html_30bd526fbb050ade369d930a8e17e820);\n            \n        \n\n        marker_b1d7f51f40f3041c486b1c7ab6187694.bindPopup(popup_3b51fa7c1081068ab66b38c7fca5c569)\n        ;\n\n        \n    \n    \n            var marker_1731db203433a71bc7adb9d6f6f473d5 = L.marker(\n                [10.4735311, -74.9524792],\n                {}\n            ).addTo(map_772fd5f4e915c84d73e31a901183a1e0);\n        \n    \n        var popup_3e8b46924b23251cdbcc6fcee56800a1 = L.popup({&quot;maxWidth&quot;: &quot;100%&quot;});\n\n        \n            \n                var html_24ecb78fe0395b26da92997a97eb341b = $(`&lt;div id=&quot;html_24ecb78fe0395b26da92997a97eb341b&quot; style=&quot;width: 100.0%; height: 100.0%;&quot;&gt;6118&lt;/div&gt;`)[0];\n                popup_3e8b46924b23251cdbcc6fcee56800a1.setContent(html_24ecb78fe0395b26da92997a97eb341b);\n            \n        \n\n        marker_1731db203433a71bc7adb9d6f6f473d5.bindPopup(popup_3e8b46924b23251cdbcc6fcee56800a1)\n        ;\n\n        \n    \n    \n            var marker_4cad24630f47dc5c4de25359031c4b8e = L.marker(\n                [-43.4053193, 172.6212953],\n                {}\n            ).addTo(map_772fd5f4e915c84d73e31a901183a1e0);\n        \n    \n        var popup_9001493ed9f70c8d0db0f6b52fcce688 = L.popup({&quot;maxWidth&quot;: &quot;100%&quot;});\n\n        \n            \n                var html_06b944c145f59922771e57a739cfedc8 = $(`&lt;div id=&quot;html_06b944c145f59922771e57a739cfedc8&quot; style=&quot;width: 100.0%; height: 100.0%;&quot;&gt;7618&lt;/div&gt;`)[0];\n                popup_9001493ed9f70c8d0db0f6b52fcce688.setContent(html_06b944c145f59922771e57a739cfedc8);\n            \n        \n\n        marker_4cad24630f47dc5c4de25359031c4b8e.bindPopup(popup_9001493ed9f70c8d0db0f6b52fcce688)\n        ;\n\n        \n    \n    \n            var marker_608f80c64be226959ae3069214d9783d = L.marker(\n                [66.6038889, -160.0069444],\n                {}\n            ).addTo(map_772fd5f4e915c84d73e31a901183a1e0);\n        \n    \n        var popup_8464257cae23179949d568a411330f3a = L.popup({&quot;maxWidth&quot;: &quot;100%&quot;});\n\n        \n            \n                var html_d6642b91c0dd30c05bc6b0186d9f2759 = $(`&lt;div id=&quot;html_d6642b91c0dd30c05bc6b0186d9f2759&quot; style=&quot;width: 100.0%; height: 100.0%;&quot;&gt;7116&lt;/div&gt;`)[0];\n                popup_8464257cae23179949d568a411330f3a.setContent(html_d6642b91c0dd30c05bc6b0186d9f2759);\n            \n        \n\n        marker_608f80c64be226959ae3069214d9783d.bindPopup(popup_8464257cae23179949d568a411330f3a)\n        ;\n\n        \n    \n    \n            var marker_168d595b5765988ec52f5a0182638cbf = L.marker(\n                [53.3525496, -113.4151434],\n                {}\n            ).addTo(map_772fd5f4e915c84d73e31a901183a1e0);\n        \n    \n        var popup_0bec1813b212cff0028ac112238e6f32 = L.popup({&quot;maxWidth&quot;: &quot;100%&quot;});\n\n        \n            \n                var html_37c07535dec8b5f03bcf873bd3e6e67e = $(`&lt;div id=&quot;html_37c07535dec8b5f03bcf873bd3e6e67e&quot; style=&quot;width: 100.0%; height: 100.0%;&quot;&gt;7463&lt;/div&gt;`)[0];\n                popup_0bec1813b212cff0028ac112238e6f32.setContent(html_37c07535dec8b5f03bcf873bd3e6e67e);\n            \n        \n\n        marker_168d595b5765988ec52f5a0182638cbf.bindPopup(popup_0bec1813b212cff0028ac112238e6f32)\n        ;\n\n        \n    \n    \n            var marker_e70f11ff2674c9c5a074a53b76d8667e = L.marker(\n                [68.3493054, -166.7392068],\n                {}\n            ).addTo(map_772fd5f4e915c84d73e31a901183a1e0);\n        \n    \n        var popup_6056644a24642907c706699ffba530fa = L.popup({&quot;maxWidth&quot;: &quot;100%&quot;});\n\n        \n            \n                var html_72347cc5a35d7f405976dbd9544f407d = $(`&lt;div id=&quot;html_72347cc5a35d7f405976dbd9544f407d&quot; style=&quot;width: 100.0%; height: 100.0%;&quot;&gt;9228&lt;/div&gt;`)[0];\n                popup_6056644a24642907c706699ffba530fa.setContent(html_72347cc5a35d7f405976dbd9544f407d);\n            \n        \n\n        marker_e70f11ff2674c9c5a074a53b76d8667e.bindPopup(popup_6056644a24642907c706699ffba530fa)\n        ;\n\n        \n    \n    \n            var marker_2d0f3dc8b1633770b9a82a18333a576e = L.marker(\n                [63.3366667, -142.985555],\n                {}\n            ).addTo(map_772fd5f4e915c84d73e31a901183a1e0);\n        \n    \n        var popup_4db6577f2d3cbbc385ce7be31345fee5 = L.popup({&quot;maxWidth&quot;: &quot;100%&quot;});\n\n        \n            \n                var html_9e582e5d0513e67edca1c33945ab2017 = $(`&lt;div id=&quot;html_9e582e5d0513e67edca1c33945ab2017&quot; style=&quot;width: 100.0%; height: 100.0%;&quot;&gt;9552&lt;/div&gt;`)[0];\n                popup_4db6577f2d3cbbc385ce7be31345fee5.setContent(html_9e582e5d0513e67edca1c33945ab2017);\n            \n        \n\n        marker_2d0f3dc8b1633770b9a82a18333a576e.bindPopup(popup_4db6577f2d3cbbc385ce7be31345fee5)\n        ;\n\n        \n    \n    \n            var marker_9db579787ce88de41a3d0f233e626f9d = L.marker(\n                [32.506799382041685, -9007175462532118.0],\n                {}\n            ).addTo(map_772fd5f4e915c84d73e31a901183a1e0);\n        \n    \n        var popup_5b9207435703d90c632e93e8f3490caa = L.popup({&quot;maxWidth&quot;: &quot;100%&quot;});\n\n        \n            \n                var html_b78332acb23687384f16389bda235bb4 = $(`&lt;div id=&quot;html_b78332acb23687384f16389bda235bb4&quot; style=&quot;width: 100.0%; height: 100.0%;&quot;&gt;9473&lt;/div&gt;`)[0];\n                popup_5b9207435703d90c632e93e8f3490caa.setContent(html_b78332acb23687384f16389bda235bb4);\n            \n        \n\n        marker_9db579787ce88de41a3d0f233e626f9d.bindPopup(popup_5b9207435703d90c632e93e8f3490caa)\n        ;\n\n        \n    \n    \n            tile_layer_91d64b8109b7ead397622f60710b1eb3.addTo(map_772fd5f4e915c84d73e31a901183a1e0);\n        \n&lt;/script&gt;\n&lt;/html&gt;\" style=\"position:absolute;width:100%;height:100%;left:0;top:0;border:none !important;\" allowfullscreen webkitallowfullscreen mozallowfullscreen></iframe></div></div>"
     },
     "execution_count": 144,
     "metadata": {},
     "output_type": "execute_result"
    }
   ],
   "source": [
    "# Manual evaluation of latitude and longitude outliers\n",
    "rows_to_retrieve = [\n",
    "    1255,\n",
    "    5313,\n",
    "    5746,\n",
    "    6118,\n",
    "    7618,\n",
    "    7116,\n",
    "    7463,\n",
    "    9228,\n",
    "    9552,\n",
    "    9473,\n",
    "]\n",
    "# Plotting outliers on map\n",
    "mymap = folium.Map(location=[40.7128, -74.0060], zoom_start=1)\n",
    "\n",
    "# Markers\n",
    "for row in rows_to_retrieve:\n",
    "    folium.Marker(\n",
    "        location=[\n",
    "            final_merge.loc[row, \"latitude\"],\n",
    "            final_merge.loc[row, \"longitude\"],\n",
    "        ],\n",
    "        popup=row,\n",
    "    ).add_to(mymap)\n",
    "\n",
    "file_path = (\"/Users/agnekrupinskaite/PycharmProjects/\"\n",
    "             \"agkrupi-DWWP.4.1/Folium maps/\"\n",
    "             \"'outliers_latitude_longitude.html\")\n",
    "\n",
    "mymap.save(file_path)\n",
    "mymap"
   ],
   "metadata": {
    "collapsed": false,
    "ExecuteTime": {
     "end_time": "2024-04-02T10:15:39.519302Z",
     "start_time": "2024-04-02T10:15:39.317582Z"
    }
   },
   "id": "a32afc9a5af859cf",
   "execution_count": 144
  },
  {
   "cell_type": "code",
   "outputs": [
    {
     "data": {
      "text/plain": "           date threat_type flee_status armed_with        city  \\\nid                                                               \n7618 2021-05-27       shoot         not        gun  Clarkville   \n6188 2020-09-24       shoot        foot        gun     Sebring   \n7463 2021-12-31      attack         car    vehicle    Beaumont   \n5746 2020-04-13       shoot         car        gun      Lamont   \n\n                    county state   latitude   longitude location_precision  \\\nid                                                                           \n7618  Waimakariri District    TN -43.405319  172.621295         city_based   \n6188      Highlands County    FL  27.425688  -81.511995      not_available   \n7463             Riverside    CA  53.352550 -113.415143         city_based   \n5746         Lamont County    CA  53.783451 -112.447814         city_based   \n\n      ... pctaian_x_y  pct2prace_x_y pcthispanic_x_y pctwhite_y_y  \\\nid    ...                                                           \n7618  ...         0.0            0.0             0.0          0.0   \n6188  ...         0.0            0.0             0.0          0.0   \n7463  ...         0.0            0.0             0.0          0.0   \n5746  ...         0.0            0.0             0.0          0.0   \n\n     pctblack_y_y  pctapi_y_y  pctaian_y_y pct2prace_y_y pcthispanic_y_y  \\\nid                                                                         \n7618          0.0         0.0          0.0           0.0             0.0   \n6188          0.0         0.0          0.0           0.0             0.0   \n7463          0.0         0.0          0.0           0.0             0.0   \n5746          0.0         0.0          0.0           0.0             0.0   \n\n      ethnicolr_race  \nid                    \n7618    pctwhite_x_x  \n6188    pctwhite_x_x  \n7463    pctwhite_x_x  \n5746    pctwhite_x_x  \n\n[4 rows x 69 columns]",
      "text/html": "<div>\n<style scoped>\n    .dataframe tbody tr th:only-of-type {\n        vertical-align: middle;\n    }\n\n    .dataframe tbody tr th {\n        vertical-align: top;\n    }\n\n    .dataframe thead th {\n        text-align: right;\n    }\n</style>\n<table border=\"1\" class=\"dataframe\">\n  <thead>\n    <tr style=\"text-align: right;\">\n      <th></th>\n      <th>date</th>\n      <th>threat_type</th>\n      <th>flee_status</th>\n      <th>armed_with</th>\n      <th>city</th>\n      <th>county</th>\n      <th>state</th>\n      <th>latitude</th>\n      <th>longitude</th>\n      <th>location_precision</th>\n      <th>...</th>\n      <th>pctaian_x_y</th>\n      <th>pct2prace_x_y</th>\n      <th>pcthispanic_x_y</th>\n      <th>pctwhite_y_y</th>\n      <th>pctblack_y_y</th>\n      <th>pctapi_y_y</th>\n      <th>pctaian_y_y</th>\n      <th>pct2prace_y_y</th>\n      <th>pcthispanic_y_y</th>\n      <th>ethnicolr_race</th>\n    </tr>\n    <tr>\n      <th>id</th>\n      <th></th>\n      <th></th>\n      <th></th>\n      <th></th>\n      <th></th>\n      <th></th>\n      <th></th>\n      <th></th>\n      <th></th>\n      <th></th>\n      <th></th>\n      <th></th>\n      <th></th>\n      <th></th>\n      <th></th>\n      <th></th>\n      <th></th>\n      <th></th>\n      <th></th>\n      <th></th>\n      <th></th>\n    </tr>\n  </thead>\n  <tbody>\n    <tr>\n      <th>7618</th>\n      <td>2021-05-27</td>\n      <td>shoot</td>\n      <td>not</td>\n      <td>gun</td>\n      <td>Clarkville</td>\n      <td>Waimakariri District</td>\n      <td>TN</td>\n      <td>-43.405319</td>\n      <td>172.621295</td>\n      <td>city_based</td>\n      <td>...</td>\n      <td>0.0</td>\n      <td>0.0</td>\n      <td>0.0</td>\n      <td>0.0</td>\n      <td>0.0</td>\n      <td>0.0</td>\n      <td>0.0</td>\n      <td>0.0</td>\n      <td>0.0</td>\n      <td>pctwhite_x_x</td>\n    </tr>\n    <tr>\n      <th>6188</th>\n      <td>2020-09-24</td>\n      <td>shoot</td>\n      <td>foot</td>\n      <td>gun</td>\n      <td>Sebring</td>\n      <td>Highlands County</td>\n      <td>FL</td>\n      <td>27.425688</td>\n      <td>-81.511995</td>\n      <td>not_available</td>\n      <td>...</td>\n      <td>0.0</td>\n      <td>0.0</td>\n      <td>0.0</td>\n      <td>0.0</td>\n      <td>0.0</td>\n      <td>0.0</td>\n      <td>0.0</td>\n      <td>0.0</td>\n      <td>0.0</td>\n      <td>pctwhite_x_x</td>\n    </tr>\n    <tr>\n      <th>7463</th>\n      <td>2021-12-31</td>\n      <td>attack</td>\n      <td>car</td>\n      <td>vehicle</td>\n      <td>Beaumont</td>\n      <td>Riverside</td>\n      <td>CA</td>\n      <td>53.352550</td>\n      <td>-113.415143</td>\n      <td>city_based</td>\n      <td>...</td>\n      <td>0.0</td>\n      <td>0.0</td>\n      <td>0.0</td>\n      <td>0.0</td>\n      <td>0.0</td>\n      <td>0.0</td>\n      <td>0.0</td>\n      <td>0.0</td>\n      <td>0.0</td>\n      <td>pctwhite_x_x</td>\n    </tr>\n    <tr>\n      <th>5746</th>\n      <td>2020-04-13</td>\n      <td>shoot</td>\n      <td>car</td>\n      <td>gun</td>\n      <td>Lamont</td>\n      <td>Lamont County</td>\n      <td>CA</td>\n      <td>53.783451</td>\n      <td>-112.447814</td>\n      <td>city_based</td>\n      <td>...</td>\n      <td>0.0</td>\n      <td>0.0</td>\n      <td>0.0</td>\n      <td>0.0</td>\n      <td>0.0</td>\n      <td>0.0</td>\n      <td>0.0</td>\n      <td>0.0</td>\n      <td>0.0</td>\n      <td>pctwhite_x_x</td>\n    </tr>\n  </tbody>\n</table>\n<p>4 rows × 69 columns</p>\n</div>"
     },
     "execution_count": 145,
     "metadata": {},
     "output_type": "execute_result"
    }
   ],
   "source": [
    "# Evaluating potential mistakes\n",
    "indices_list = [7618, 6188, 7463, 5746]\n",
    "selected_rows = final_merge.loc[indices_list]\n",
    "selected_rows"
   ],
   "metadata": {
    "collapsed": false,
    "ExecuteTime": {
     "end_time": "2024-04-02T10:15:39.542971Z",
     "start_time": "2024-04-02T10:15:39.334392Z"
    }
   },
   "id": "f8fc10421581f8e6",
   "execution_count": 145
  },
  {
   "cell_type": "code",
   "outputs": [],
   "source": [
    "# Fixing mistakes\n",
    "# Observation 7618 fixes\n",
    "final_merge.loc[7618, \"city\"] = \"Clarksville\"\n",
    "final_merge.loc[7618, \"latitude\"] = 36.5298\n",
    "final_merge.loc[7618, \"longitude\"] = -87.3595\n",
    "final_merge.loc[7618, \"location_precision\"] = \"manual_correction\"\n",
    "\n",
    "# Observations 7463 fixes\n",
    "final_merge.loc[7463, \"city\"] = \"Beaumont\"\n",
    "final_merge.loc[7463, \"latitude\"] = 33.9295\n",
    "final_merge.loc[7463, \"longitude\"] = -116.9772\n",
    "final_merge.loc[7463, \"location_precision\"] = \"manual_correction\"\n",
    "\n",
    "# Observations 5746 fixes\n",
    "final_merge.loc[5746, \"latitude\"] = 35.2597\n",
    "final_merge.loc[5746, \"longitude\"] = -118.9143\n",
    "final_merge.loc[5746, \"location_precision\"] = \"manual_correction\"\n",
    "\n",
    "# Observations 6188 fixes\n",
    "final_merge.loc[6188, \"latitude\"] = 27.479319\n",
    "final_merge.loc[6188, \"longitude\"] = -81.456017\n",
    "final_merge.loc[7618, \"location_precision\"] = \"manual_correction\""
   ],
   "metadata": {
    "collapsed": false,
    "ExecuteTime": {
     "end_time": "2024-04-02T10:15:39.555159Z",
     "start_time": "2024-04-02T10:15:39.348362Z"
    }
   },
   "id": "d22ae43e66a03a09",
   "execution_count": 146
  },
  {
   "cell_type": "code",
   "outputs": [
    {
     "data": {
      "text/plain": "<folium.folium.Map at 0x28d84c090>",
      "text/html": "<div style=\"width:100%;\"><div style=\"position:relative;width:100%;height:0;padding-bottom:60%;\"><span style=\"color:#565656\">Make this Notebook Trusted to load map: File -> Trust Notebook</span><iframe srcdoc=\"&lt;!DOCTYPE html&gt;\n&lt;html&gt;\n&lt;head&gt;\n    \n    &lt;meta http-equiv=&quot;content-type&quot; content=&quot;text/html; charset=UTF-8&quot; /&gt;\n    \n        &lt;script&gt;\n            L_NO_TOUCH = false;\n            L_DISABLE_3D = false;\n        &lt;/script&gt;\n    \n    &lt;style&gt;html, body {width: 100%;height: 100%;margin: 0;padding: 0;}&lt;/style&gt;\n    &lt;style&gt;#map {position:absolute;top:0;bottom:0;right:0;left:0;}&lt;/style&gt;\n    &lt;script src=&quot;https://cdn.jsdelivr.net/npm/leaflet@1.9.3/dist/leaflet.js&quot;&gt;&lt;/script&gt;\n    &lt;script src=&quot;https://code.jquery.com/jquery-3.7.1.min.js&quot;&gt;&lt;/script&gt;\n    &lt;script src=&quot;https://cdn.jsdelivr.net/npm/bootstrap@5.2.2/dist/js/bootstrap.bundle.min.js&quot;&gt;&lt;/script&gt;\n    &lt;script src=&quot;https://cdnjs.cloudflare.com/ajax/libs/Leaflet.awesome-markers/2.0.2/leaflet.awesome-markers.js&quot;&gt;&lt;/script&gt;\n    &lt;link rel=&quot;stylesheet&quot; href=&quot;https://cdn.jsdelivr.net/npm/leaflet@1.9.3/dist/leaflet.css&quot;/&gt;\n    &lt;link rel=&quot;stylesheet&quot; href=&quot;https://cdn.jsdelivr.net/npm/bootstrap@5.2.2/dist/css/bootstrap.min.css&quot;/&gt;\n    &lt;link rel=&quot;stylesheet&quot; href=&quot;https://netdna.bootstrapcdn.com/bootstrap/3.0.0/css/bootstrap.min.css&quot;/&gt;\n    &lt;link rel=&quot;stylesheet&quot; href=&quot;https://cdn.jsdelivr.net/npm/@fortawesome/fontawesome-free@6.2.0/css/all.min.css&quot;/&gt;\n    &lt;link rel=&quot;stylesheet&quot; href=&quot;https://cdnjs.cloudflare.com/ajax/libs/Leaflet.awesome-markers/2.0.2/leaflet.awesome-markers.css&quot;/&gt;\n    &lt;link rel=&quot;stylesheet&quot; href=&quot;https://cdn.jsdelivr.net/gh/python-visualization/folium/folium/templates/leaflet.awesome.rotate.min.css&quot;/&gt;\n    \n            &lt;meta name=&quot;viewport&quot; content=&quot;width=device-width,\n                initial-scale=1.0, maximum-scale=1.0, user-scalable=no&quot; /&gt;\n            &lt;style&gt;\n                #map_63af318c198c8fb9e32b76c829a28bc8 {\n                    position: relative;\n                    width: 100.0%;\n                    height: 100.0%;\n                    left: 0.0%;\n                    top: 0.0%;\n                }\n                .leaflet-container { font-size: 1rem; }\n            &lt;/style&gt;\n        \n&lt;/head&gt;\n&lt;body&gt;\n    \n    \n            &lt;div class=&quot;folium-map&quot; id=&quot;map_63af318c198c8fb9e32b76c829a28bc8&quot; &gt;&lt;/div&gt;\n        \n&lt;/body&gt;\n&lt;script&gt;\n    \n    \n            var map_63af318c198c8fb9e32b76c829a28bc8 = L.map(\n                &quot;map_63af318c198c8fb9e32b76c829a28bc8&quot;,\n                {\n                    center: [40.7128, -74.006],\n                    crs: L.CRS.EPSG3857,\n                    zoom: 2,\n                    zoomControl: true,\n                    preferCanvas: false,\n                }\n            );\n\n            \n\n        \n    \n            var tile_layer_114a107bc1151bc022595ba5f4406492 = L.tileLayer(\n                &quot;https://tile.openstreetmap.org/{z}/{x}/{y}.png&quot;,\n                {&quot;attribution&quot;: &quot;\\u0026copy; \\u003ca href=\\&quot;https://www.openstreetmap.org/copyright\\&quot;\\u003eOpenStreetMap\\u003c/a\\u003e contributors&quot;, &quot;detectRetina&quot;: false, &quot;maxNativeZoom&quot;: 19, &quot;maxZoom&quot;: 19, &quot;minZoom&quot;: 0, &quot;noWrap&quot;: false, &quot;opacity&quot;: 1, &quot;subdomains&quot;: &quot;abc&quot;, &quot;tms&quot;: false}\n            );\n        \n    \n            tile_layer_114a107bc1151bc022595ba5f4406492.addTo(map_63af318c198c8fb9e32b76c829a28bc8);\n        \n    \n            var marker_49896abd8fe58c3460341f9aadc95e7c = L.marker(\n                [36.5298, -87.3595],\n                {}\n            ).addTo(map_63af318c198c8fb9e32b76c829a28bc8);\n        \n    \n        var popup_b0eb5b6b4f7ded051f434d48c3a73511 = L.popup({&quot;maxWidth&quot;: &quot;100%&quot;});\n\n        \n            \n                var html_6d5d47c66d15513a861304fd2b9a0617 = $(`&lt;div id=&quot;html_6d5d47c66d15513a861304fd2b9a0617&quot; style=&quot;width: 100.0%; height: 100.0%;&quot;&gt;7618&lt;/div&gt;`)[0];\n                popup_b0eb5b6b4f7ded051f434d48c3a73511.setContent(html_6d5d47c66d15513a861304fd2b9a0617);\n            \n        \n\n        marker_49896abd8fe58c3460341f9aadc95e7c.bindPopup(popup_b0eb5b6b4f7ded051f434d48c3a73511)\n        ;\n\n        \n    \n    \n            var marker_5b07e868d8cc3c4d12e75c0acb14d18f = L.marker(\n                [27.479319, -81.456017],\n                {}\n            ).addTo(map_63af318c198c8fb9e32b76c829a28bc8);\n        \n    \n        var popup_7a8898fc901f28630ee86e26ccdd2fa2 = L.popup({&quot;maxWidth&quot;: &quot;100%&quot;});\n\n        \n            \n                var html_bd0b100b39eb39af13b857a5bd86bccf = $(`&lt;div id=&quot;html_bd0b100b39eb39af13b857a5bd86bccf&quot; style=&quot;width: 100.0%; height: 100.0%;&quot;&gt;6188&lt;/div&gt;`)[0];\n                popup_7a8898fc901f28630ee86e26ccdd2fa2.setContent(html_bd0b100b39eb39af13b857a5bd86bccf);\n            \n        \n\n        marker_5b07e868d8cc3c4d12e75c0acb14d18f.bindPopup(popup_7a8898fc901f28630ee86e26ccdd2fa2)\n        ;\n\n        \n    \n    \n            var marker_67557a4d6b91692cac1268687fd54840 = L.marker(\n                [33.9295, -116.9772],\n                {}\n            ).addTo(map_63af318c198c8fb9e32b76c829a28bc8);\n        \n    \n        var popup_6cf627482e04d64906438734501d2990 = L.popup({&quot;maxWidth&quot;: &quot;100%&quot;});\n\n        \n            \n                var html_f7f150e598c417086713e7c60bdd0402 = $(`&lt;div id=&quot;html_f7f150e598c417086713e7c60bdd0402&quot; style=&quot;width: 100.0%; height: 100.0%;&quot;&gt;7463&lt;/div&gt;`)[0];\n                popup_6cf627482e04d64906438734501d2990.setContent(html_f7f150e598c417086713e7c60bdd0402);\n            \n        \n\n        marker_67557a4d6b91692cac1268687fd54840.bindPopup(popup_6cf627482e04d64906438734501d2990)\n        ;\n\n        \n    \n    \n            var marker_8728c5bf3688c49aef06cc70baa1898b = L.marker(\n                [35.2597, -118.9143],\n                {}\n            ).addTo(map_63af318c198c8fb9e32b76c829a28bc8);\n        \n    \n        var popup_eb91eede31c983f366a846ffcc481400 = L.popup({&quot;maxWidth&quot;: &quot;100%&quot;});\n\n        \n            \n                var html_34da86f62c9dbc9c7d837d869582d169 = $(`&lt;div id=&quot;html_34da86f62c9dbc9c7d837d869582d169&quot; style=&quot;width: 100.0%; height: 100.0%;&quot;&gt;5746&lt;/div&gt;`)[0];\n                popup_eb91eede31c983f366a846ffcc481400.setContent(html_34da86f62c9dbc9c7d837d869582d169);\n            \n        \n\n        marker_8728c5bf3688c49aef06cc70baa1898b.bindPopup(popup_eb91eede31c983f366a846ffcc481400)\n        ;\n\n        \n    \n    \n            tile_layer_114a107bc1151bc022595ba5f4406492.addTo(map_63af318c198c8fb9e32b76c829a28bc8);\n        \n&lt;/script&gt;\n&lt;/html&gt;\" style=\"position:absolute;width:100%;height:100%;left:0;top:0;border:none !important;\" allowfullscreen webkitallowfullscreen mozallowfullscreen></iframe></div></div>"
     },
     "execution_count": 147,
     "metadata": {},
     "output_type": "execute_result"
    }
   ],
   "source": [
    "# Checking if mistakes are fixed\n",
    "mymap = folium.Map(location=[40.7128, -74.0060], zoom_start=2)\n",
    "\n",
    "# Markers\n",
    "for row in indices_list:\n",
    "    folium.Marker(\n",
    "        location=[\n",
    "            final_merge.loc[row, \"latitude\"],\n",
    "            final_merge.loc[row, \"longitude\"],\n",
    "        ],\n",
    "        popup=row,\n",
    "    ).add_to(mymap)\n",
    "\n",
    "file_path = (\"/Users/agnekrupinskaite/PycharmProjects/\"\n",
    "             \"agkrupi-DWWP.4.1/Folium maps/\"\n",
    "             \"'outliers_latitude_longitude_fix.html\")\n",
    "\n",
    "mymap.save(file_path)\n",
    "mymap"
   ],
   "metadata": {
    "collapsed": false,
    "ExecuteTime": {
     "end_time": "2024-04-02T10:15:39.561182Z",
     "start_time": "2024-04-02T10:15:39.351198Z"
    }
   },
   "id": "d6427e201e01786b",
   "execution_count": 147
  },
  {
   "cell_type": "markdown",
   "source": [
    "### Statistical test\n",
    "- After violin plots evaluation age, latitude and longitude data do not look distributed normally.\n",
    "- Shapiro, Anderson, Kolmogorov-Smirnov and Jarque Bera tests are performed to evaluate normality."
   ],
   "metadata": {
    "collapsed": false
   },
   "id": "422579e54d1fc62d"
  },
  {
   "cell_type": "code",
   "outputs": [
    {
     "name": "stdout",
     "output_type": "stream",
     "text": [
      "Shapiro test results:\n",
      "Shapiro test results for age feature: Statistic: 0.959419846534729, p-value: 4.203895392974451e-45\n",
      "Shapiro test results for latitude feature: Statistic: 0.9555584788322449, p-value: 0.0\n",
      "Shapiro test results for longitude feature: Statistic: 0.0017414689064025879, p-value: 0.0\n"
     ]
    },
    {
     "name": "stderr",
     "output_type": "stream",
     "text": [
      "/Users/agnekrupinskaite/anaconda3/envs/agkrupi-DWWP25/lib/python3.11/site-packages/scipy/stats/_morestats.py:1882: UserWarning: p-value may not be accurate for N > 5000.\n",
      "  warnings.warn(\"p-value may not be accurate for N > 5000.\")\n"
     ]
    }
   ],
   "source": [
    "# Shapiro test\n",
    "age = washington_post[\"age\"]\n",
    "latitude = washington_post[\"latitude\"]\n",
    "longitude = washington_post[\"longitude\"]\n",
    "\n",
    "columns_to_test = {\n",
    "    \"age\": age,\n",
    "    \"latitude\": latitude,\n",
    "    \"longitude\": longitude,\n",
    "}\n",
    "print(\"Shapiro test results:\")\n",
    "for column_name, column_data in columns_to_test.items():\n",
    "    stat, p_value = shapiro(column_data)\n",
    "    print(\n",
    "        f\"Shapiro test results for {column_name} \"\n",
    "        f\"feature: Statistic: {stat}, p-value: {p_value}\"\n",
    "    )"
   ],
   "metadata": {
    "collapsed": false,
    "ExecuteTime": {
     "end_time": "2024-04-02T10:15:39.791132Z",
     "start_time": "2024-04-02T10:15:39.362878Z"
    }
   },
   "id": "4e74106337c274a6",
   "execution_count": 148
  },
  {
   "cell_type": "code",
   "outputs": [
    {
     "name": "stdout",
     "output_type": "stream",
     "text": [
      "Anderson test results:\n",
      "Statistic for age feature: 105.88631826759047\n",
      "Critical Values for age feature: [0.576 0.656 0.787 0.918 1.092]\n",
      "Significance Level for age feature: [15.  10.   5.   2.5  1. ]\n",
      "==============================\n",
      "Statistic for latitude feature: 34.07730906843608\n",
      "Critical Values for latitude feature: [0.576 0.656 0.787 0.918 1.092]\n",
      "Significance Level for latitude feature: [15.  10.   5.   2.5  1. ]\n",
      "==============================\n",
      "Statistic for longitude feature: 3622.40277736781\n",
      "Critical Values for longitude feature: [0.576 0.656 0.787 0.918 1.092]\n",
      "Significance Level for longitude feature: [15.  10.   5.   2.5  1. ]\n",
      "==============================\n"
     ]
    }
   ],
   "source": [
    "# Anderson test\n",
    "columns_to_test = {\n",
    "    \"age\": age,\n",
    "    \"latitude\": latitude,\n",
    "    \"longitude\": longitude,\n",
    "}\n",
    "print(\"Anderson test results:\")\n",
    "for column_name, column_data in columns_to_test.items():\n",
    "    result = stats.anderson(column_data)\n",
    "    print(f\"Statistic for {column_name} \"\n",
    "          f\"feature: {result.statistic}\")\n",
    "    print(\n",
    "        f\"Critical Values for {column_name} \"\n",
    "        f\"feature: {result.critical_values}\"\n",
    "    )\n",
    "    print(\n",
    "        f\"Significance Level for {column_name} \"\n",
    "        f\"feature: {result.significance_level}\"\n",
    "    )\n",
    "    print(\"==============================\")"
   ],
   "metadata": {
    "collapsed": false,
    "ExecuteTime": {
     "end_time": "2024-04-02T10:15:39.851966Z",
     "start_time": "2024-04-02T10:15:39.371179Z"
    }
   },
   "id": "46c42695b04ed1b6",
   "execution_count": 149
  },
  {
   "cell_type": "code",
   "outputs": [
    {
     "name": "stdout",
     "output_type": "stream",
     "text": [
      "Kolmogorov-Smirnov test results:\n",
      "Statistic for age feature: 0.9998933664691598.\n",
      "The p-value for age feature: 0.0.\n",
      "==============================\n",
      "Statistic for latitude feature: 0.9998933674557475.\n",
      "The p-value for latitude feature: 0.0.\n",
      "==============================\n",
      "Statistic for longitude feature: 0.9996801023672425.\n",
      "The p-value for longitude feature: 0.0.\n",
      "==============================\n"
     ]
    }
   ],
   "source": [
    "# Kolmogorov-Smirnov test\n",
    "columns_to_test = {\n",
    "    \"age\": age,\n",
    "    \"latitude\": latitude,\n",
    "    \"longitude\": longitude,\n",
    "}\n",
    "print(\"Kolmogorov-Smirnov test results:\")\n",
    "for column_name, column_data in columns_to_test.items():\n",
    "    statistic, p_value = kstest(column_data, \"norm\")\n",
    "    print(f\"Statistic for {column_name} feature: {statistic}.\")\n",
    "    print(f\"The p-value for {column_name} feature: {p_value}.\")\n",
    "    print(\"==============================\")"
   ],
   "metadata": {
    "collapsed": false,
    "ExecuteTime": {
     "end_time": "2024-04-02T10:15:39.877663Z",
     "start_time": "2024-04-02T10:15:39.378833Z"
    }
   },
   "id": "e3e6779236e25562",
   "execution_count": 150
  },
  {
   "cell_type": "code",
   "outputs": [
    {
     "name": "stdout",
     "output_type": "stream",
     "text": [
      "Jarque Bera test results:\n",
      "Statistic for age feature: 974.7941868337894.\n",
      "The p-value for age feature: 2.1190042773262213e-212.\n",
      "==============================\n",
      "Statistic for latitude feature: 20424.364444615014.\n",
      "The p-value for latitude feature: 0.0.\n",
      "==============================\n",
      "Statistic for longitude feature: 34343264063.083298.\n",
      "The p-value for longitude feature: 0.0.\n",
      "==============================\n"
     ]
    }
   ],
   "source": [
    "# Jarque Bera test\n",
    "columns_to_test = {\n",
    "    \"age\": age,\n",
    "    \"latitude\": latitude,\n",
    "    \"longitude\": longitude,\n",
    "}\n",
    "print(\"Jarque Bera test results:\")\n",
    "for column_name, column_data in columns_to_test.items():\n",
    "    statistic, p_value = jarque_bera(column_data)\n",
    "    print(f\"Statistic for {column_name} feature: {statistic}.\")\n",
    "    print(f\"The p-value for {column_name} feature: {p_value}.\")\n",
    "    print(\"==============================\")"
   ],
   "metadata": {
    "collapsed": false,
    "ExecuteTime": {
     "end_time": "2024-04-02T10:15:39.901215Z",
     "start_time": "2024-04-02T10:15:39.384894Z"
    }
   },
   "id": "e624cfa2d18d65fd",
   "execution_count": 151
  },
  {
   "cell_type": "markdown",
   "source": [
    "#### Statistical tests conclusions\n",
    "- Shapiro test shows that latitude, longitude and age are not normally distributed.\n",
    "- Anderson test shows that latitude, longitude and age are not normally distributed.\n",
    "- Kolmogorov-Smirnov test shows that latitude, longitude and age are not normally distributed.\n",
    "- Jarque Bera test shows that latitude, longitude and age are not normally distributed.\n",
    "\n",
    "All tests conclude that latitude, longitude and age features are not normally distributed."
   ],
   "metadata": {
    "collapsed": false
   },
   "id": "7e59cb958cda337"
  },
  {
   "cell_type": "markdown",
   "source": [
    "## Feature correlation\n",
    "- Numeric feature correlation is evaluated using Pearson and Spearman coefficients and plotted on heatmaps."
   ],
   "metadata": {
    "collapsed": false
   },
   "id": "c2880bd1f894a2c5"
  },
  {
   "cell_type": "code",
   "outputs": [],
   "source": [
    "# Calculation of correlation matrix: Pearson\n",
    "numeric_columns = final_merge[[\"age\", \"latitude\", \"longitude\"]]\n",
    "correlation_matrix_p = numeric_columns.corr().round(3)\n",
    "correlated_pairs_p = correlation_matrix_p.unstack()\n",
    "\n",
    "# Calculation of correlation matrix: Spearman\n",
    "correlation_matrix_s = numeric_columns.corr(method=\"spearman\").round(\n",
    "    3\n",
    ")\n",
    "correlated_pairs = correlation_matrix_s.unstack()"
   ],
   "metadata": {
    "collapsed": false,
    "ExecuteTime": {
     "end_time": "2024-04-02T10:15:39.923367Z",
     "start_time": "2024-04-02T10:15:39.389366Z"
    }
   },
   "id": "c9d86f05d7676f8e",
   "execution_count": 152
  },
  {
   "cell_type": "code",
   "outputs": [
    {
     "data": {
      "text/plain": "<Figure size 1400x600 with 4 Axes>",
      "image/png": "[encoded data removed]"
     },
     "metadata": {},
     "output_type": "display_data"
    }
   ],
   "source": [
    "# Correlation heatmaps\n",
    "fig, ax = plt.subplots(1, 2, figsize=(14, 6))\n",
    "sns.set(font_scale=1)\n",
    "sns.heatmap(\n",
    "    correlation_matrix_p,\n",
    "    annot=True,\n",
    "    cmap=\"viridis\",\n",
    "    ax=ax[0],\n",
    "    annot_kws={\"size\": 20},\n",
    ")\n",
    "sns.heatmap(\n",
    "    correlation_matrix_s,\n",
    "    annot=True,\n",
    "    cmap=\"viridis\",\n",
    "    ax=ax[1],\n",
    "    annot_kws={\"size\": 20},\n",
    ")\n",
    "\n",
    "ax[0].set_title(\"Dataset features correlation: Pearson\")\n",
    "ax[1].set_title(\"Dataset features correlation: Spearman\")\n",
    "ax[0].set_xlabel(\"Dataset_features\")\n",
    "ax[1].set_xlabel(\"Dataset_features\")\n",
    "ax[0].set_ylabel(\"Dataset_features\")\n",
    "ax[1].set_ylabel(\"Dataset_features\")\n",
    "ax[0].tick_params(axis=\"x\", which=\"both\", top=True, labeltop=True)\n",
    "ax[1].tick_params(axis=\"x\", which=\"both\", top=True, labeltop=True)\n",
    "plt.tight_layout()\n",
    "plt.show()"
   ],
   "metadata": {
    "collapsed": false,
    "ExecuteTime": {
     "end_time": "2024-04-02T10:15:40.137921Z",
     "start_time": "2024-04-02T10:15:39.412129Z"
    }
   },
   "id": "aa5154ad6848fe95",
   "execution_count": 153
  },
  {
   "cell_type": "markdown",
   "source": [
    "#### Correlation evaluation\n",
    "- Spearman correlation show that latitude, longitude and age features are not correlated.\n",
    "- Pearson correlation also shows that latitude, longitude and age features are not correlated."
   ],
   "metadata": {
    "collapsed": false
   },
   "id": "3400a233b2495cdf"
  },
  {
   "cell_type": "markdown",
   "source": [
    "# Conclusions\n",
    "1. Features imputed from Fatal Encounters dataset: name, age, gender, flee_status, armed_with, race, threat_type.\n",
    "2. Guender-guesser library provided 7 guesses for missing data which were used for imputation.\n",
    "3. Ethnicolor library was used to determine missing race values. However, algorthm performance with this dataset was poor. Ethnicolr algorithm identify race black correctly in 9.0% cases. This task is complicated and ethically controversial. Moreover, technical side of computational race determination is complicated do to surname length variability. Results were not used for further analysis. These results can be found in the washington_post_v4_full.csv.\n",
    "4. New features created to show that values were imputed. For accuracy purposes.\n",
    "5. Outliers in latitude and longitude features identified and manually corrected.\n",
    "6. Duplicates of date and name removed.\n",
    "7. Numerical features evaluated using statistical tests, and analysing violin plots. All of these tools confirmed that latitude, longitude and age features are not normally distributed.\n",
    "8. Spearman and Pearson correlations coefficients also showed that age, latitude and longitude features are not correlated.\n",
    "9. Maps generated during outlier corrections saved in Folium maps directory."
   ],
   "metadata": {
    "collapsed": false
   },
   "id": "2534c6d75736dacb"
  },
  {
   "cell_type": "markdown",
   "source": [
    "# Exporting dataset \n",
    "Dataset is exported in two ways:\n",
    "- Full export: all the created features are exported.\n",
    "- Clean export: features that are needed for further analysis.\n",
    "- Dataset for clean export is standardised removing whitespaces, applying lowercase and uppercase methods to match format provided in the geojson files."
   ],
   "metadata": {
    "collapsed": false
   },
   "id": "5eb7b6f69dde8d15"
  },
  {
   "cell_type": "code",
   "outputs": [],
   "source": [
    "# Exporting to csv full_results\n",
    "file_path = (\n",
    "    \"/Users/agnekrupinskaite/PycharmProjects/\"\n",
    "    \"agkrupi-DWWP.4.1/Data_preprocessing_full_files/\"\n",
    "    \"washington_post_v4_full.csv\"\n",
    ")\n",
    "final_merge.to_csv(file_path, header=True, index=True)"
   ],
   "metadata": {
    "collapsed": false,
    "ExecuteTime": {
     "end_time": "2024-04-02T10:15:40.402650Z",
     "start_time": "2024-04-02T10:15:39.683724Z"
    }
   },
   "id": "24449b35deb2a6",
   "execution_count": 154
  },
  {
   "cell_type": "code",
   "outputs": [],
   "source": [
    "# Removing columns with null values\n",
    "for column in final_merge.columns:\n",
    "    if final_merge[column].isnull().any():\n",
    "        final_merge.drop(column, axis=1, inplace=True)"
   ],
   "metadata": {
    "collapsed": false,
    "ExecuteTime": {
     "end_time": "2024-04-02T10:15:40.463271Z",
     "start_time": "2024-04-02T10:15:39.897326Z"
    }
   },
   "id": "ef886e360d26b75a",
   "execution_count": 155
  },
  {
   "cell_type": "code",
   "outputs": [
    {
     "data": {
      "text/plain": "         date threat_type flee_status         armed_with           city  \\\nid                                                                        \n3  2015-01-02       point         not                gun        Shelton   \n4  2015-01-02       point         not                gun          Aloha   \n5  2015-01-03        move         not            unarmed        Wichita   \n8  2015-01-04       point         not            replica  San Francisco   \n9  2015-01-04       point         not  other_or_multiple          Evans   \n\n           county state   latitude   longitude location_precision  ...  \\\nid                                                                 ...   \n3           Mason    WA  47.246826 -123.121592      not_available  ...   \n4      Washington    OR  45.487421 -122.891696      not_available  ...   \n5        Sedgwick    KS  37.694766  -97.280554      not_available  ...   \n8   San Francisco    CA  37.762910 -122.422001      not_available  ...   \n9            Weld    CO  40.383937 -104.692261      not_available  ...   \n\n   Retrieved_flee_status_v2  flee_status_source Retrieved_armed_with_v1  \\\nid                                                                        \n3               Not fleeing     Washington_Post                    None   \n4               Not fleeing     Washington_Post         Firearm/Handgun   \n5               Not fleeing     Washington_Post      Edged weapon/Knife   \n8               Not fleeing     Washington_Post      Firearm/Pellet gun   \n9               Not fleeing     Washington_Post                    None   \n\n   Retrieved_armed_with_v2 armed_with_source     armed_with_v1  \\\nid                                                               \n3                     None   Washington_Post               NaN   \n4          Firearm/Handgun   Washington_Post  Fatal_Encounters   \n5       Edged weapon/Knife   Washington_Post  Fatal_Encounters   \n8       Firearm/Pellet gun   Washington_Post  Fatal_Encounters   \n9                     None   Washington_Post               NaN   \n\n    Retrieved_threat_type_v1 Retrieved_threat_type_v2  \\\nid                                                      \n3                       None                Uncertain   \n4          Brandished weapon        Brandished weapon   \n5           Reached to waist         Reached to waist   \n8          Brandished weapon        Brandished weapon   \n9                       None        Brandished weapon   \n\n          Retrieved_race_v1        Retrieved_race_v2  \nid                                                    \n3    Asian/Pacific Islander   Asian/Pacific Islander  \n4   European-American/White  European-American/White  \n5           Hispanic/Latino          Hispanic/Latino  \n8   European-American/White  European-American/White  \n9           Hispanic/Latino          Hispanic/Latino  \n\n[5 rows x 44 columns]",
      "text/html": "<div>\n<style scoped>\n    .dataframe tbody tr th:only-of-type {\n        vertical-align: middle;\n    }\n\n    .dataframe tbody tr th {\n        vertical-align: top;\n    }\n\n    .dataframe thead th {\n        text-align: right;\n    }\n</style>\n<table border=\"1\" class=\"dataframe\">\n  <thead>\n    <tr style=\"text-align: right;\">\n      <th></th>\n      <th>date</th>\n      <th>threat_type</th>\n      <th>flee_status</th>\n      <th>armed_with</th>\n      <th>city</th>\n      <th>county</th>\n      <th>state</th>\n      <th>latitude</th>\n      <th>longitude</th>\n      <th>location_precision</th>\n      <th>...</th>\n      <th>Retrieved_flee_status_v2</th>\n      <th>flee_status_source</th>\n      <th>Retrieved_armed_with_v1</th>\n      <th>Retrieved_armed_with_v2</th>\n      <th>armed_with_source</th>\n      <th>armed_with_v1</th>\n      <th>Retrieved_threat_type_v1</th>\n      <th>Retrieved_threat_type_v2</th>\n      <th>Retrieved_race_v1</th>\n      <th>Retrieved_race_v2</th>\n    </tr>\n    <tr>\n      <th>id</th>\n      <th></th>\n      <th></th>\n      <th></th>\n      <th></th>\n      <th></th>\n      <th></th>\n      <th></th>\n      <th></th>\n      <th></th>\n      <th></th>\n      <th></th>\n      <th></th>\n      <th></th>\n      <th></th>\n      <th></th>\n      <th></th>\n      <th></th>\n      <th></th>\n      <th></th>\n      <th></th>\n      <th></th>\n    </tr>\n  </thead>\n  <tbody>\n    <tr>\n      <th>3</th>\n      <td>2015-01-02</td>\n      <td>point</td>\n      <td>not</td>\n      <td>gun</td>\n      <td>Shelton</td>\n      <td>Mason</td>\n      <td>WA</td>\n      <td>47.246826</td>\n      <td>-123.121592</td>\n      <td>not_available</td>\n      <td>...</td>\n      <td>Not fleeing</td>\n      <td>Washington_Post</td>\n      <td>None</td>\n      <td>None</td>\n      <td>Washington_Post</td>\n      <td>NaN</td>\n      <td>None</td>\n      <td>Uncertain</td>\n      <td>Asian/Pacific Islander</td>\n      <td>Asian/Pacific Islander</td>\n    </tr>\n    <tr>\n      <th>4</th>\n      <td>2015-01-02</td>\n      <td>point</td>\n      <td>not</td>\n      <td>gun</td>\n      <td>Aloha</td>\n      <td>Washington</td>\n      <td>OR</td>\n      <td>45.487421</td>\n      <td>-122.891696</td>\n      <td>not_available</td>\n      <td>...</td>\n      <td>Not fleeing</td>\n      <td>Washington_Post</td>\n      <td>Firearm/Handgun</td>\n      <td>Firearm/Handgun</td>\n      <td>Washington_Post</td>\n      <td>Fatal_Encounters</td>\n      <td>Brandished weapon</td>\n      <td>Brandished weapon</td>\n      <td>European-American/White</td>\n      <td>European-American/White</td>\n    </tr>\n    <tr>\n      <th>5</th>\n      <td>2015-01-03</td>\n      <td>move</td>\n      <td>not</td>\n      <td>unarmed</td>\n      <td>Wichita</td>\n      <td>Sedgwick</td>\n      <td>KS</td>\n      <td>37.694766</td>\n      <td>-97.280554</td>\n      <td>not_available</td>\n      <td>...</td>\n      <td>Not fleeing</td>\n      <td>Washington_Post</td>\n      <td>Edged weapon/Knife</td>\n      <td>Edged weapon/Knife</td>\n      <td>Washington_Post</td>\n      <td>Fatal_Encounters</td>\n      <td>Reached to waist</td>\n      <td>Reached to waist</td>\n      <td>Hispanic/Latino</td>\n      <td>Hispanic/Latino</td>\n    </tr>\n    <tr>\n      <th>8</th>\n      <td>2015-01-04</td>\n      <td>point</td>\n      <td>not</td>\n      <td>replica</td>\n      <td>San Francisco</td>\n      <td>San Francisco</td>\n      <td>CA</td>\n      <td>37.762910</td>\n      <td>-122.422001</td>\n      <td>not_available</td>\n      <td>...</td>\n      <td>Not fleeing</td>\n      <td>Washington_Post</td>\n      <td>Firearm/Pellet gun</td>\n      <td>Firearm/Pellet gun</td>\n      <td>Washington_Post</td>\n      <td>Fatal_Encounters</td>\n      <td>Brandished weapon</td>\n      <td>Brandished weapon</td>\n      <td>European-American/White</td>\n      <td>European-American/White</td>\n    </tr>\n    <tr>\n      <th>9</th>\n      <td>2015-01-04</td>\n      <td>point</td>\n      <td>not</td>\n      <td>other_or_multiple</td>\n      <td>Evans</td>\n      <td>Weld</td>\n      <td>CO</td>\n      <td>40.383937</td>\n      <td>-104.692261</td>\n      <td>not_available</td>\n      <td>...</td>\n      <td>Not fleeing</td>\n      <td>Washington_Post</td>\n      <td>None</td>\n      <td>None</td>\n      <td>Washington_Post</td>\n      <td>NaN</td>\n      <td>None</td>\n      <td>Brandished weapon</td>\n      <td>Hispanic/Latino</td>\n      <td>Hispanic/Latino</td>\n    </tr>\n  </tbody>\n</table>\n<p>5 rows × 44 columns</p>\n</div>"
     },
     "execution_count": 156,
     "metadata": {},
     "output_type": "execute_result"
    }
   ],
   "source": [
    "# Lowering letters, removing whitespaces\n",
    "categorical_columns = [\n",
    "    \"threat_type\",\n",
    "    \"flee_status\",\n",
    "    \"armed_with\",\n",
    "    \"city\",\n",
    "    \"county\",\n",
    "    \"location_precision\",\n",
    "    \"gender\",\n",
    "    \"race\",\n",
    "]\n",
    "\n",
    "for column in categorical_columns:\n",
    "    final_merge[column] = final_merge[column].str.lower()\n",
    "    final_merge[column] = final_merge[column].str.strip()\n",
    "    final_merge[column] = final_merge[column].replace(\n",
    "        r\"\\s{2,}\", \" \", regex=True\n",
    "    )\n",
    "washington_post.head()"
   ],
   "metadata": {
    "collapsed": false,
    "ExecuteTime": {
     "end_time": "2024-04-02T10:15:40.479046Z",
     "start_time": "2024-04-02T10:15:39.998693Z"
    }
   },
   "id": "3b831f9cbc865049",
   "execution_count": 156
  },
  {
   "cell_type": "code",
   "outputs": [],
   "source": [
    "# Normalising county names\n",
    "if \"county\" in final_merge.columns:\n",
    "    final_merge[\"county\"] = final_merge[\"county\"].astype(str)\n",
    "    final_merge[\"county\"] = final_merge[\"county\"].str.strip()\n",
    "    final_merge[\"county\"] = final_merge[\"county\"].str.replace(\n",
    "        r\"\\scounty\\b\", \"\", regex=True\n",
    "    )\n",
    "else:\n",
    "    print(\"The 'county' column does not exist in the DataFrame.\")\n",
    "\n",
    "# Formatting according to GeoJson file\n",
    "final_merge[\"county\"] = final_merge[\"county\"].str.capitalize()\n",
    "word_to_add = \" County\"\n",
    "final_merge[\"state\"] = final_merge[\"state\"].str.upper()"
   ],
   "metadata": {
    "collapsed": false,
    "ExecuteTime": {
     "end_time": "2024-04-02T10:15:40.493029Z",
     "start_time": "2024-04-02T10:15:40.070109Z"
    }
   },
   "id": "6c5f350875b1c7d",
   "execution_count": 157
  },
  {
   "cell_type": "code",
   "outputs": [
    {
     "name": "stdout",
     "output_type": "stream",
     "text": [
      "Index(['date', 'threat_type', 'flee_status', 'armed_with', 'city', 'county',\n",
      "       'state', 'latitude', 'longitude', 'location_precision', 'name', 'age',\n",
      "       'gender', 'race', 'was_mental_illness_related', 'body_camera',\n",
      "       'agency_ids', 'name_source', 'first_name', 'second_name', 'third_name',\n",
      "       'fourth_name', 'fifth_name', 'Retrieved_gender_v1',\n",
      "       'Retrieved_gender_guesser', 'gender_source', 'age_source',\n",
      "       'flee_status_source', 'armed_with_source', 'pctwhite_x_x',\n",
      "       'pctblack_x_x', 'pctapi_x_x', 'pctaian_x_x', 'pct2prace_x_x',\n",
      "       'pcthispanic_x_x', 'pctwhite_y_x', 'pctblack_y_x', 'pctapi_y_x',\n",
      "       'pctaian_y_x', 'pct2prace_y_x', 'pcthispanic_y_x', 'pctwhite_x_y',\n",
      "       'pctblack_x_y', 'pctapi_x_y', 'pctaian_x_y', 'pct2prace_x_y',\n",
      "       'pcthispanic_x_y', 'pctwhite_y_y', 'pctblack_y_y', 'pctapi_y_y',\n",
      "       'pctaian_y_y', 'pct2prace_y_y', 'pcthispanic_y_y', 'ethnicolr_race'],\n",
      "      dtype='object')\n"
     ]
    }
   ],
   "source": [
    "# Checking columns composition\n",
    "print(final_merge.columns)"
   ],
   "metadata": {
    "collapsed": false,
    "ExecuteTime": {
     "end_time": "2024-04-02T10:15:40.515527Z",
     "start_time": "2024-04-02T10:15:40.074684Z"
    }
   },
   "id": "9a43bd7425748c5e",
   "execution_count": 158
  },
  {
   "cell_type": "code",
   "outputs": [],
   "source": [
    "# Removing not needed columns\n",
    "not_needed_columns = [\n",
    "    \"first_name\",\n",
    "    \"second_name\",\n",
    "    \"third_name\",\n",
    "    \"fourth_name\",\n",
    "    \"fifth_name\",\n",
    "    \"pctwhite_x_x\",\n",
    "    \"pctblack_x_x\",\n",
    "    \"pctapi_x_x\",\n",
    "    \"pctaian_x_x\",\n",
    "    \"pct2prace_x_x\",\n",
    "    \"pcthispanic_x_x\",\n",
    "    \"pctwhite_y_x\",\n",
    "    \"pctblack_y_x\",\n",
    "    \"pctapi_y_x\",\n",
    "    \"pctaian_y_x\",\n",
    "    \"pct2prace_y_x\",\n",
    "    \"pcthispanic_y_x\",\n",
    "    \"pctwhite_x_y\",\n",
    "    \"pctblack_x_y\",\n",
    "    \"pctapi_x_y\",\n",
    "    \"pctaian_x_y\",\n",
    "    \"pct2prace_x_y\",\n",
    "    \"pcthispanic_x_y\",\n",
    "    \"pctwhite_y_y\",\n",
    "    \"pctblack_y_y\",\n",
    "    \"pctapi_y_y\",\n",
    "    \"pctaian_y_y\",\n",
    "    \"pct2prace_y_y\",\n",
    "    \"pcthispanic_y_y\",\n",
    "    \"ethnicolr_race\",\n",
    "    \"Retrieved_gender_v1\",\n",
    "    \"Retrieved_gender_guesser\",\n",
    "]\n",
    "\n",
    "for column in not_needed_columns:\n",
    "    final_merge.drop(column, axis=1, inplace=True)"
   ],
   "metadata": {
    "collapsed": false,
    "ExecuteTime": {
     "end_time": "2024-04-02T10:15:40.604186Z",
     "start_time": "2024-04-02T10:15:40.079954Z"
    }
   },
   "id": "d1b721e59c202d86",
   "execution_count": 159
  },
  {
   "cell_type": "code",
   "outputs": [
    {
     "name": "stdout",
     "output_type": "stream",
     "text": [
      "Index(['date', 'threat_type', 'flee_status', 'armed_with', 'city', 'county',\n",
      "       'state', 'latitude', 'longitude', 'location_precision', 'name', 'age',\n",
      "       'gender', 'race', 'was_mental_illness_related', 'body_camera',\n",
      "       'agency_ids', 'name_source', 'gender_source', 'age_source',\n",
      "       'flee_status_source', 'armed_with_source'],\n",
      "      dtype='object')\n"
     ]
    }
   ],
   "source": [
    "# Checking columns composition\n",
    "print(final_merge.columns)"
   ],
   "metadata": {
    "collapsed": false,
    "ExecuteTime": {
     "end_time": "2024-04-02T10:15:40.658767Z",
     "start_time": "2024-04-02T10:15:40.158228Z"
    }
   },
   "id": "88d212c9d702494e",
   "execution_count": 160
  },
  {
   "cell_type": "code",
   "outputs": [],
   "source": [
    "# Exporting to csv cleaned data\n",
    "final_merge.to_csv(\n",
    "    \"washington_post_v4_clean.csv\", header=True, index=True\n",
    ")"
   ],
   "metadata": {
    "collapsed": false,
    "ExecuteTime": {
     "end_time": "2024-04-02T10:15:40.734695Z",
     "start_time": "2024-04-02T10:15:40.162730Z"
    }
   },
   "id": "524a42df8f136a4",
   "execution_count": 161
  },
  {
   "cell_type": "markdown",
   "source": [],
   "metadata": {
    "collapsed": false
   },
   "id": "59dc53927e2b6b63"
  }
 ],
 "metadata": {
  "kernelspec": {
   "display_name": "Python 3",
   "language": "python",
   "name": "python3"
  },
  "language_info": {
   "codemirror_mode": {
    "name": "ipython",
    "version": 2
   },
   "file_extension": ".py",
   "mimetype": "text/x-python",
   "name": "python",
   "nbconvert_exporter": "python",
   "pygments_lexer": "ipython2",
   "version": "2.7.6"
  }
 },
 "nbformat": 4,
 "nbformat_minor": 5
}
