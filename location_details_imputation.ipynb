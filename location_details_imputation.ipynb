{
 "cells": [
  {
   "cell_type": "markdown",
   "source": [
    "# Data cleaning\n",
    "- This notebook is dedicated to cleaning the data of fatal police shootings in the US. \n",
    "- First source of dataset was found at Kaggle: https://www.kaggle.com/datasets/washingtonpost/police-shootings/data\n",
    "- Data is retrieved from Washington Post GitHub page: https://github.com/washingtonpost/data-police-shootings\n",
    "- Washington Post GitHub contains Version 1 and Version 2. Version 1 was found at Kaggle.\n",
    "- Version 2 of the dataset is used, since it contains data for longer period and some features are updated."
   ],
   "metadata": {
    "collapsed": false
   },
   "id": "b7f7b86448a76f37"
  },
  {
   "cell_type": "markdown",
   "source": [
    "## Location data imputing\n",
    "- Location data is missing the dataset. \n",
    "- Features that contain NaN values are investigated and fixed in this notebook.\n",
    "- Geocoding method is used to determine missing features in this dataset.\n",
    "- Dataset with mined features is saved as new csv file."
   ],
   "metadata": {
    "collapsed": false
   },
   "id": "58200b7d0cd5d81b"
  },
  {
   "cell_type": "code",
   "outputs": [],
   "source": [
    "# %load_ext pycodestyle_magic"
   ],
   "metadata": {
    "collapsed": false,
    "ExecuteTime": {
     "end_time": "2024-04-02T15:46:49.252065Z",
     "start_time": "2024-04-02T15:46:49.040028Z"
    }
   },
   "id": "9cdf6a5315cf8c8b",
   "execution_count": 1
  },
  {
   "cell_type": "code",
   "outputs": [],
   "source": [
    "# %pycodestyle_on"
   ],
   "metadata": {
    "collapsed": false,
    "ExecuteTime": {
     "end_time": "2024-04-02T15:46:49.293758Z",
     "start_time": "2024-04-02T15:46:49.254024Z"
    }
   },
   "id": "ed8cd14d17fa7cc7",
   "execution_count": 2
  },
  {
   "cell_type": "code",
   "execution_count": 3,
   "id": "initial_id",
   "metadata": {
    "collapsed": true,
    "ExecuteTime": {
     "end_time": "2024-04-02T15:46:49.429116Z",
     "start_time": "2024-04-02T15:46:49.294259Z"
    }
   },
   "outputs": [],
   "source": [
    "# Necessary libraries are imported\n",
    "import pandas as pd\n",
    "import seaborn as sns\n",
    "import matplotlib.pyplot as plt\n",
    "from geopy.geocoders import Nominatim\n",
    "import time\n",
    "from tqdm.notebook import tqdm\n",
    "import csv\n",
    "import os"
   ]
  },
  {
   "cell_type": "code",
   "outputs": [
    {
     "name": "stdout",
     "output_type": "stream",
     "text": [
      "Enabling notebook extension jupyter-js-widgets/extension...\r\n",
      "      - Validating: \u001B[32mOK\u001B[0m\r\n"
     ]
    }
   ],
   "source": [
    "# Jupyter notebook extensions are enabled\n",
    "!jupyter nbextension enable --py widgetsnbextension"
   ],
   "metadata": {
    "collapsed": false,
    "ExecuteTime": {
     "end_time": "2024-04-02T15:46:50.063919Z",
     "start_time": "2024-04-02T15:46:49.413948Z"
    }
   },
   "id": "3722a99fae9f6926",
   "execution_count": 4
  },
  {
   "cell_type": "code",
   "outputs": [
    {
     "data": {
      "text/plain": "          date threat_type flee_status armed_with           city  \\\nid                                                                 \n3   2015-01-02       point         not        gun        Shelton   \n4   2015-01-02       point         not        gun          Aloha   \n5   2015-01-03        move         not    unarmed        Wichita   \n8   2015-01-04       point         not    replica  San Francisco   \n9   2015-01-04       point         not      other          Evans   \n\n           county state   latitude   longitude location_precision  \\\nid                                                                  \n3           Mason    WA  47.246826 -123.121592      not_available   \n4      Washington    OR  45.487421 -122.891696      not_available   \n5        Sedgwick    KS  37.694766  -97.280554      not_available   \n8   San Francisco    CA  37.762910 -122.422001      not_available   \n9            Weld    CO  40.383937 -104.692261      not_available   \n\n                  name   age gender race    race_source  \\\nid                                                        \n3           Tim Elliot  53.0   male    A  not_available   \n4     Lewis Lee Lembke  47.0   male    W  not_available   \n5   John Paul Quintero  23.0   male    H  not_available   \n8      Matthew Hoffman  32.0   male    W  not_available   \n9    Michael Rodriguez  39.0   male    H  not_available   \n\n    was_mental_illness_related  body_camera agency_ids  \nid                                                      \n3                         True        False         73  \n4                        False        False         70  \n5                        False        False        238  \n8                         True        False        196  \n9                        False        False        473  ",
      "text/html": "<div>\n<style scoped>\n    .dataframe tbody tr th:only-of-type {\n        vertical-align: middle;\n    }\n\n    .dataframe tbody tr th {\n        vertical-align: top;\n    }\n\n    .dataframe thead th {\n        text-align: right;\n    }\n</style>\n<table border=\"1\" class=\"dataframe\">\n  <thead>\n    <tr style=\"text-align: right;\">\n      <th></th>\n      <th>date</th>\n      <th>threat_type</th>\n      <th>flee_status</th>\n      <th>armed_with</th>\n      <th>city</th>\n      <th>county</th>\n      <th>state</th>\n      <th>latitude</th>\n      <th>longitude</th>\n      <th>location_precision</th>\n      <th>name</th>\n      <th>age</th>\n      <th>gender</th>\n      <th>race</th>\n      <th>race_source</th>\n      <th>was_mental_illness_related</th>\n      <th>body_camera</th>\n      <th>agency_ids</th>\n    </tr>\n    <tr>\n      <th>id</th>\n      <th></th>\n      <th></th>\n      <th></th>\n      <th></th>\n      <th></th>\n      <th></th>\n      <th></th>\n      <th></th>\n      <th></th>\n      <th></th>\n      <th></th>\n      <th></th>\n      <th></th>\n      <th></th>\n      <th></th>\n      <th></th>\n      <th></th>\n      <th></th>\n    </tr>\n  </thead>\n  <tbody>\n    <tr>\n      <th>3</th>\n      <td>2015-01-02</td>\n      <td>point</td>\n      <td>not</td>\n      <td>gun</td>\n      <td>Shelton</td>\n      <td>Mason</td>\n      <td>WA</td>\n      <td>47.246826</td>\n      <td>-123.121592</td>\n      <td>not_available</td>\n      <td>Tim Elliot</td>\n      <td>53.0</td>\n      <td>male</td>\n      <td>A</td>\n      <td>not_available</td>\n      <td>True</td>\n      <td>False</td>\n      <td>73</td>\n    </tr>\n    <tr>\n      <th>4</th>\n      <td>2015-01-02</td>\n      <td>point</td>\n      <td>not</td>\n      <td>gun</td>\n      <td>Aloha</td>\n      <td>Washington</td>\n      <td>OR</td>\n      <td>45.487421</td>\n      <td>-122.891696</td>\n      <td>not_available</td>\n      <td>Lewis Lee Lembke</td>\n      <td>47.0</td>\n      <td>male</td>\n      <td>W</td>\n      <td>not_available</td>\n      <td>False</td>\n      <td>False</td>\n      <td>70</td>\n    </tr>\n    <tr>\n      <th>5</th>\n      <td>2015-01-03</td>\n      <td>move</td>\n      <td>not</td>\n      <td>unarmed</td>\n      <td>Wichita</td>\n      <td>Sedgwick</td>\n      <td>KS</td>\n      <td>37.694766</td>\n      <td>-97.280554</td>\n      <td>not_available</td>\n      <td>John Paul Quintero</td>\n      <td>23.0</td>\n      <td>male</td>\n      <td>H</td>\n      <td>not_available</td>\n      <td>False</td>\n      <td>False</td>\n      <td>238</td>\n    </tr>\n    <tr>\n      <th>8</th>\n      <td>2015-01-04</td>\n      <td>point</td>\n      <td>not</td>\n      <td>replica</td>\n      <td>San Francisco</td>\n      <td>San Francisco</td>\n      <td>CA</td>\n      <td>37.762910</td>\n      <td>-122.422001</td>\n      <td>not_available</td>\n      <td>Matthew Hoffman</td>\n      <td>32.0</td>\n      <td>male</td>\n      <td>W</td>\n      <td>not_available</td>\n      <td>True</td>\n      <td>False</td>\n      <td>196</td>\n    </tr>\n    <tr>\n      <th>9</th>\n      <td>2015-01-04</td>\n      <td>point</td>\n      <td>not</td>\n      <td>other</td>\n      <td>Evans</td>\n      <td>Weld</td>\n      <td>CO</td>\n      <td>40.383937</td>\n      <td>-104.692261</td>\n      <td>not_available</td>\n      <td>Michael Rodriguez</td>\n      <td>39.0</td>\n      <td>male</td>\n      <td>H</td>\n      <td>not_available</td>\n      <td>False</td>\n      <td>False</td>\n      <td>473</td>\n    </tr>\n  </tbody>\n</table>\n</div>"
     },
     "execution_count": 5,
     "metadata": {},
     "output_type": "execute_result"
    }
   ],
   "source": [
    "# Loading dataframe \n",
    "file_path = (\"/Users/agnekrupinskaite/\"\n",
    "             \"PycharmProjects/agkrupi-DWWP.4.1/\"\n",
    "             \"Data_sources/fatal-police-shootings-data.csv\")\n",
    "shooting_data = pd.read_csv(file_path, index_col=0, header=0)\n",
    "shooting_data.head()"
   ],
   "metadata": {
    "collapsed": false,
    "ExecuteTime": {
     "end_time": "2024-04-02T15:46:50.064463Z",
     "start_time": "2024-04-02T15:46:50.036496Z"
    }
   },
   "id": "4c97319586fcd6a4",
   "execution_count": 5
  },
  {
   "cell_type": "markdown",
   "source": [
    "## Location features evaluation\n",
    "Location features have some missing value:\n",
    "- The county column has 4731 of NaN values.\n",
    "- The latitude column has 1034 of NaN values.\n",
    "- The longitude column has 1034 of NaN values.\n",
    "- The location_precision column has 1034 of NaN values.\n",
    "- The city column has 71 of NaN values.\n",
    "- The state column has 0 of NaN values.\n",
    "\n",
    "After checking datatypes of location related features no datatypes were changed."
   ],
   "metadata": {
    "collapsed": false
   },
   "id": "302d5d8d6526ca13"
  },
  {
   "cell_type": "code",
   "outputs": [
    {
     "data": {
      "text/plain": "county                        4731\nflee_status                   1282\nrace                          1171\nrace_source                   1141\nlocation_precision            1034\nlatitude                      1034\nlongitude                     1034\nage                            388\nname                           352\narmed_with                     212\ncity                            71\nthreat_type                     67\ngender                          25\nwas_mental_illness_related       0\nbody_camera                      0\ndate                             0\nstate                            0\nagency_ids                       0\ndtype: int64"
     },
     "execution_count": 6,
     "metadata": {},
     "output_type": "execute_result"
    }
   ],
   "source": [
    "# Counting how many NaN values in each column\n",
    "shooting_columns_nulls = shooting_data.isnull().sum().sort_values(\n",
    "    ascending=False)\n",
    "shooting_columns_nulls"
   ],
   "metadata": {
    "collapsed": false,
    "ExecuteTime": {
     "end_time": "2024-04-02T15:46:50.066086Z",
     "start_time": "2024-04-02T15:46:50.037119Z"
    }
   },
   "id": "50f0f074373cf6d6",
   "execution_count": 6
  },
  {
   "cell_type": "code",
   "outputs": [
    {
     "name": "stdout",
     "output_type": "stream",
     "text": [
      "The county column has 4731 of NaN values.\n",
      "The latitude column has 1034 of NaN values.\n",
      "The longitude column has 1034 of NaN values.\n",
      "The location_precision column has 1034 of NaN values.\n",
      "The city column has 71 of NaN values.\n",
      "The state column has 0 of NaN values.\n"
     ]
    }
   ],
   "source": [
    "# Printing each location related feature NaN count\n",
    "for column, column_data in shooting_columns_nulls[[\"county\",\n",
    "                                                   \"latitude\",\n",
    "                                                   \"longitude\",\n",
    "                                                   \"location_precision\",\n",
    "                                                   \"city\",\n",
    "                                                   \"state\"]].items():\n",
    "    print(f\"The {column} column has {column_data} of NaN values.\")"
   ],
   "metadata": {
    "collapsed": false,
    "ExecuteTime": {
     "end_time": "2024-04-02T15:46:50.067551Z",
     "start_time": "2024-04-02T15:46:50.037406Z"
    }
   },
   "id": "b9eecde767853381",
   "execution_count": 7
  },
  {
   "cell_type": "code",
   "outputs": [
    {
     "data": {
      "text/plain": "<Figure size 1500x1000 with 1 Axes>",
      "image/png": "[encoded data removed]"
     },
     "metadata": {},
     "output_type": "display_data"
    }
   ],
   "source": [
    "# Plotting NaN values found in different location related features\n",
    "plt.figure(figsize=(15, 10))\n",
    "sns.barplot(shooting_columns_nulls[[\"county\",\n",
    "                                    \"latitude\",\n",
    "                                    \"longitude\",\n",
    "                                    \"location_precision\",\n",
    "                                    \"city\",\n",
    "                                    \"state\"]], color=\"skyblue\")\n",
    "plt.title(\"Count of location related features with NaN values\")\n",
    "plt.xlabel(\"Feature name\")\n",
    "plt.ylabel(\"Count\")\n",
    "plt.xticks(rotation=45, horizontalalignment=\"right\")\n",
    "\n",
    "# Adding labels to bars\n",
    "for i, v in enumerate(shooting_columns_nulls[[\"county\",\n",
    "                                              \"latitude\",\n",
    "                                              \"longitude\",\n",
    "                                              \"location_precision\",\n",
    "                                              \"city\",\n",
    "                                              \"state\"]].values):\n",
    "    plt.text(i, v, str(v), ha=\"center\", va=\"bottom\")\n",
    "\n",
    "plt.show()"
   ],
   "metadata": {
    "collapsed": false,
    "ExecuteTime": {
     "end_time": "2024-04-02T15:46:50.453889Z",
     "start_time": "2024-04-02T15:46:50.042813Z"
    }
   },
   "id": "d311023532479cda",
   "execution_count": 8
  },
  {
   "cell_type": "markdown",
   "source": [
    "- The barplot shows that the most values are missing in the county feature. \n",
    "- Same amount of values are missing in the latitude, longitude and location_precision features. This allows to make an assumption that these features are related.\n",
    "- City is missing the lowest amount of values.\n",
    "- No values are missing in the state feature."
   ],
   "metadata": {
    "collapsed": false
   },
   "id": "71ff140a0710851c"
  },
  {
   "cell_type": "code",
   "outputs": [
    {
     "name": "stdout",
     "output_type": "stream",
     "text": [
      "<class 'pandas.core.frame.DataFrame'>\n",
      "Index: 9378 entries, 3 to 10150\n",
      "Data columns (total 6 columns):\n",
      " #   Column              Non-Null Count  Dtype  \n",
      "---  ------              --------------  -----  \n",
      " 0   county              4647 non-null   object \n",
      " 1   latitude            8344 non-null   float64\n",
      " 2   longitude           8344 non-null   float64\n",
      " 3   location_precision  8344 non-null   object \n",
      " 4   city                9307 non-null   object \n",
      " 5   state               9378 non-null   object \n",
      "dtypes: float64(2), object(4)\n",
      "memory usage: 512.9+ KB\n"
     ]
    }
   ],
   "source": [
    "# Checking if location related features data types are correct\n",
    "shooting_data[[\"county\",\n",
    "               \"latitude\",\n",
    "               \"longitude\",\n",
    "               \"location_precision\",\n",
    "               \"city\", \"state\"]].info()"
   ],
   "metadata": {
    "collapsed": false,
    "ExecuteTime": {
     "end_time": "2024-04-02T15:46:50.455272Z",
     "start_time": "2024-04-02T15:46:50.371677Z"
    }
   },
   "id": "c063f0b58ec3a3cc",
   "execution_count": 9
  },
  {
   "cell_type": "markdown",
   "source": [
    "## Missing location values identification\n",
    "- Latitude and longitude are the most accurate location features, providing precise coordinates for a specific point on the Earth's surface. Next would be city. The least precise is county and state values.\n",
    "- Latitude and longitude can be retrieved from county and city values. In this case new location_precision value will also be applied (county_based or city_based).\n",
    "- City can be found using latitude and longitude. "
   ],
   "metadata": {
    "collapsed": false
   },
   "id": "2200d5e48e25621b"
  },
  {
   "cell_type": "markdown",
   "source": [
    "### Retrieving latitude and longitude values\n",
    "- Latitude and longitude are retrieved from city, using geocoding approach.\n",
    "- New location precision feature is created for features that latitude and longitude are retrieved using city information. These location_precision fields are filled with string city_based."
   ],
   "metadata": {
    "collapsed": false
   },
   "id": "8881a14770010510"
  },
  {
   "cell_type": "code",
   "outputs": [
    {
     "data": {
      "text/plain": "Empty DataFrame\nColumns: [date, threat_type, flee_status, armed_with, city, county, state, latitude, longitude, location_precision, name, age, gender, race, race_source, was_mental_illness_related, body_camera, agency_ids]\nIndex: []",
      "text/html": "<div>\n<style scoped>\n    .dataframe tbody tr th:only-of-type {\n        vertical-align: middle;\n    }\n\n    .dataframe tbody tr th {\n        vertical-align: top;\n    }\n\n    .dataframe thead th {\n        text-align: right;\n    }\n</style>\n<table border=\"1\" class=\"dataframe\">\n  <thead>\n    <tr style=\"text-align: right;\">\n      <th></th>\n      <th>date</th>\n      <th>threat_type</th>\n      <th>flee_status</th>\n      <th>armed_with</th>\n      <th>city</th>\n      <th>county</th>\n      <th>state</th>\n      <th>latitude</th>\n      <th>longitude</th>\n      <th>location_precision</th>\n      <th>name</th>\n      <th>age</th>\n      <th>gender</th>\n      <th>race</th>\n      <th>race_source</th>\n      <th>was_mental_illness_related</th>\n      <th>body_camera</th>\n      <th>agency_ids</th>\n    </tr>\n    <tr>\n      <th>id</th>\n      <th></th>\n      <th></th>\n      <th></th>\n      <th></th>\n      <th></th>\n      <th></th>\n      <th></th>\n      <th></th>\n      <th></th>\n      <th></th>\n      <th></th>\n      <th></th>\n      <th></th>\n      <th></th>\n      <th></th>\n      <th></th>\n      <th></th>\n      <th></th>\n    </tr>\n  </thead>\n  <tbody>\n  </tbody>\n</table>\n</div>"
     },
     "execution_count": 10,
     "metadata": {},
     "output_type": "execute_result"
    }
   ],
   "source": [
    "# Identifying rows with missing latitude, longitude, city, county\n",
    "lat_long_city_county = ['latitude', 'longitude', \"county\", \"city\"]\n",
    "no_lat_long_city_county = shooting_data[\n",
    "    shooting_data[lat_long_city_county].isnull().all(axis=1)]\n",
    "no_lat_long_city_county"
   ],
   "metadata": {
    "collapsed": false,
    "ExecuteTime": {
     "end_time": "2024-04-02T15:46:50.478234Z",
     "start_time": "2024-04-02T15:46:50.380635Z"
    }
   },
   "id": "bc6f07c10413865f",
   "execution_count": 10
  },
  {
   "cell_type": "markdown",
   "source": [
    "There are no observations that have city, county, latitude and longitude missing. County and city can be used to retrieve latitude and longitude."
   ],
   "metadata": {
    "collapsed": false
   },
   "id": "b6177dafbf13b5f1"
  },
  {
   "cell_type": "code",
   "outputs": [],
   "source": [
    "# Function to write error to csv\n",
    "def write_error_to_csv(error_message,\n",
    "                       directory='.',\n",
    "                       file_name='error_log.csv'):\n",
    "    file_path = os.path.join(directory, file_name)\n",
    "    with open(file_path, mode='a', newline='') as error_file:\n",
    "        error_writer = csv.writer(error_file)\n",
    "        error_writer.writerow([error_message])"
   ],
   "metadata": {
    "collapsed": false,
    "ExecuteTime": {
     "end_time": "2024-04-02T15:46:50.485917Z",
     "start_time": "2024-04-02T15:46:50.390408Z"
    }
   },
   "id": "984e6680aaf8e659",
   "execution_count": 11
  },
  {
   "cell_type": "code",
   "outputs": [],
   "source": [
    "# Defining the function to retrieve latitude and longitude from county\n",
    "def get_lat_long_county(county_name):\n",
    "    \"\"\"Function retrieves latitude and longitude.\n",
    "    Nominatim geolocator services are used.\n",
    "    County feature is used for retrieval.\"\"\"\n",
    "    geolocator = Nominatim(user_agent=\"DS_project\")\n",
    "    try:\n",
    "        time.sleep(1)  # Rate limits of the service\n",
    "\n",
    "        locat = geolocator.geocode(county_name, timeout=10)\n",
    "        if locat:\n",
    "            return locat.latitude, locat.longitude, \"county_based\"\n",
    "    except Exception as e:\n",
    "        error_message = (f\"Error getting latitude \"\n",
    "                         f\"and longitude for {county_name}: {e}\")\n",
    "        write_error_to_csv(\n",
    "            error_message, \"/Users/agnekrupinskaite/\"\n",
    "                           \"PycharmProjects/agkrupi-DWWP.4.1/Error_logs\", \"error_log_get_lat_long_county.csv\")\n",
    "    return None"
   ],
   "metadata": {
    "collapsed": false,
    "ExecuteTime": {
     "end_time": "2024-04-02T15:46:50.488258Z",
     "start_time": "2024-04-02T15:46:50.397196Z"
    }
   },
   "id": "e0370e9929a8270f",
   "execution_count": 12
  },
  {
   "cell_type": "code",
   "outputs": [
    {
     "data": {
      "text/plain": "(40.08067, -76.2411283, 'county_based')"
     },
     "execution_count": 13,
     "metadata": {},
     "output_type": "execute_result"
    }
   ],
   "source": [
    "# Testing function for latitude and longitude retrieval\n",
    "lat_long_county_test = get_lat_long_county(\"Lancaster\")\n",
    "lat_long_county_test"
   ],
   "metadata": {
    "collapsed": false,
    "ExecuteTime": {
     "end_time": "2024-04-02T15:46:54.336825Z",
     "start_time": "2024-04-02T15:46:50.400481Z"
    }
   },
   "id": "afb2288bf3a0e8d4",
   "execution_count": 13
  },
  {
   "cell_type": "code",
   "outputs": [
    {
     "data": {
      "text/plain": "Processing:   0%|          | 0/40 [00:00<?, ?it/s]",
      "application/vnd.jupyter.widget-view+json": {
       "version_major": 2,
       "version_minor": 0,
       "model_id": "1d6a6658d6984fd5b27f5d56bc3e528e"
      }
     },
     "metadata": {},
     "output_type": "display_data"
    }
   ],
   "source": [
    "# Applying get_lat_long_county function\n",
    "columns = [\"latitude\", \"longitude\",\n",
    "           \"location_precision\", \"city\"]\n",
    "no_lat_long_prec_city = shooting_data[columns].isnull().all(axis=1)\n",
    "\n",
    "# Getting the total number of iterations\n",
    "total_iterations = len(shooting_data.loc[\n",
    "                    no_lat_long_prec_city, \"location_precision\"])\n",
    "\n",
    "# Apply the function with tqdm for progress bar\n",
    "with tqdm(total=total_iterations, desc=\"Processing\") as pbar:\n",
    "    def apply_with_progress(row):\n",
    "        global pbar\n",
    "        pbar.update(1)\n",
    "        return get_lat_long_county(row[\"county\"])\n",
    "\n",
    "    # Apply the function to each row in the DataFrame\n",
    "    shooting_data.loc[no_lat_long_prec_city,\n",
    "    \"Geopy_lat_long_county\"] = shooting_data.loc[\n",
    "        no_lat_long_prec_city].apply(\n",
    "        apply_with_progress, axis=1)"
   ],
   "metadata": {
    "collapsed": false,
    "ExecuteTime": {
     "end_time": "2024-04-02T15:48:08.934296Z",
     "start_time": "2024-04-02T15:46:54.335247Z"
    }
   },
   "id": "161c35aeb72b52ae",
   "execution_count": 14
  },
  {
   "cell_type": "code",
   "outputs": [],
   "source": [
    "# Filling missing values for latitude, longitude and location precision\n",
    "\n",
    "# Filling latitude feature fields\n",
    "shooting_data['latitude'] = shooting_data['Geopy_lat_long_county'].apply(\n",
    "    lambda x: x[0] if isinstance(x, tuple) else None).fillna(\n",
    "    shooting_data['latitude'])\n",
    "\n",
    "# Filling longitude feature fields\n",
    "shooting_data['longitude'] = shooting_data['Geopy_lat_long_county'].apply(\n",
    "    lambda x: x[1] if isinstance(x, tuple) else None).fillna(\n",
    "    shooting_data['longitude'])\n",
    "\n",
    "# Filling location_precision feature fields\n",
    "shooting_data['location_precision'] = shooting_data[\n",
    "    'Geopy_lat_long_county'].apply(\n",
    "    lambda x: x[2] if isinstance(x, tuple) else None).fillna(\n",
    "    shooting_data['location_precision'])"
   ],
   "metadata": {
    "collapsed": false,
    "ExecuteTime": {
     "end_time": "2024-04-02T15:48:08.960636Z",
     "start_time": "2024-04-02T15:48:08.944858Z"
    }
   },
   "id": "442862758d505ad4",
   "execution_count": 15
  },
  {
   "cell_type": "code",
   "outputs": [],
   "source": [
    "# Creating new feature for the county data retrieval\n",
    "shooting_data['City_State'] = (\n",
    "        shooting_data['city'] + ', ' + shooting_data['state'])"
   ],
   "metadata": {
    "collapsed": false,
    "ExecuteTime": {
     "end_time": "2024-04-02T15:48:08.986878Z",
     "start_time": "2024-04-02T15:48:08.960569Z"
    }
   },
   "id": "53010e185b99ca28",
   "execution_count": 16
  },
  {
   "cell_type": "code",
   "outputs": [],
   "source": [
    "# Defining the function to retrieve latitude and longitude using city\n",
    "def get_lat_long_city(city_state):\n",
    "    \"\"\"Function retrieves latitude and longitude.\n",
    "    Nominatim geolocator services are used.\n",
    "    City feature is used for retrieval.\"\"\"\n",
    "    geolocator = Nominatim(user_agent=\"DS_project\")\n",
    "    try:\n",
    "        time.sleep(1)  # Rate limits of the service\n",
    "\n",
    "        locat = geolocator.geocode(city_state, timeout=10)\n",
    "        if locat:\n",
    "            return locat.latitude, locat.longitude, \"city_based\"\n",
    "    except Exception as e:\n",
    "        error_message = (f\"Error getting latitude and \"\n",
    "                         f\"longitude for {city_state}: {e}\")\n",
    "        write_error_to_csv(error_message,\n",
    "                           \"/Users/agnekrupinskaite/PycharmProjects/\"\n",
    "                           \"agkrupi-DWWP.4.1/Error_logs\",\n",
    "                           \"error_log_get_lat_long_city.csv\")\n",
    "    return None"
   ],
   "metadata": {
    "collapsed": false,
    "ExecuteTime": {
     "end_time": "2024-04-02T15:48:08.994813Z",
     "start_time": "2024-04-02T15:48:08.966660Z"
    }
   },
   "id": "fcd988404ac316e4",
   "execution_count": 17
  },
  {
   "cell_type": "code",
   "outputs": [
    {
     "data": {
      "text/plain": "(34.0536909, -118.242766, 'city_based')"
     },
     "execution_count": 18,
     "metadata": {},
     "output_type": "execute_result"
    }
   ],
   "source": [
    "# Testing function for latitude and longitude retrieval\n",
    "lat_long_test = get_lat_long_city(\"Los Angeles\")\n",
    "lat_long_test"
   ],
   "metadata": {
    "collapsed": false,
    "ExecuteTime": {
     "end_time": "2024-04-02T15:48:12.460441Z",
     "start_time": "2024-04-02T15:48:08.972458Z"
    }
   },
   "id": "b74523f00d491675",
   "execution_count": 18
  },
  {
   "cell_type": "code",
   "outputs": [
    {
     "data": {
      "text/plain": "Empty DataFrame\nColumns: [date, threat_type, flee_status, armed_with, city, county, state, latitude, longitude, location_precision, name, age, gender, race, race_source, was_mental_illness_related, body_camera, agency_ids, Geopy_lat_long_county, City_State]\nIndex: []",
      "text/html": "<div>\n<style scoped>\n    .dataframe tbody tr th:only-of-type {\n        vertical-align: middle;\n    }\n\n    .dataframe tbody tr th {\n        vertical-align: top;\n    }\n\n    .dataframe thead th {\n        text-align: right;\n    }\n</style>\n<table border=\"1\" class=\"dataframe\">\n  <thead>\n    <tr style=\"text-align: right;\">\n      <th></th>\n      <th>date</th>\n      <th>threat_type</th>\n      <th>flee_status</th>\n      <th>armed_with</th>\n      <th>city</th>\n      <th>county</th>\n      <th>state</th>\n      <th>latitude</th>\n      <th>longitude</th>\n      <th>location_precision</th>\n      <th>name</th>\n      <th>age</th>\n      <th>gender</th>\n      <th>race</th>\n      <th>race_source</th>\n      <th>was_mental_illness_related</th>\n      <th>body_camera</th>\n      <th>agency_ids</th>\n      <th>Geopy_lat_long_county</th>\n      <th>City_State</th>\n    </tr>\n    <tr>\n      <th>id</th>\n      <th></th>\n      <th></th>\n      <th></th>\n      <th></th>\n      <th></th>\n      <th></th>\n      <th></th>\n      <th></th>\n      <th></th>\n      <th></th>\n      <th></th>\n      <th></th>\n      <th></th>\n      <th></th>\n      <th></th>\n      <th></th>\n      <th></th>\n      <th></th>\n      <th></th>\n      <th></th>\n    </tr>\n  </thead>\n  <tbody>\n  </tbody>\n</table>\n</div>"
     },
     "execution_count": 19,
     "metadata": {},
     "output_type": "execute_result"
    }
   ],
   "source": [
    "# Checking if there are rows missing latitude, longitude and city\n",
    "lat_long_city = ['latitude', 'longitude', \"city\"]\n",
    "no_lat_long_city = shooting_data[\n",
    "    shooting_data[lat_long_city].isnull().all(axis=1)]\n",
    "no_lat_long_city"
   ],
   "metadata": {
    "collapsed": false,
    "ExecuteTime": {
     "end_time": "2024-04-02T15:48:12.480686Z",
     "start_time": "2024-04-02T15:48:12.471428Z"
    }
   },
   "id": "47a6801c995e1b9f",
   "execution_count": 19
  },
  {
   "cell_type": "markdown",
   "source": [
    "Since there are no rows without city, latitude and longitude, city can be used to retrieve missing latitude and longitude values."
   ],
   "metadata": {
    "collapsed": false
   },
   "id": "57c5d596f38f4e37"
  },
  {
   "cell_type": "code",
   "outputs": [
    {
     "data": {
      "text/plain": "Processing:   0%|          | 0/994 [00:00<?, ?it/s]",
      "application/vnd.jupyter.widget-view+json": {
       "version_major": 2,
       "version_minor": 0,
       "model_id": "3ec4df8368a842cd872676719a5c742c"
      }
     },
     "metadata": {},
     "output_type": "display_data"
    }
   ],
   "source": [
    "# Applying get_lat_long_city function\n",
    "lat_long_loc_prec = [\"latitude\", \"longitude\", \"location_precision\"]\n",
    "no_lat_long_prec = shooting_data[lat_long_loc_prec].isnull().all(axis=1)\n",
    "\n",
    "# Getting the total number of iterations\n",
    "total_iterations = len(shooting_data.loc[\n",
    "                       no_lat_long_prec, \"location_precision\"])\n",
    "\n",
    "# Apply the function with tqdm for progress bar\n",
    "with tqdm(total=total_iterations, desc=\"Processing\") as pbar:\n",
    "    def apply_with_progress(row):\n",
    "        global pbar\n",
    "        pbar.update(1)\n",
    "        return get_lat_long_city(row['City_State'])\n",
    "\n",
    "    # Apply the function to each row in the DataFrame\n",
    "    shooting_data.loc[\n",
    "        no_lat_long_prec, \"Geopy_Lat_long\"\n",
    "    ] = shooting_data.loc[no_lat_long_prec].apply(\n",
    "        apply_with_progress, axis=1)"
   ],
   "metadata": {
    "collapsed": false,
    "ExecuteTime": {
     "end_time": "2024-04-02T16:11:41.023637Z",
     "start_time": "2024-04-02T15:48:12.483352Z"
    }
   },
   "id": "a4e8601739af009d",
   "execution_count": 20
  },
  {
   "cell_type": "code",
   "outputs": [
    {
     "data": {
      "text/plain": "     Geopy_Lat_long  latitude  longitude location_precision  \\\nid                                                            \n9236           None       NaN        NaN                NaN   \n9594           None       NaN        NaN                NaN   \n\n                                   city  \nid                                       \n9236  Tohono O'odham Nation Reservation  \n9594                       Bradfordtown  ",
      "text/html": "<div>\n<style scoped>\n    .dataframe tbody tr th:only-of-type {\n        vertical-align: middle;\n    }\n\n    .dataframe tbody tr th {\n        vertical-align: top;\n    }\n\n    .dataframe thead th {\n        text-align: right;\n    }\n</style>\n<table border=\"1\" class=\"dataframe\">\n  <thead>\n    <tr style=\"text-align: right;\">\n      <th></th>\n      <th>Geopy_Lat_long</th>\n      <th>latitude</th>\n      <th>longitude</th>\n      <th>location_precision</th>\n      <th>city</th>\n    </tr>\n    <tr>\n      <th>id</th>\n      <th></th>\n      <th></th>\n      <th></th>\n      <th></th>\n      <th></th>\n    </tr>\n  </thead>\n  <tbody>\n    <tr>\n      <th>9236</th>\n      <td>None</td>\n      <td>NaN</td>\n      <td>NaN</td>\n      <td>NaN</td>\n      <td>Tohono O'odham Nation Reservation</td>\n    </tr>\n    <tr>\n      <th>9594</th>\n      <td>None</td>\n      <td>NaN</td>\n      <td>NaN</td>\n      <td>NaN</td>\n      <td>Bradfordtown</td>\n    </tr>\n  </tbody>\n</table>\n</div>"
     },
     "execution_count": 21,
     "metadata": {},
     "output_type": "execute_result"
    }
   ],
   "source": [
    "# Checking rows that were not filled with the data by get_lat_long_city\n",
    "no_lat_long_prec = ((shooting_data[\"latitude\"].isnull()) &\n",
    "                    (shooting_data[\"longitude\"].isnull()) &\n",
    "                    (shooting_data[\"Geopy_Lat_long\"].isnull()))\n",
    "shooting_data[no_lat_long_prec][[\"Geopy_Lat_long\",\n",
    "                                 \"latitude\", \"longitude\",\n",
    "                                 \"location_precision\", \"city\"]]"
   ],
   "metadata": {
    "collapsed": false,
    "ExecuteTime": {
     "end_time": "2024-04-02T16:11:41.040388Z",
     "start_time": "2024-04-02T16:11:41.028217Z"
    }
   },
   "id": "66f82ccb1ccff240",
   "execution_count": 21
  },
  {
   "cell_type": "code",
   "outputs": [],
   "source": [
    "# Fixing rows 9236 and 9594 manually, data was not added by function\n",
    "\n",
    "# Observation 9236 fixes\n",
    "shooting_data.loc[9236, \"latitude\"] = 31.9887\n",
    "shooting_data.loc[9236, \"longitude\"] = 112.0476\n",
    "shooting_data.loc[9236, \"location_precision\"] = \"city_based\"\n",
    "\n",
    "# Observation 9594 fixes\n",
    "shooting_data.loc[9594, \"latitude\"] = 38.7851\n",
    "shooting_data.loc[9594, \"longitude\"] = 84.1455\n",
    "shooting_data.loc[9594, \"location_precision\"] = \"city_based\""
   ],
   "metadata": {
    "collapsed": false,
    "ExecuteTime": {
     "end_time": "2024-04-02T16:11:41.045689Z",
     "start_time": "2024-04-02T16:11:41.043324Z"
    }
   },
   "id": "32c32729581a68ee",
   "execution_count": 22
  },
  {
   "cell_type": "code",
   "outputs": [
    {
     "data": {
      "text/plain": "Empty DataFrame\nColumns: [latitude, longitude, Geopy_Lat_long, city, state]\nIndex: []",
      "text/html": "<div>\n<style scoped>\n    .dataframe tbody tr th:only-of-type {\n        vertical-align: middle;\n    }\n\n    .dataframe tbody tr th {\n        vertical-align: top;\n    }\n\n    .dataframe thead th {\n        text-align: right;\n    }\n</style>\n<table border=\"1\" class=\"dataframe\">\n  <thead>\n    <tr style=\"text-align: right;\">\n      <th></th>\n      <th>latitude</th>\n      <th>longitude</th>\n      <th>Geopy_Lat_long</th>\n      <th>city</th>\n      <th>state</th>\n    </tr>\n    <tr>\n      <th>id</th>\n      <th></th>\n      <th></th>\n      <th></th>\n      <th></th>\n      <th></th>\n    </tr>\n  </thead>\n  <tbody>\n  </tbody>\n</table>\n</div>"
     },
     "execution_count": 23,
     "metadata": {},
     "output_type": "execute_result"
    }
   ],
   "source": [
    "# Checking if there are no empty columns left\n",
    "no_geopy_lat_long = ((shooting_data[\"latitude\"].isnull()) &\n",
    "                     (shooting_data[\"longitude\"].isnull()) &\n",
    "                     (shooting_data[\"Geopy_Lat_long\"].isnull()))\n",
    "shooting_data[no_geopy_lat_long][[\"latitude\",\n",
    "                                  \"longitude\",\n",
    "                                  \"Geopy_Lat_long\",\n",
    "                                  \"city\", \"state\"]]"
   ],
   "metadata": {
    "collapsed": false,
    "ExecuteTime": {
     "end_time": "2024-04-02T16:11:41.077039Z",
     "start_time": "2024-04-02T16:11:41.047770Z"
    }
   },
   "id": "fa7faa2804911f65",
   "execution_count": 23
  },
  {
   "cell_type": "markdown",
   "source": [
    "All latitude and longitude features were retrieved."
   ],
   "metadata": {
    "collapsed": false
   },
   "id": "1e7c9bc8c310fe5a"
  },
  {
   "cell_type": "code",
   "outputs": [],
   "source": [
    "# Filling missing values for latitude, longitude and location precision\n",
    "\n",
    "# Filling latitude feature fields\n",
    "shooting_data['latitude'] = shooting_data['Geopy_Lat_long'].apply(\n",
    "    lambda x: x[0] if isinstance(x, tuple) else None).fillna(\n",
    "    shooting_data['latitude'])\n",
    "\n",
    "# Filling longitude feature fields\n",
    "shooting_data['longitude'] = shooting_data['Geopy_Lat_long'].apply(\n",
    "    lambda x: x[1] if isinstance(x, tuple) else None).fillna(\n",
    "    shooting_data['longitude'])\n",
    "\n",
    "# Filling location_precision feature fields\n",
    "shooting_data['location_precision'] = shooting_data[\n",
    "    'Geopy_Lat_long'].apply(\n",
    "    lambda x: x[2] if isinstance(x, tuple) else None).fillna(\n",
    "    shooting_data['location_precision'])"
   ],
   "metadata": {
    "collapsed": false,
    "ExecuteTime": {
     "end_time": "2024-04-02T16:11:41.080313Z",
     "start_time": "2024-04-02T16:11:41.057561Z"
    }
   },
   "id": "aeff6c691d030a51",
   "execution_count": 24
  },
  {
   "cell_type": "code",
   "outputs": [
    {
     "name": "stdout",
     "output_type": "stream",
     "text": [
      "Amount of null values in latitude feature is 0.\n",
      "Amount of null values in longitude feature is 0.\n",
      "Amount of null values in location_precision feature is 0.\n"
     ]
    }
   ],
   "source": [
    "# Checking if there are any latitude and longitude null values left\n",
    "latitude_nulls = shooting_data.latitude.isnull().sum()\n",
    "longitude_nulls = shooting_data.longitude.isnull().sum()\n",
    "loc_prec_nulls = shooting_data.location_precision.isnull().sum()\n",
    "\n",
    "print(f\"Amount of null values in latitude feature is \"\n",
    "      f\"{latitude_nulls}.\")\n",
    "print(f\"Amount of null values in longitude feature is \"\n",
    "      f\"{longitude_nulls}.\")\n",
    "print(f\"Amount of null values in location_precision feature is \"\n",
    "      f\"{loc_prec_nulls}.\")"
   ],
   "metadata": {
    "collapsed": false,
    "ExecuteTime": {
     "end_time": "2024-04-02T16:11:41.122053Z",
     "start_time": "2024-04-02T16:11:41.071911Z"
    }
   },
   "id": "23869968256da96f",
   "execution_count": 25
  },
  {
   "cell_type": "markdown",
   "source": [
    "### Retrieving city values\n",
    "- City values are retrieved using latitude and longitude features. "
   ],
   "metadata": {
    "collapsed": false
   },
   "id": "3537fb108badb59f"
  },
  {
   "cell_type": "code",
   "outputs": [],
   "source": [
    "# Function to retrieve the city value using latitude and longitude\n",
    "def get_city(latitudes, longitudes):\n",
    "    \"\"\"Function retrieves city name using latitude and longitude.\n",
    "    Nominatim geolocator services are used.\"\"\"\n",
    "    geolocator = Nominatim(user_agent=\"DS_project\")\n",
    "    try:\n",
    "        time.sleep(1)  # Rate limits of the service\n",
    "\n",
    "        locate = geolocator.reverse((latitudes, longitudes),\n",
    "                                    language=\"en\", timeout=10)\n",
    "        if locate:\n",
    "            return locate.raw['address'][\"city\"]\n",
    "    except Exception as e:\n",
    "        error_message = (f\"Error getting city\"\n",
    "                         f\" for: {latitudes, longitudes}: {e}\")\n",
    "        write_error_to_csv(error_message,\n",
    "                           \"/Users/agnekrupinskaite/PycharmProjects/\"\n",
    "                           \"agkrupi-DWWP.4.1/Error_logs\",\n",
    "                           \"error_log_get_city.csv\")\n",
    "    return None"
   ],
   "metadata": {
    "collapsed": false,
    "ExecuteTime": {
     "end_time": "2024-04-02T16:11:41.122970Z",
     "start_time": "2024-04-02T16:11:41.081641Z"
    }
   },
   "id": "413214861afa0ee4",
   "execution_count": 26
  },
  {
   "cell_type": "code",
   "outputs": [
    {
     "data": {
      "text/plain": "'London'"
     },
     "execution_count": 27,
     "metadata": {},
     "output_type": "execute_result"
    }
   ],
   "source": [
    "# Testing if the function get_city works\n",
    "get_city(51.5074, 0.1278)"
   ],
   "metadata": {
    "collapsed": false,
    "ExecuteTime": {
     "end_time": "2024-04-02T16:11:42.406449Z",
     "start_time": "2024-04-02T16:11:41.086623Z"
    }
   },
   "id": "416ea261e0ac377b",
   "execution_count": 27
  },
  {
   "cell_type": "code",
   "outputs": [
    {
     "data": {
      "text/plain": "     city location_precision   latitude   longitude\nid                                                 \n6929  NaN       county_based  30.764283  -94.819217\n8701  NaN               road  39.647063  -75.746409\n8738  NaN          poi_large  37.838460  -79.379860\n8746  NaN       county_based  35.660887  -82.048217\n8755  NaN       county_based  37.870839 -122.272863",
      "text/html": "<div>\n<style scoped>\n    .dataframe tbody tr th:only-of-type {\n        vertical-align: middle;\n    }\n\n    .dataframe tbody tr th {\n        vertical-align: top;\n    }\n\n    .dataframe thead th {\n        text-align: right;\n    }\n</style>\n<table border=\"1\" class=\"dataframe\">\n  <thead>\n    <tr style=\"text-align: right;\">\n      <th></th>\n      <th>city</th>\n      <th>location_precision</th>\n      <th>latitude</th>\n      <th>longitude</th>\n    </tr>\n    <tr>\n      <th>id</th>\n      <th></th>\n      <th></th>\n      <th></th>\n      <th></th>\n    </tr>\n  </thead>\n  <tbody>\n    <tr>\n      <th>6929</th>\n      <td>NaN</td>\n      <td>county_based</td>\n      <td>30.764283</td>\n      <td>-94.819217</td>\n    </tr>\n    <tr>\n      <th>8701</th>\n      <td>NaN</td>\n      <td>road</td>\n      <td>39.647063</td>\n      <td>-75.746409</td>\n    </tr>\n    <tr>\n      <th>8738</th>\n      <td>NaN</td>\n      <td>poi_large</td>\n      <td>37.838460</td>\n      <td>-79.379860</td>\n    </tr>\n    <tr>\n      <th>8746</th>\n      <td>NaN</td>\n      <td>county_based</td>\n      <td>35.660887</td>\n      <td>-82.048217</td>\n    </tr>\n    <tr>\n      <th>8755</th>\n      <td>NaN</td>\n      <td>county_based</td>\n      <td>37.870839</td>\n      <td>-122.272863</td>\n    </tr>\n  </tbody>\n</table>\n</div>"
     },
     "execution_count": 28,
     "metadata": {},
     "output_type": "execute_result"
    }
   ],
   "source": [
    "# Filtering the dataframe to identify cities to impute\n",
    "no_city = shooting_data.city.isna()\n",
    "shooting_data[no_city][[\"city\",\n",
    "                        \"location_precision\",\n",
    "                        \"latitude\",\n",
    "                        \"longitude\"]].head()"
   ],
   "metadata": {
    "collapsed": false,
    "ExecuteTime": {
     "end_time": "2024-04-02T16:11:42.434219Z",
     "start_time": "2024-04-02T16:11:42.418685Z"
    }
   },
   "id": "1251cb693d1ce988",
   "execution_count": 28
  },
  {
   "cell_type": "code",
   "outputs": [
    {
     "data": {
      "text/plain": "Processing:   0%|          | 0/71 [00:00<?, ?it/s]",
      "application/vnd.jupyter.widget-view+json": {
       "version_major": 2,
       "version_minor": 0,
       "model_id": "82ee3809ad9940508b6d11864edc5888"
      }
     },
     "metadata": {},
     "output_type": "display_data"
    }
   ],
   "source": [
    "# Apply get_city function to impute missing city values\n",
    "lat_long = shooting_data.loc[\n",
    "    no_city, [\"latitude\", \"longitude\"]]\n",
    "\n",
    "# Applying get_lat_long function\n",
    "lat_long_loc_prec = [\"latitude\", \"longitude\", \"location_precision\"]\n",
    "no_lat_long_prec = shooting_data[lat_long_loc_prec].isnull().all(axis=1)\n",
    "\n",
    "# Getting the total number of iterations\n",
    "total_iterations = len(shooting_data.loc[\n",
    "    no_city, [\"latitude\"]])\n",
    "\n",
    "# Apply the function with tqdm for progress bar\n",
    "with tqdm(total=total_iterations, desc=\"Processing\") as pbar:\n",
    "    def apply_with_progress(row):\n",
    "        global pbar\n",
    "        pbar.update(1)\n",
    "        return get_city(row[\"latitude\"], row[\"longitude\"])\n",
    "\n",
    "    # Apply the function to each row in the DataFrame\n",
    "    shooting_data.loc[no_city, \"Geopy_City\"\n",
    "    ] = lat_long.apply(apply_with_progress, axis=1)"
   ],
   "metadata": {
    "collapsed": false,
    "ExecuteTime": {
     "end_time": "2024-04-02T16:13:18.589930Z",
     "start_time": "2024-04-02T16:11:42.429421Z"
    }
   },
   "id": "5675589c0499e2b9",
   "execution_count": 29
  },
  {
   "cell_type": "code",
   "outputs": [
    {
     "data": {
      "text/plain": "     city Geopy_City   latitude  longitude\nid                                        \n6929  NaN       None  30.764283 -94.819217\n8701  NaN       None  39.647063 -75.746409\n8738  NaN       None  37.838460 -79.379860\n8746  NaN       None  35.660887 -82.048217\n8759  NaN       None  41.206668 -91.268398",
      "text/html": "<div>\n<style scoped>\n    .dataframe tbody tr th:only-of-type {\n        vertical-align: middle;\n    }\n\n    .dataframe tbody tr th {\n        vertical-align: top;\n    }\n\n    .dataframe thead th {\n        text-align: right;\n    }\n</style>\n<table border=\"1\" class=\"dataframe\">\n  <thead>\n    <tr style=\"text-align: right;\">\n      <th></th>\n      <th>city</th>\n      <th>Geopy_City</th>\n      <th>latitude</th>\n      <th>longitude</th>\n    </tr>\n    <tr>\n      <th>id</th>\n      <th></th>\n      <th></th>\n      <th></th>\n      <th></th>\n    </tr>\n  </thead>\n  <tbody>\n    <tr>\n      <th>6929</th>\n      <td>NaN</td>\n      <td>None</td>\n      <td>30.764283</td>\n      <td>-94.819217</td>\n    </tr>\n    <tr>\n      <th>8701</th>\n      <td>NaN</td>\n      <td>None</td>\n      <td>39.647063</td>\n      <td>-75.746409</td>\n    </tr>\n    <tr>\n      <th>8738</th>\n      <td>NaN</td>\n      <td>None</td>\n      <td>37.838460</td>\n      <td>-79.379860</td>\n    </tr>\n    <tr>\n      <th>8746</th>\n      <td>NaN</td>\n      <td>None</td>\n      <td>35.660887</td>\n      <td>-82.048217</td>\n    </tr>\n    <tr>\n      <th>8759</th>\n      <td>NaN</td>\n      <td>None</td>\n      <td>41.206668</td>\n      <td>-91.268398</td>\n    </tr>\n  </tbody>\n</table>\n</div>"
     },
     "execution_count": 30,
     "metadata": {},
     "output_type": "execute_result"
    }
   ],
   "source": [
    "# Observations, that do not have city, latitude and longitude\n",
    "city_geopy_city = ['city', 'Geopy_City']\n",
    "no_city_retrieved = shooting_data[\n",
    "    city_geopy_city].isnull().all(axis=1)\n",
    "shooting_data[no_city_retrieved][[\"city\",\n",
    "                                  \"Geopy_City\",\n",
    "                                  \"latitude\",\n",
    "                                  \"longitude\"]].head()"
   ],
   "metadata": {
    "collapsed": false,
    "ExecuteTime": {
     "end_time": "2024-04-02T16:13:18.630678Z",
     "start_time": "2024-04-02T16:13:18.602010Z"
    }
   },
   "id": "3304e1b652b217a9",
   "execution_count": 30
  },
  {
   "cell_type": "code",
   "outputs": [
    {
     "data": {
      "text/plain": "56"
     },
     "execution_count": 31,
     "metadata": {},
     "output_type": "execute_result"
    }
   ],
   "source": [
    "# Counting how many city values were not retrieved\n",
    "shooting_data[city_geopy_city].isnull().all(axis=1).sum()"
   ],
   "metadata": {
    "collapsed": false,
    "ExecuteTime": {
     "end_time": "2024-04-02T16:13:18.632630Z",
     "start_time": "2024-04-02T16:13:18.619877Z"
    }
   },
   "id": "c41eb6a4305b73b6",
   "execution_count": 31
  },
  {
   "cell_type": "markdown",
   "source": [
    "Since city values were not retrieved, these location coordinates need to be evaluated. Full address will be retrieved to analyze these locations."
   ],
   "metadata": {
    "collapsed": false
   },
   "id": "d1bad0657f5ef0f9"
  },
  {
   "cell_type": "code",
   "outputs": [],
   "source": [
    "# Function to retrieve full address from latitude and longitude\n",
    "def get_address(latitudes, longitudes):\n",
    "    \"\"\"Retrieves full address from latitudes and longitudes.\n",
    "    Uses Nominatim geolocator.\"\"\"\n",
    "    geolocator = Nominatim(user_agent=\"DS_project\")\n",
    "    try:\n",
    "        time.sleep(1)  # Rate limits of the service\n",
    "        locate = geolocator.reverse((latitudes, longitudes),\n",
    "                                    language=\"en\", timeout=10)\n",
    "        if locate:\n",
    "            return locate.raw['address']\n",
    "    except Exception as e:\n",
    "        error_message = (f\"Error getting address \"\n",
    "                         f\"for: {latitudes, longitudes}: {e}\")\n",
    "        write_error_to_csv(error_message,\n",
    "                           \"/Users/agnekrupinskaite/PycharmProjects/\"\n",
    "                           \"agkrupi-DWWP.4.1/Error_logs\",\n",
    "                           \"error_log_get_address.csv\")\n",
    "    return None"
   ],
   "metadata": {
    "collapsed": false,
    "ExecuteTime": {
     "end_time": "2024-04-02T16:13:18.634957Z",
     "start_time": "2024-04-02T16:13:18.625290Z"
    }
   },
   "id": "bd48255271826b36",
   "execution_count": 32
  },
  {
   "cell_type": "code",
   "outputs": [
    {
     "data": {
      "text/plain": "{'road': 'Delaware Turnpike',\n 'hamlet': 'Catalina Gardens',\n 'town': 'Brookside',\n 'county': 'New Castle County',\n 'state': 'Delaware',\n 'ISO3166-2-lvl4': 'US-DE',\n 'postcode': '19713',\n 'country': 'United States',\n 'country_code': 'us'}"
     },
     "execution_count": 33,
     "metadata": {},
     "output_type": "execute_result"
    }
   ],
   "source": [
    "# Testing get_address function works\n",
    "get_address(39.647063, -75.746409)"
   ],
   "metadata": {
    "collapsed": false,
    "ExecuteTime": {
     "end_time": "2024-04-02T16:13:19.966619Z",
     "start_time": "2024-04-02T16:13:18.627770Z"
    }
   },
   "id": "2a042a45a7f2448a",
   "execution_count": 33
  },
  {
   "cell_type": "code",
   "outputs": [
    {
     "data": {
      "text/plain": "Processing:   0%|          | 0/56 [00:00<?, ?it/s]",
      "application/vnd.jupyter.widget-view+json": {
       "version_major": 2,
       "version_minor": 0,
       "model_id": "be15d49ae7db4fcebcb685d9704fac96"
      }
     },
     "metadata": {},
     "output_type": "display_data"
    }
   ],
   "source": [
    "# Applying get_address function\n",
    "no_city_retrieved = (shooting_data['city'].isna() &\n",
    "                     shooting_data['Geopy_City'].isna())\n",
    "\n",
    "# Getting the total number of iterations\n",
    "total_iterations = len(shooting_data.loc[\n",
    "                            no_city_retrieved,\n",
    "                            \"Geopy_City\"])\n",
    "\n",
    "# Apply the function with tqdm for progress bar\n",
    "with tqdm(total=total_iterations, desc=\"Processing\") as pbar:\n",
    "    def apply_with_progress(row):\n",
    "        global pbar\n",
    "        pbar.update(1)\n",
    "        return get_address(row[\"latitude\"], row[\"longitude\"])\n",
    "\n",
    "    # Apply the function to each row in the DataFrame\n",
    "    shooting_data.loc[no_city_retrieved,\n",
    "    \"Geopy_Address\"] = shooting_data.loc[\n",
    "        no_city_retrieved].apply(apply_with_progress, axis=1)"
   ],
   "metadata": {
    "collapsed": false,
    "ExecuteTime": {
     "end_time": "2024-04-02T16:14:36.143327Z",
     "start_time": "2024-04-02T16:13:19.978213Z"
    }
   },
   "id": "84c72b352d5c925c",
   "execution_count": 34
  },
  {
   "cell_type": "code",
   "outputs": [
    {
     "data": {
      "text/plain": "0"
     },
     "execution_count": 35,
     "metadata": {},
     "output_type": "execute_result"
    }
   ],
   "source": [
    "# Checking if any addresses were not retrieved\n",
    "not_retrieved_address = (shooting_data['city'].isna() &\n",
    "                         shooting_data['Geopy_City'].isna() &\n",
    "                         shooting_data['Geopy_Address'\n",
    "                         ].isna()).any().sum()\n",
    "not_retrieved_address"
   ],
   "metadata": {
    "collapsed": false,
    "ExecuteTime": {
     "end_time": "2024-04-02T16:14:36.160413Z",
     "start_time": "2024-04-02T16:14:36.151869Z"
    }
   },
   "id": "f176298a06f77e3b",
   "execution_count": 35
  },
  {
   "cell_type": "markdown",
   "source": [
    "Addresses were retrieved for observations which city could not be retrieved using get_city function. After evaluation it seems that these are non-city areas such as roads and towns. In the city feature these values will be filled with the string \"non_city\""
   ],
   "metadata": {
    "collapsed": false
   },
   "id": "269690896598f99f"
  },
  {
   "cell_type": "code",
   "outputs": [
    {
     "data": {
      "text/plain": "                                          Geopy_Address location_precision  \\\nid                                                                           \n6929  {'county': 'Polk County', 'state': 'Texas', 'I...       county_based   \n8701  {'road': 'Delaware Turnpike', 'hamlet': 'Catal...               road   \n8738  {'house_number': '208', 'road': 'Lee Hi Acres'...          poi_large   \n8746  {'road': 'Worley Road', 'county': 'McDowell Co...       county_based   \n8759  {'road': '100th Street', 'county': 'Louisa Cou...       county_based   \n8816  {'house_number': '498', 'road': 'East Randolph...       county_based   \n8833  {'house_number': '13101', 'road': 'Spunky Cany...       intersection   \n8841  {'road': 'Zodiac Cove', 'county': 'Faulkner Co...       county_based   \n8861  {'road': 'Zion-Shiloh Road', 'county': 'Lamar ...       intersection   \n8988  {'house_number': '3810', 'road': 'Lake Pointe ...       county_based   \n8965  {'house_number': '49', 'road': 'Bethel Road', ...       county_based   \n9030  {'house_number': '5303', 'road': 'Raleigh Road...       county_based   \n9073  {'county': 'Edmonson County', 'state': 'Kentuc...       county_based   \n9069  {'house_number': '10098', 'road': 'Fairground ...       intersection   \n9108  {'house_number': '2700', 'road': 'Siesta Lane'...       county_based   \n9094  {'house_number': '17505', 'road': 'AL 41', 'co...       intersection   \n9096  {'road': 'South Pleasant Valley Road', 'county...       county_based   \n9113  {'town': 'Viera', 'county': 'Brevard County', ...       county_based   \n9133  {'house_number': '15398', 'road': 'Poor House ...              block   \n9148  {'county': 'Polk County', 'state': 'Texas', 'I...       county_based   \n9158  {'shop': 'WinCo Foods', 'house_number': '11250...              block   \n9178  {'road': 'Road 33', 'county': 'Glenn County', ...       intersection   \n9181  {'road': 'Henry Cochran Road', 'hamlet': 'Cent...       county_based   \n9206  {'county': 'Okmulgee County', 'state': 'Oklaho...       intersection   \n9209  {'county': 'Jefferson County', 'state': 'Texas...       county_based   \n9227  {'house_number': '17338', 'road': 'Lamey Bridg...       intersection   \n9245  {'county': 'Cocke County', 'region': 'East Ten...       county_based   \n9270  {'house_number': '187', 'road': 'Ware Road', '...       intersection   \n9300  {'road': 'TX 21', 'county': 'Lee County', 'sta...       county_based   \n9302  {'house_number': '257', 'road': 'Mollie Drive'...       county_based   \n9301  {'road': 'Melville Street', 'village': 'Dadevi...              block   \n9296  {'house_number': '100', 'road': 'Mears Lane', ...       intersection   \n9351  {'road': 'North 1050th Street', 'county': 'Eff...       county_based   \n9345  {'house_number': '1499', 'road': 'County Road ...              block   \n9372  {'house_number': '4400', 'road': 'Burkesville ...       intersection   \n9379  {'amenity': 'McDonald's', 'house_number': '835...       intersection   \n9377  {'house_number': '8635', 'road': 'NC 87', 'vil...       county_based   \n9403  {'road': 'KY 505', 'county': 'Ohio County', 's...              block   \n9412  {'house_number': '33998', 'road': 'Colon Road'...       intersection   \n9469  {'county': 'Monterey County', 'state': 'Califo...       county_based   \n9450  {'road': 'MO 92', 'county': 'Platte County', '...       intersection   \n9497  {'house_number': '601', 'road': 'Pumpkintown R...       intersection   \n9755  {'road': 'County Road 374', 'county': 'Cross C...       county_based   \n9521  {'house_number': '2574', 'road': 'Lutz Road', ...       county_based   \n9524  {'road': 'West Lewiston Road', 'county': 'Utah...          poi_large   \n9535  {'road': 'Lrc Road', 'hamlet': 'Wartburg', 'co...       county_based   \n9546  {'house_number': '2635', 'road': 'Benson Poole...       intersection   \n9852  {'road': 'Cassin Ridge Route', 'county': 'Dena...       county_based   \n9643  {'road': 'Alvies Bench Road', 'county': 'Wasat...       county_based   \n9837  {'house_number': '470', 'road': 'Tweedy Road',...       intersection   \n9833  {'road': 'Veterans Drive', 'town': 'Harrisburg...       county_based   \n9894  {'road': 'Harris Road', 'county': 'Marion Coun...       county_based   \n9870  {'road': 'North Riverside Avenue', 'town': 'St...       county_based   \n9969  {'road': 'County Road 126', 'county': 'Gaines ...               road   \n9924  {'road': 'Richmond Highway', 'town': 'Stafford...              block   \n9968  {'house_number': '61', 'road': 'Leona Drive', ...            address   \n\n       latitude   longitude       county  \nid                                        \n6929  30.764283  -94.819217         Polk  \n8701  39.647063  -75.746409   New Castle  \n8738  37.838460  -79.379860   Rockbridge  \n8746  35.660887  -82.048217     McDowell  \n8759  41.206668  -91.268398       Louisa  \n8816  38.077286  -89.376050        Perry  \n8833  34.584364 -118.358742  Los Angeles  \n8841  35.147085  -92.321905     Faulkner  \n8861  33.679264  -88.157733        Lamar  \n8988  35.848570  -84.522552        Roane  \n8965  36.625794  -88.271076     Calloway  \n9030  37.513119  -77.346508      Henrico  \n9073  37.199918  -86.220674     Edmonson  \n9069  38.415264  -92.888637       Morgan  \n9108  32.328170 -106.849423     Dona Ana  \n9094  31.185630  -87.172350     Escambia  \n9096  43.413654 -116.236742          Ada  \n9113  28.210020  -80.799718      Brevard  \n9133  37.295136  -77.958286       Amelia  \n9148  30.764283  -94.819217         Polk  \n9158  45.443977 -122.577711    Clackamas  \n9178  39.624285 -122.205214        Glenn  \n9181  30.857421  -88.653712       George  \n9206  35.624480  -95.924029     Okmulgee  \n9209  29.834772  -94.170450    Jefferson  \n9227  30.521480  -88.975135     Harrison  \n9245  35.946709  -83.103978        Cocke  \n9270  32.390912  -85.075635      Russell  \n9300  30.303135  -96.958859          Lee  \n9302  35.166337  -88.576617      McNairy  \n9301  37.473448  -93.669749         Dade  \n9296  33.866426  -82.307451    McCormick  \n9351  39.052090  -88.602901    Effingham  \n9345  40.087379  -88.033432    Champaign  \n9372  36.765471  -85.207448      Clinton  \n9379  33.543490  -84.282393      Clayton  \n9377  36.392680  -79.744144   Rockingham  \n9403  37.481074  -86.690539         Ohio  \n9412  41.948376  -85.292650       Branch  \n9469  36.223108 -121.387742     Monterey  \n9450  39.331610  -94.897327       Platte  \n9497  35.018487  -82.572724      Pickens  \n9755  35.300122  -90.775018        Cross  \n9521  40.807780  -84.057222        Allen  \n9524  40.279424 -112.149175         Utah  \n9535  38.272231  -90.179248       Monroe  \n9546  33.889616  -84.546575         Cobb  \n9852  63.069115 -151.006239       Denali  \n9643  40.334834 -111.118699      Wasatch  \n9837  35.187058  -91.877528        White  \n9833  37.750075  -88.530258       Saline  \n9894  32.793166  -94.344488       Marion  \n9870  41.913981  -88.312818  St. Charles  \n9969  32.900944 -102.504833       Gaines  \n9924  38.442051  -77.402552     Stafford  \n9968  39.843062 -104.987978        Adams  ",
      "text/html": "<div>\n<style scoped>\n    .dataframe tbody tr th:only-of-type {\n        vertical-align: middle;\n    }\n\n    .dataframe tbody tr th {\n        vertical-align: top;\n    }\n\n    .dataframe thead th {\n        text-align: right;\n    }\n</style>\n<table border=\"1\" class=\"dataframe\">\n  <thead>\n    <tr style=\"text-align: right;\">\n      <th></th>\n      <th>Geopy_Address</th>\n      <th>location_precision</th>\n      <th>latitude</th>\n      <th>longitude</th>\n      <th>county</th>\n    </tr>\n    <tr>\n      <th>id</th>\n      <th></th>\n      <th></th>\n      <th></th>\n      <th></th>\n      <th></th>\n    </tr>\n  </thead>\n  <tbody>\n    <tr>\n      <th>6929</th>\n      <td>{'county': 'Polk County', 'state': 'Texas', 'I...</td>\n      <td>county_based</td>\n      <td>30.764283</td>\n      <td>-94.819217</td>\n      <td>Polk</td>\n    </tr>\n    <tr>\n      <th>8701</th>\n      <td>{'road': 'Delaware Turnpike', 'hamlet': 'Catal...</td>\n      <td>road</td>\n      <td>39.647063</td>\n      <td>-75.746409</td>\n      <td>New Castle</td>\n    </tr>\n    <tr>\n      <th>8738</th>\n      <td>{'house_number': '208', 'road': 'Lee Hi Acres'...</td>\n      <td>poi_large</td>\n      <td>37.838460</td>\n      <td>-79.379860</td>\n      <td>Rockbridge</td>\n    </tr>\n    <tr>\n      <th>8746</th>\n      <td>{'road': 'Worley Road', 'county': 'McDowell Co...</td>\n      <td>county_based</td>\n      <td>35.660887</td>\n      <td>-82.048217</td>\n      <td>McDowell</td>\n    </tr>\n    <tr>\n      <th>8759</th>\n      <td>{'road': '100th Street', 'county': 'Louisa Cou...</td>\n      <td>county_based</td>\n      <td>41.206668</td>\n      <td>-91.268398</td>\n      <td>Louisa</td>\n    </tr>\n    <tr>\n      <th>8816</th>\n      <td>{'house_number': '498', 'road': 'East Randolph...</td>\n      <td>county_based</td>\n      <td>38.077286</td>\n      <td>-89.376050</td>\n      <td>Perry</td>\n    </tr>\n    <tr>\n      <th>8833</th>\n      <td>{'house_number': '13101', 'road': 'Spunky Cany...</td>\n      <td>intersection</td>\n      <td>34.584364</td>\n      <td>-118.358742</td>\n      <td>Los Angeles</td>\n    </tr>\n    <tr>\n      <th>8841</th>\n      <td>{'road': 'Zodiac Cove', 'county': 'Faulkner Co...</td>\n      <td>county_based</td>\n      <td>35.147085</td>\n      <td>-92.321905</td>\n      <td>Faulkner</td>\n    </tr>\n    <tr>\n      <th>8861</th>\n      <td>{'road': 'Zion-Shiloh Road', 'county': 'Lamar ...</td>\n      <td>intersection</td>\n      <td>33.679264</td>\n      <td>-88.157733</td>\n      <td>Lamar</td>\n    </tr>\n    <tr>\n      <th>8988</th>\n      <td>{'house_number': '3810', 'road': 'Lake Pointe ...</td>\n      <td>county_based</td>\n      <td>35.848570</td>\n      <td>-84.522552</td>\n      <td>Roane</td>\n    </tr>\n    <tr>\n      <th>8965</th>\n      <td>{'house_number': '49', 'road': 'Bethel Road', ...</td>\n      <td>county_based</td>\n      <td>36.625794</td>\n      <td>-88.271076</td>\n      <td>Calloway</td>\n    </tr>\n    <tr>\n      <th>9030</th>\n      <td>{'house_number': '5303', 'road': 'Raleigh Road...</td>\n      <td>county_based</td>\n      <td>37.513119</td>\n      <td>-77.346508</td>\n      <td>Henrico</td>\n    </tr>\n    <tr>\n      <th>9073</th>\n      <td>{'county': 'Edmonson County', 'state': 'Kentuc...</td>\n      <td>county_based</td>\n      <td>37.199918</td>\n      <td>-86.220674</td>\n      <td>Edmonson</td>\n    </tr>\n    <tr>\n      <th>9069</th>\n      <td>{'house_number': '10098', 'road': 'Fairground ...</td>\n      <td>intersection</td>\n      <td>38.415264</td>\n      <td>-92.888637</td>\n      <td>Morgan</td>\n    </tr>\n    <tr>\n      <th>9108</th>\n      <td>{'house_number': '2700', 'road': 'Siesta Lane'...</td>\n      <td>county_based</td>\n      <td>32.328170</td>\n      <td>-106.849423</td>\n      <td>Dona Ana</td>\n    </tr>\n    <tr>\n      <th>9094</th>\n      <td>{'house_number': '17505', 'road': 'AL 41', 'co...</td>\n      <td>intersection</td>\n      <td>31.185630</td>\n      <td>-87.172350</td>\n      <td>Escambia</td>\n    </tr>\n    <tr>\n      <th>9096</th>\n      <td>{'road': 'South Pleasant Valley Road', 'county...</td>\n      <td>county_based</td>\n      <td>43.413654</td>\n      <td>-116.236742</td>\n      <td>Ada</td>\n    </tr>\n    <tr>\n      <th>9113</th>\n      <td>{'town': 'Viera', 'county': 'Brevard County', ...</td>\n      <td>county_based</td>\n      <td>28.210020</td>\n      <td>-80.799718</td>\n      <td>Brevard</td>\n    </tr>\n    <tr>\n      <th>9133</th>\n      <td>{'house_number': '15398', 'road': 'Poor House ...</td>\n      <td>block</td>\n      <td>37.295136</td>\n      <td>-77.958286</td>\n      <td>Amelia</td>\n    </tr>\n    <tr>\n      <th>9148</th>\n      <td>{'county': 'Polk County', 'state': 'Texas', 'I...</td>\n      <td>county_based</td>\n      <td>30.764283</td>\n      <td>-94.819217</td>\n      <td>Polk</td>\n    </tr>\n    <tr>\n      <th>9158</th>\n      <td>{'shop': 'WinCo Foods', 'house_number': '11250...</td>\n      <td>block</td>\n      <td>45.443977</td>\n      <td>-122.577711</td>\n      <td>Clackamas</td>\n    </tr>\n    <tr>\n      <th>9178</th>\n      <td>{'road': 'Road 33', 'county': 'Glenn County', ...</td>\n      <td>intersection</td>\n      <td>39.624285</td>\n      <td>-122.205214</td>\n      <td>Glenn</td>\n    </tr>\n    <tr>\n      <th>9181</th>\n      <td>{'road': 'Henry Cochran Road', 'hamlet': 'Cent...</td>\n      <td>county_based</td>\n      <td>30.857421</td>\n      <td>-88.653712</td>\n      <td>George</td>\n    </tr>\n    <tr>\n      <th>9206</th>\n      <td>{'county': 'Okmulgee County', 'state': 'Oklaho...</td>\n      <td>intersection</td>\n      <td>35.624480</td>\n      <td>-95.924029</td>\n      <td>Okmulgee</td>\n    </tr>\n    <tr>\n      <th>9209</th>\n      <td>{'county': 'Jefferson County', 'state': 'Texas...</td>\n      <td>county_based</td>\n      <td>29.834772</td>\n      <td>-94.170450</td>\n      <td>Jefferson</td>\n    </tr>\n    <tr>\n      <th>9227</th>\n      <td>{'house_number': '17338', 'road': 'Lamey Bridg...</td>\n      <td>intersection</td>\n      <td>30.521480</td>\n      <td>-88.975135</td>\n      <td>Harrison</td>\n    </tr>\n    <tr>\n      <th>9245</th>\n      <td>{'county': 'Cocke County', 'region': 'East Ten...</td>\n      <td>county_based</td>\n      <td>35.946709</td>\n      <td>-83.103978</td>\n      <td>Cocke</td>\n    </tr>\n    <tr>\n      <th>9270</th>\n      <td>{'house_number': '187', 'road': 'Ware Road', '...</td>\n      <td>intersection</td>\n      <td>32.390912</td>\n      <td>-85.075635</td>\n      <td>Russell</td>\n    </tr>\n    <tr>\n      <th>9300</th>\n      <td>{'road': 'TX 21', 'county': 'Lee County', 'sta...</td>\n      <td>county_based</td>\n      <td>30.303135</td>\n      <td>-96.958859</td>\n      <td>Lee</td>\n    </tr>\n    <tr>\n      <th>9302</th>\n      <td>{'house_number': '257', 'road': 'Mollie Drive'...</td>\n      <td>county_based</td>\n      <td>35.166337</td>\n      <td>-88.576617</td>\n      <td>McNairy</td>\n    </tr>\n    <tr>\n      <th>9301</th>\n      <td>{'road': 'Melville Street', 'village': 'Dadevi...</td>\n      <td>block</td>\n      <td>37.473448</td>\n      <td>-93.669749</td>\n      <td>Dade</td>\n    </tr>\n    <tr>\n      <th>9296</th>\n      <td>{'house_number': '100', 'road': 'Mears Lane', ...</td>\n      <td>intersection</td>\n      <td>33.866426</td>\n      <td>-82.307451</td>\n      <td>McCormick</td>\n    </tr>\n    <tr>\n      <th>9351</th>\n      <td>{'road': 'North 1050th Street', 'county': 'Eff...</td>\n      <td>county_based</td>\n      <td>39.052090</td>\n      <td>-88.602901</td>\n      <td>Effingham</td>\n    </tr>\n    <tr>\n      <th>9345</th>\n      <td>{'house_number': '1499', 'road': 'County Road ...</td>\n      <td>block</td>\n      <td>40.087379</td>\n      <td>-88.033432</td>\n      <td>Champaign</td>\n    </tr>\n    <tr>\n      <th>9372</th>\n      <td>{'house_number': '4400', 'road': 'Burkesville ...</td>\n      <td>intersection</td>\n      <td>36.765471</td>\n      <td>-85.207448</td>\n      <td>Clinton</td>\n    </tr>\n    <tr>\n      <th>9379</th>\n      <td>{'amenity': 'McDonald's', 'house_number': '835...</td>\n      <td>intersection</td>\n      <td>33.543490</td>\n      <td>-84.282393</td>\n      <td>Clayton</td>\n    </tr>\n    <tr>\n      <th>9377</th>\n      <td>{'house_number': '8635', 'road': 'NC 87', 'vil...</td>\n      <td>county_based</td>\n      <td>36.392680</td>\n      <td>-79.744144</td>\n      <td>Rockingham</td>\n    </tr>\n    <tr>\n      <th>9403</th>\n      <td>{'road': 'KY 505', 'county': 'Ohio County', 's...</td>\n      <td>block</td>\n      <td>37.481074</td>\n      <td>-86.690539</td>\n      <td>Ohio</td>\n    </tr>\n    <tr>\n      <th>9412</th>\n      <td>{'house_number': '33998', 'road': 'Colon Road'...</td>\n      <td>intersection</td>\n      <td>41.948376</td>\n      <td>-85.292650</td>\n      <td>Branch</td>\n    </tr>\n    <tr>\n      <th>9469</th>\n      <td>{'county': 'Monterey County', 'state': 'Califo...</td>\n      <td>county_based</td>\n      <td>36.223108</td>\n      <td>-121.387742</td>\n      <td>Monterey</td>\n    </tr>\n    <tr>\n      <th>9450</th>\n      <td>{'road': 'MO 92', 'county': 'Platte County', '...</td>\n      <td>intersection</td>\n      <td>39.331610</td>\n      <td>-94.897327</td>\n      <td>Platte</td>\n    </tr>\n    <tr>\n      <th>9497</th>\n      <td>{'house_number': '601', 'road': 'Pumpkintown R...</td>\n      <td>intersection</td>\n      <td>35.018487</td>\n      <td>-82.572724</td>\n      <td>Pickens</td>\n    </tr>\n    <tr>\n      <th>9755</th>\n      <td>{'road': 'County Road 374', 'county': 'Cross C...</td>\n      <td>county_based</td>\n      <td>35.300122</td>\n      <td>-90.775018</td>\n      <td>Cross</td>\n    </tr>\n    <tr>\n      <th>9521</th>\n      <td>{'house_number': '2574', 'road': 'Lutz Road', ...</td>\n      <td>county_based</td>\n      <td>40.807780</td>\n      <td>-84.057222</td>\n      <td>Allen</td>\n    </tr>\n    <tr>\n      <th>9524</th>\n      <td>{'road': 'West Lewiston Road', 'county': 'Utah...</td>\n      <td>poi_large</td>\n      <td>40.279424</td>\n      <td>-112.149175</td>\n      <td>Utah</td>\n    </tr>\n    <tr>\n      <th>9535</th>\n      <td>{'road': 'Lrc Road', 'hamlet': 'Wartburg', 'co...</td>\n      <td>county_based</td>\n      <td>38.272231</td>\n      <td>-90.179248</td>\n      <td>Monroe</td>\n    </tr>\n    <tr>\n      <th>9546</th>\n      <td>{'house_number': '2635', 'road': 'Benson Poole...</td>\n      <td>intersection</td>\n      <td>33.889616</td>\n      <td>-84.546575</td>\n      <td>Cobb</td>\n    </tr>\n    <tr>\n      <th>9852</th>\n      <td>{'road': 'Cassin Ridge Route', 'county': 'Dena...</td>\n      <td>county_based</td>\n      <td>63.069115</td>\n      <td>-151.006239</td>\n      <td>Denali</td>\n    </tr>\n    <tr>\n      <th>9643</th>\n      <td>{'road': 'Alvies Bench Road', 'county': 'Wasat...</td>\n      <td>county_based</td>\n      <td>40.334834</td>\n      <td>-111.118699</td>\n      <td>Wasatch</td>\n    </tr>\n    <tr>\n      <th>9837</th>\n      <td>{'house_number': '470', 'road': 'Tweedy Road',...</td>\n      <td>intersection</td>\n      <td>35.187058</td>\n      <td>-91.877528</td>\n      <td>White</td>\n    </tr>\n    <tr>\n      <th>9833</th>\n      <td>{'road': 'Veterans Drive', 'town': 'Harrisburg...</td>\n      <td>county_based</td>\n      <td>37.750075</td>\n      <td>-88.530258</td>\n      <td>Saline</td>\n    </tr>\n    <tr>\n      <th>9894</th>\n      <td>{'road': 'Harris Road', 'county': 'Marion Coun...</td>\n      <td>county_based</td>\n      <td>32.793166</td>\n      <td>-94.344488</td>\n      <td>Marion</td>\n    </tr>\n    <tr>\n      <th>9870</th>\n      <td>{'road': 'North Riverside Avenue', 'town': 'St...</td>\n      <td>county_based</td>\n      <td>41.913981</td>\n      <td>-88.312818</td>\n      <td>St. Charles</td>\n    </tr>\n    <tr>\n      <th>9969</th>\n      <td>{'road': 'County Road 126', 'county': 'Gaines ...</td>\n      <td>road</td>\n      <td>32.900944</td>\n      <td>-102.504833</td>\n      <td>Gaines</td>\n    </tr>\n    <tr>\n      <th>9924</th>\n      <td>{'road': 'Richmond Highway', 'town': 'Stafford...</td>\n      <td>block</td>\n      <td>38.442051</td>\n      <td>-77.402552</td>\n      <td>Stafford</td>\n    </tr>\n    <tr>\n      <th>9968</th>\n      <td>{'house_number': '61', 'road': 'Leona Drive', ...</td>\n      <td>address</td>\n      <td>39.843062</td>\n      <td>-104.987978</td>\n      <td>Adams</td>\n    </tr>\n  </tbody>\n</table>\n</div>"
     },
     "execution_count": 36,
     "metadata": {},
     "output_type": "execute_result"
    }
   ],
   "source": [
    "geopy_address_retrieved = shooting_data.Geopy_Address.notnull()\n",
    "shooting_data[[\"Geopy_Address\",\n",
    "               \"location_precision\",\n",
    "               \"latitude\",\n",
    "               \"longitude\",\n",
    "               \"county\"]][geopy_address_retrieved]"
   ],
   "metadata": {
    "collapsed": false,
    "ExecuteTime": {
     "end_time": "2024-04-02T16:14:36.222574Z",
     "start_time": "2024-04-02T16:14:36.160100Z"
    }
   },
   "id": "3b54d33dbb689760",
   "execution_count": 36
  },
  {
   "cell_type": "code",
   "outputs": [],
   "source": [
    "# Filling city feature values for road areas\n",
    "shooting_data.Geopy_City.fillna(\"non_city\", inplace=True)"
   ],
   "metadata": {
    "collapsed": false,
    "ExecuteTime": {
     "end_time": "2024-04-02T16:14:36.223959Z",
     "start_time": "2024-04-02T16:14:36.186279Z"
    }
   },
   "id": "864c6ff8630f6351",
   "execution_count": 37
  },
  {
   "cell_type": "code",
   "outputs": [],
   "source": [
    "# Geopy retrieved city names to city feature missing data\n",
    "shooting_data.city.fillna(shooting_data[\"Geopy_City\"],\n",
    "                          inplace=True)"
   ],
   "metadata": {
    "collapsed": false,
    "ExecuteTime": {
     "end_time": "2024-04-02T16:14:36.225152Z",
     "start_time": "2024-04-02T16:14:36.191422Z"
    }
   },
   "id": "5042e23a19f9bf07",
   "execution_count": 38
  },
  {
   "cell_type": "code",
   "outputs": [
    {
     "data": {
      "text/plain": "False"
     },
     "execution_count": 39,
     "metadata": {},
     "output_type": "execute_result"
    }
   ],
   "source": [
    "# Checking if city feature has any NaN values left\n",
    "shooting_data.city.isnull().any()"
   ],
   "metadata": {
    "collapsed": false,
    "ExecuteTime": {
     "end_time": "2024-04-02T16:14:36.234396Z",
     "start_time": "2024-04-02T16:14:36.197084Z"
    }
   },
   "id": "e1af4cd9e43ba442",
   "execution_count": 39
  },
  {
   "cell_type": "markdown",
   "source": [
    "### Retrieving county data\n",
    "- County Values that are retrieved by get_address function are used to fill missing county values for non_city areas.\n",
    "- Retrieving county data is done by creating new feature City_State. This feature will be used to identify the county from city and state values."
   ],
   "metadata": {
    "collapsed": false
   },
   "id": "389ffec0cf855a4c"
  },
  {
   "cell_type": "code",
   "outputs": [],
   "source": [
    "# Function to retrieve the county value using latitude and longitude\n",
    "def get_county(latitudes, longitudes):\n",
    "    \"\"\"Function retrieves county name using latitude and longitude.\n",
    "    Nominatim geolocator services are used.\"\"\"\n",
    "    geolocator = Nominatim(user_agent=\"DS_project\")\n",
    "    try:\n",
    "        time.sleep(1)  # Rate limits of the service\n",
    "\n",
    "        locate = geolocator.reverse((latitudes, longitudes),\n",
    "                                    language=\"en\", timeout=10)\n",
    "        if locate:\n",
    "            return locate.raw['address'][\"county\"]\n",
    "    except Exception as e:\n",
    "        error_message = (f\"Error getting county for: \"\n",
    "                         f\"{latitudes, longitudes}: {e}\")\n",
    "        write_error_to_csv(error_message,\n",
    "                           \"/Users/agnekrupinskaite/PycharmProjects/\"\n",
    "                           \"agkrupi-DWWP.4.1/Error_logs\",\n",
    "                           \"error_log_get_county.csv\")\n",
    "    return None"
   ],
   "metadata": {
    "collapsed": false,
    "ExecuteTime": {
     "end_time": "2024-04-02T16:14:36.235854Z",
     "start_time": "2024-04-02T16:14:36.202729Z"
    }
   },
   "id": "a389ed209b88eeaf",
   "execution_count": 40
  },
  {
   "cell_type": "code",
   "outputs": [
    {
     "data": {
      "text/plain": "'Lamar County'"
     },
     "execution_count": 41,
     "metadata": {},
     "output_type": "execute_result"
    }
   ],
   "source": [
    "# Testing function get_county\n",
    "get_county(33.679264, -88.157733)"
   ],
   "metadata": {
    "collapsed": false,
    "ExecuteTime": {
     "end_time": "2024-04-02T16:14:37.559418Z",
     "start_time": "2024-04-02T16:14:36.206690Z"
    }
   },
   "id": "818925c2e0a1b85a",
   "execution_count": 41
  },
  {
   "cell_type": "code",
   "outputs": [
    {
     "data": {
      "text/plain": "             city location_precision   latitude   longitude\nid                                                         \n1226  Phenix City      not_available  32.486181  -85.066714\n1221      Chicago      not_available  41.761132  -87.666495\n1288  Bakersfield      not_available  35.296118 -118.914344\n6588    Riverdale      not_available  33.574911  -84.416607\n1282          Jal      not_available  32.165763 -103.426244",
      "text/html": "<div>\n<style scoped>\n    .dataframe tbody tr th:only-of-type {\n        vertical-align: middle;\n    }\n\n    .dataframe tbody tr th {\n        vertical-align: top;\n    }\n\n    .dataframe thead th {\n        text-align: right;\n    }\n</style>\n<table border=\"1\" class=\"dataframe\">\n  <thead>\n    <tr style=\"text-align: right;\">\n      <th></th>\n      <th>city</th>\n      <th>location_precision</th>\n      <th>latitude</th>\n      <th>longitude</th>\n    </tr>\n    <tr>\n      <th>id</th>\n      <th></th>\n      <th></th>\n      <th></th>\n      <th></th>\n    </tr>\n  </thead>\n  <tbody>\n    <tr>\n      <th>1226</th>\n      <td>Phenix City</td>\n      <td>not_available</td>\n      <td>32.486181</td>\n      <td>-85.066714</td>\n    </tr>\n    <tr>\n      <th>1221</th>\n      <td>Chicago</td>\n      <td>not_available</td>\n      <td>41.761132</td>\n      <td>-87.666495</td>\n    </tr>\n    <tr>\n      <th>1288</th>\n      <td>Bakersfield</td>\n      <td>not_available</td>\n      <td>35.296118</td>\n      <td>-118.914344</td>\n    </tr>\n    <tr>\n      <th>6588</th>\n      <td>Riverdale</td>\n      <td>not_available</td>\n      <td>33.574911</td>\n      <td>-84.416607</td>\n    </tr>\n    <tr>\n      <th>1282</th>\n      <td>Jal</td>\n      <td>not_available</td>\n      <td>32.165763</td>\n      <td>-103.426244</td>\n    </tr>\n  </tbody>\n</table>\n</div>"
     },
     "execution_count": 42,
     "metadata": {},
     "output_type": "execute_result"
    }
   ],
   "source": [
    "# Filtering the dataframe to identify counties that need to be imputed\n",
    "no_county = shooting_data.county.isna()\n",
    "shooting_data[no_county][[\"city\",\n",
    "                          \"location_precision\",\n",
    "                          \"latitude\",\n",
    "                          \"longitude\"]].head()"
   ],
   "metadata": {
    "collapsed": false,
    "ExecuteTime": {
     "end_time": "2024-04-02T16:14:37.580811Z",
     "start_time": "2024-04-02T16:14:37.559635Z"
    }
   },
   "id": "8debaef347285a59",
   "execution_count": 42
  },
  {
   "cell_type": "code",
   "outputs": [
    {
     "data": {
      "text/plain": "4731"
     },
     "execution_count": 43,
     "metadata": {},
     "output_type": "execute_result"
    }
   ],
   "source": [
    "# Checking how many values will need to be imputed\n",
    "no_county_count = shooting_data.county.isna().sum()\n",
    "no_county_count"
   ],
   "metadata": {
    "collapsed": false,
    "ExecuteTime": {
     "end_time": "2024-04-02T16:14:37.599842Z",
     "start_time": "2024-04-02T16:14:37.575282Z"
    }
   },
   "id": "88748931fa164a3",
   "execution_count": 43
  },
  {
   "cell_type": "code",
   "outputs": [
    {
     "data": {
      "text/plain": "Processing:   0%|          | 0/4731 [00:00<?, ?it/s]",
      "application/vnd.jupyter.widget-view+json": {
       "version_major": 2,
       "version_minor": 0,
       "model_id": "4878b37b91614ad588f8b95488e420aa"
      }
     },
     "metadata": {},
     "output_type": "display_data"
    }
   ],
   "source": [
    "# Apply get_county function to impute missing county values\n",
    "lat_long = shooting_data.loc[\n",
    "    no_county, [\"latitude\", \"longitude\"]]\n",
    "\n",
    "# Getting the total number of iterations\n",
    "total_iterations = len(shooting_data.loc[\n",
    "    no_county, [\"latitude\"]])\n",
    "\n",
    "# Apply the function with tqdm for progress bar\n",
    "with tqdm(total=total_iterations, desc=\"Processing\") as pbar:\n",
    "    def apply_with_progress(row):\n",
    "        global pbar\n",
    "        pbar.update(1)\n",
    "        return get_county(row[\"latitude\"], row[\"longitude\"])\n",
    "\n",
    "    # Apply the function to each row in the DataFrame\n",
    "    shooting_data.loc[no_county, \"Geopy_County\"] = lat_long.apply(\n",
    "        apply_with_progress, axis=1)"
   ],
   "metadata": {
    "collapsed": false,
    "ExecuteTime": {
     "end_time": "2024-04-02T18:05:14.358656Z",
     "start_time": "2024-04-02T16:14:37.582845Z"
    }
   },
   "id": "93bd3a2c56b6c42c",
   "execution_count": 44
  },
  {
   "cell_type": "code",
   "outputs": [
    {
     "data": {
      "text/plain": "                 city state county Geopy_County   latitude   longitude\nid                                                                    \n2272         Alhambra    CA    NaN         None  34.095334 -118.155482\n2452        Baltimore    MD    NaN         None  39.302031  -76.645894\n2667       Alexandria    VA    NaN         None  38.805110  -77.047023\n2693  Hollywood Hills    CA    NaN         None  34.104619 -118.346179\n2716      Los Angeles    CA    NaN         None  34.059054 -118.263486",
      "text/html": "<div>\n<style scoped>\n    .dataframe tbody tr th:only-of-type {\n        vertical-align: middle;\n    }\n\n    .dataframe tbody tr th {\n        vertical-align: top;\n    }\n\n    .dataframe thead th {\n        text-align: right;\n    }\n</style>\n<table border=\"1\" class=\"dataframe\">\n  <thead>\n    <tr style=\"text-align: right;\">\n      <th></th>\n      <th>city</th>\n      <th>state</th>\n      <th>county</th>\n      <th>Geopy_County</th>\n      <th>latitude</th>\n      <th>longitude</th>\n    </tr>\n    <tr>\n      <th>id</th>\n      <th></th>\n      <th></th>\n      <th></th>\n      <th></th>\n      <th></th>\n      <th></th>\n    </tr>\n  </thead>\n  <tbody>\n    <tr>\n      <th>2272</th>\n      <td>Alhambra</td>\n      <td>CA</td>\n      <td>NaN</td>\n      <td>None</td>\n      <td>34.095334</td>\n      <td>-118.155482</td>\n    </tr>\n    <tr>\n      <th>2452</th>\n      <td>Baltimore</td>\n      <td>MD</td>\n      <td>NaN</td>\n      <td>None</td>\n      <td>39.302031</td>\n      <td>-76.645894</td>\n    </tr>\n    <tr>\n      <th>2667</th>\n      <td>Alexandria</td>\n      <td>VA</td>\n      <td>NaN</td>\n      <td>None</td>\n      <td>38.805110</td>\n      <td>-77.047023</td>\n    </tr>\n    <tr>\n      <th>2693</th>\n      <td>Hollywood Hills</td>\n      <td>CA</td>\n      <td>NaN</td>\n      <td>None</td>\n      <td>34.104619</td>\n      <td>-118.346179</td>\n    </tr>\n    <tr>\n      <th>2716</th>\n      <td>Los Angeles</td>\n      <td>CA</td>\n      <td>NaN</td>\n      <td>None</td>\n      <td>34.059054</td>\n      <td>-118.263486</td>\n    </tr>\n  </tbody>\n</table>\n</div>"
     },
     "execution_count": 45,
     "metadata": {},
     "output_type": "execute_result"
    }
   ],
   "source": [
    "# Checking for observations, that have no county, Geopy_county\n",
    "columns_to_check = ['county', 'Geopy_County']\n",
    "no_county_geopy_county = shooting_data[\n",
    "    columns_to_check].isnull().all(axis=1)\n",
    "\n",
    "shooting_data[[\"city\", \"state\", \"county\",\n",
    "               \"Geopy_County\", \"latitude\",\n",
    "               \"longitude\"]][no_county_geopy_county].head()"
   ],
   "metadata": {
    "collapsed": false,
    "ExecuteTime": {
     "end_time": "2024-04-02T18:05:14.380822Z",
     "start_time": "2024-04-02T18:05:14.363603Z"
    }
   },
   "id": "ed500c0a3082c3cb",
   "execution_count": 45
  },
  {
   "cell_type": "code",
   "outputs": [
    {
     "data": {
      "text/plain": "251"
     },
     "execution_count": 46,
     "metadata": {},
     "output_type": "execute_result"
    }
   ],
   "source": [
    "no_county_geopy_county = shooting_data[\n",
    "    columns_to_check].isnull().all(axis=1).sum()\n",
    "no_county_geopy_county"
   ],
   "metadata": {
    "collapsed": false,
    "ExecuteTime": {
     "end_time": "2024-04-02T18:05:14.389235Z",
     "start_time": "2024-04-02T18:05:14.378532Z"
    }
   },
   "id": "6833006cf8ab4b32",
   "execution_count": 46
  },
  {
   "cell_type": "code",
   "outputs": [],
   "source": [
    "# Creating function to retrieve county data\n",
    "def get_county_cs(city_state):\n",
    "    \"\"\"Function retrieves county name using city and state.\n",
    "    Nominatim geolocator services are used.\"\"\"\n",
    "    geolocator = Nominatim(user_agent=\"DS_project\")\n",
    "    try:\n",
    "        time.sleep(1)  # Rate limits of the service\n",
    "\n",
    "        location = geolocator.geocode(city_state,\n",
    "                                      language=\"en\",\n",
    "                                      timeout=10)\n",
    "        if location:\n",
    "            county = str(location).split(sep=\",\")[1].strip()\n",
    "            return county\n",
    "    except Exception as e:\n",
    "        error_message = f\"Error getting county for: {city_state}: {e}\"\n",
    "        write_error_to_csv(error_message, \n",
    "                           \"/Users/agnekrupinskaite/PycharmProjects/\"\n",
    "                           \"agkrupi-DWWP.4.1/Error_logs\",\n",
    "                           \"error_log_get_county_cs.csv\")\n",
    "    return None"
   ],
   "metadata": {
    "collapsed": false,
    "ExecuteTime": {
     "end_time": "2024-04-02T18:05:14.432015Z",
     "start_time": "2024-04-02T18:05:14.385037Z"
    }
   },
   "id": "3538ba230ddb20f3",
   "execution_count": 47
  },
  {
   "cell_type": "code",
   "outputs": [
    {
     "data": {
      "text/plain": "'Beaverton'"
     },
     "execution_count": 48,
     "metadata": {},
     "output_type": "execute_result"
    }
   ],
   "source": [
    "# Testing get_county function works\n",
    "get_county_cs(\"Aloha, OR\")"
   ],
   "metadata": {
    "collapsed": false,
    "ExecuteTime": {
     "end_time": "2024-04-02T18:05:15.768930Z",
     "start_time": "2024-04-02T18:05:14.388493Z"
    }
   },
   "id": "63eb69315cd2f8d0",
   "execution_count": 48
  },
  {
   "cell_type": "code",
   "outputs": [
    {
     "data": {
      "text/plain": "Processing:   0%|          | 0/251 [00:00<?, ?it/s]",
      "application/vnd.jupyter.widget-view+json": {
       "version_major": 2,
       "version_minor": 0,
       "model_id": "d2e65277c00b40e2a09ff2f495885040"
      }
     },
     "metadata": {},
     "output_type": "display_data"
    }
   ],
   "source": [
    "# Apply the get_county function\n",
    "county_geopy_county_mask = [\"county\", \"Geopy_County\"]\n",
    "no_county_geopy_county = shooting_data[\n",
    "    county_geopy_county_mask].isnull().all(axis=1)\n",
    "\n",
    "# Get the total number of iterations\n",
    "total_iterations = len(shooting_data.loc[\n",
    "                           no_county_geopy_county, \"City_State\"])\n",
    "\n",
    "# Apply the function with tqdm for progress bar\n",
    "with tqdm(total=total_iterations, desc=\"Processing\") as pbar:\n",
    "    def apply_with_progress(row):\n",
    "        global pbar\n",
    "        pbar.update(1)\n",
    "        return get_county_cs(row[\"City_State\"])\n",
    "\n",
    "    # Apply the function to each row in the DataFrame\n",
    "    shooting_data.loc[no_county_geopy_county,\n",
    "    \"Geopy_County\"] = shooting_data.loc[no_county_geopy_county\n",
    "    ].apply(apply_with_progress, axis=1)"
   ],
   "metadata": {
    "collapsed": false,
    "ExecuteTime": {
     "end_time": "2024-04-02T18:12:00.660122Z",
     "start_time": "2024-04-02T18:05:15.772142Z"
    }
   },
   "id": "d60f4b807a2c27ac",
   "execution_count": 49
  },
  {
   "cell_type": "code",
   "outputs": [
    {
     "data": {
      "text/plain": "1"
     },
     "execution_count": 50,
     "metadata": {},
     "output_type": "execute_result"
    }
   ],
   "source": [
    "no_county_geopy_county = shooting_data[\n",
    "    columns_to_check].isnull().all(axis=1).sum()\n",
    "no_county_geopy_county"
   ],
   "metadata": {
    "collapsed": false,
    "ExecuteTime": {
     "end_time": "2024-04-02T18:12:00.665616Z",
     "start_time": "2024-04-02T18:12:00.656709Z"
    }
   },
   "id": "3ebd5c4e286bd02b",
   "execution_count": 50
  },
  {
   "cell_type": "code",
   "outputs": [
    {
     "data": {
      "text/plain": "                                   city state county Geopy_County  latitude  \\\nid                                                                            \n9236  Tohono O'odham Nation Reservation    AZ    NaN         None   31.9887   \n\n      longitude  \nid               \n9236   112.0476  ",
      "text/html": "<div>\n<style scoped>\n    .dataframe tbody tr th:only-of-type {\n        vertical-align: middle;\n    }\n\n    .dataframe tbody tr th {\n        vertical-align: top;\n    }\n\n    .dataframe thead th {\n        text-align: right;\n    }\n</style>\n<table border=\"1\" class=\"dataframe\">\n  <thead>\n    <tr style=\"text-align: right;\">\n      <th></th>\n      <th>city</th>\n      <th>state</th>\n      <th>county</th>\n      <th>Geopy_County</th>\n      <th>latitude</th>\n      <th>longitude</th>\n    </tr>\n    <tr>\n      <th>id</th>\n      <th></th>\n      <th></th>\n      <th></th>\n      <th></th>\n      <th></th>\n      <th></th>\n    </tr>\n  </thead>\n  <tbody>\n    <tr>\n      <th>9236</th>\n      <td>Tohono O'odham Nation Reservation</td>\n      <td>AZ</td>\n      <td>NaN</td>\n      <td>None</td>\n      <td>31.9887</td>\n      <td>112.0476</td>\n    </tr>\n  </tbody>\n</table>\n</div>"
     },
     "execution_count": 51,
     "metadata": {},
     "output_type": "execute_result"
    }
   ],
   "source": [
    "# Checking for observations, that have no county, Geopy_county\n",
    "columns_to_check = ['county', 'Geopy_County']\n",
    "no_county_geopy_county = shooting_data[\n",
    "    columns_to_check].isnull().all(axis=1)\n",
    "\n",
    "shooting_data[[\"city\", \"state\", \"county\",\n",
    "               \"Geopy_County\", \"latitude\",\n",
    "               \"longitude\"]][no_county_geopy_county].head()"
   ],
   "metadata": {
    "collapsed": false,
    "ExecuteTime": {
     "end_time": "2024-04-02T18:12:00.672954Z",
     "start_time": "2024-04-02T18:12:00.666844Z"
    }
   },
   "id": "db5c3e0ae2717ce3",
   "execution_count": 51
  },
  {
   "cell_type": "code",
   "outputs": [],
   "source": [
    "# Fixing observation 9236 manually, because data was not added by functions\n",
    "\n",
    "# Observation 9236 fixes\n",
    "shooting_data.loc[9236, \"county\"] = \"multiple_counties\""
   ],
   "metadata": {
    "collapsed": false,
    "ExecuteTime": {
     "end_time": "2024-04-02T18:12:00.675953Z",
     "start_time": "2024-04-02T18:12:00.673880Z"
    }
   },
   "id": "59707e05cc6d276",
   "execution_count": 52
  },
  {
   "cell_type": "code",
   "outputs": [],
   "source": [
    "# Filling missing values with county retrieved values\n",
    "shooting_data.county.fillna(shooting_data[\"Geopy_County\"],\n",
    "                            inplace=True)"
   ],
   "metadata": {
    "collapsed": false,
    "ExecuteTime": {
     "end_time": "2024-04-02T18:12:00.702111Z",
     "start_time": "2024-04-02T18:12:00.677075Z"
    }
   },
   "id": "ecfc0454a69e1b3c",
   "execution_count": 53
  },
  {
   "cell_type": "code",
   "outputs": [
    {
     "name": "stdout",
     "output_type": "stream",
     "text": [
      "Number of NaN values left in county feature 0.\n",
      "Number of NaN values left in city feature 0.\n",
      "Number of NaN values left in latitude feature 0.\n",
      "Number of NaN values left in longitude feature 0.\n",
      "Number of NaN values left in location_precision feature 0.\n"
     ]
    }
   ],
   "source": [
    "# Checking if location features have missing values\n",
    "county_cleaning = shooting_data.county.isnull().any().sum()\n",
    "city_cleaning = shooting_data.city.isnull().any().sum()\n",
    "latitude_cleaning = shooting_data.latitude.isnull().any().sum()\n",
    "longitude_cleaning = shooting_data.longitude.isnull().any().sum()\n",
    "lp_cleaning = shooting_data.location_precision.isnull().any().sum()\n",
    "\n",
    "print(f\"Number of NaN values left in county feature \"\n",
    "      f\"{county_cleaning}.\")\n",
    "print(f\"Number of NaN values left in city feature \"\n",
    "      f\"{city_cleaning}.\")\n",
    "print(f\"Number of NaN values left in latitude feature \"\n",
    "      f\"{latitude_cleaning}.\")\n",
    "print(f\"Number of NaN values left in longitude feature \"\n",
    "      f\"{longitude_cleaning}.\")\n",
    "print(f\"Number of NaN values left in location_precision feature \"\n",
    "      f\"{lp_cleaning}.\")"
   ],
   "metadata": {
    "collapsed": false,
    "ExecuteTime": {
     "end_time": "2024-04-02T18:12:00.702723Z",
     "start_time": "2024-04-02T18:12:00.682149Z"
    }
   },
   "id": "9954d0044f0759ed",
   "execution_count": 54
  },
  {
   "cell_type": "code",
   "outputs": [],
   "source": [
    "# Exporting dataset with all features\n",
    "file_path = (\"/Users/agnekrupinskaite/\"\n",
    "             \"PycharmProjects/agkrupi-DWWP.4.1/\"\n",
    "             \"Data_preprocessing_full_files/\"\n",
    "             \"washington_post_v3_full.csv\")\n",
    "shooting_data.to_csv(file_path,\n",
    "                     header=True, index=True)"
   ],
   "metadata": {
    "collapsed": false,
    "ExecuteTime": {
     "end_time": "2024-04-02T18:12:00.761671Z",
     "start_time": "2024-04-02T18:12:00.695147Z"
    }
   },
   "id": "15e4502ff5f89143",
   "execution_count": 55
  },
  {
   "cell_type": "code",
   "outputs": [],
   "source": [
    "# Removing columns not needed for analysis\n",
    "shooting_data.drop(columns=[\"City_State\",\n",
    "                            \"Geopy_lat_long_county\",\n",
    "                            \"Geopy_City\",\n",
    "                            \"Geopy_County\",\n",
    "                            \"Geopy_Address\",\n",
    "                            \"Geopy_Lat_long\"\n",
    "                            ], inplace=True)"
   ],
   "metadata": {
    "collapsed": false,
    "ExecuteTime": {
     "end_time": "2024-04-02T18:12:00.762434Z",
     "start_time": "2024-04-02T18:12:00.755021Z"
    }
   },
   "id": "6c1ab3ecd756de8e",
   "execution_count": 56
  },
  {
   "cell_type": "code",
   "outputs": [],
   "source": [
    "# Exporting dataset for further features imputation\n",
    "shooting_data.to_csv(\"washington_post_v3_clean.csv\", \n",
    "                     header=True, index=True)"
   ],
   "metadata": {
    "collapsed": false,
    "ExecuteTime": {
     "end_time": "2024-04-02T18:12:00.805519Z",
     "start_time": "2024-04-02T18:12:00.759077Z"
    }
   },
   "id": "818d5af88f5fed2e",
   "execution_count": 57
  },
  {
   "cell_type": "markdown",
   "source": [
    "# Location data imputation conclusions\n",
    "- Location related feature are successfully retrieved using geopy library.\n",
    "- After the values imputation, no NaN values are left in location related features.\n",
    "- Dataset is exported to csv with new columns: washington_post_v3_full.csv.\n",
    "- Newly created columns are dropped from dataframe.\n",
    "- Final csv file is created to continue other features imputation: washington_post_v3_clean.csv."
   ],
   "metadata": {
    "collapsed": false
   },
   "id": "18bb18f09e209a0c"
  },
  {
   "cell_type": "code",
   "outputs": [],
   "source": [],
   "metadata": {
    "collapsed": false,
    "ExecuteTime": {
     "end_time": "2024-04-02T18:12:00.807294Z",
     "start_time": "2024-04-02T18:12:00.805765Z"
    }
   },
   "id": "1090388a1e4ba98e",
   "execution_count": 57
  }
 ],
 "metadata": {
  "kernelspec": {
   "display_name": "Python 3",
   "language": "python",
   "name": "python3"
  },
  "language_info": {
   "codemirror_mode": {
    "name": "ipython",
    "version": 2
   },
   "file_extension": ".py",
   "mimetype": "text/x-python",
   "name": "python",
   "nbconvert_exporter": "python",
   "pygments_lexer": "ipython2",
   "version": "2.7.6"
  }
 },
 "nbformat": 4,
 "nbformat_minor": 5
}
